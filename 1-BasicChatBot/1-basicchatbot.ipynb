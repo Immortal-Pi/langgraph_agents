{
 "cells": [
  {
   "cell_type": "markdown",
   "id": "583582ca",
   "metadata": {},
   "source": [
    "# build a basic chatbot with langraph(graph API)"
   ]
  },
  {
   "cell_type": "code",
   "execution_count": 4,
   "id": "d744ed96",
   "metadata": {},
   "outputs": [],
   "source": [
    "from typing import Annotated\n",
    "from typing_extensions import TypedDict\n",
    "from langgraph.graph import StateGraph, START, END \n",
    "from langgraph.graph.message import add_messages # reducers\n"
   ]
  },
  {
   "cell_type": "code",
   "execution_count": 5,
   "id": "14ab0fa1",
   "metadata": {},
   "outputs": [],
   "source": [
    "class State(TypedDict): # return type is dictionary\n",
    "    # messages have the type \"list\". the add_messages function\n",
    "    # in the annotation defines how this state key should be updated \n",
    "    # (in this case, it appends messages to the list, rather than overwriting them)\n",
    "    messages: Annotated[list,add_messages]\n",
    "graph_builder=StateGraph(State)"
   ]
  },
  {
   "cell_type": "code",
   "execution_count": 6,
   "id": "837cef81",
   "metadata": {},
   "outputs": [
    {
     "data": {
      "text/plain": [
       "<langgraph.graph.state.StateGraph at 0x2605b639f70>"
      ]
     },
     "execution_count": 6,
     "metadata": {},
     "output_type": "execute_result"
    }
   ],
   "source": [
    "graph_builder"
   ]
  },
  {
   "cell_type": "code",
   "execution_count": 7,
   "id": "43d996fd",
   "metadata": {},
   "outputs": [
    {
     "data": {
      "text/plain": [
       "True"
      ]
     },
     "execution_count": 7,
     "metadata": {},
     "output_type": "execute_result"
    }
   ],
   "source": [
    "import os \n",
    "from dotenv import load_dotenv\n",
    "load_dotenv()"
   ]
  },
  {
   "cell_type": "code",
   "execution_count": 8,
   "id": "43b8e139",
   "metadata": {},
   "outputs": [],
   "source": [
    "# define LLM's\n",
    "from langchain_groq import ChatGroq\n",
    "from langchain_openai import AzureChatOpenAI\n",
    "\n",
    "llm_open_ai=AzureChatOpenAI(\n",
    "    azure_deployment='gpt-4o',\n",
    "    api_key=os.getenv('AZURE_OPENAI_GPT_4O_API_KEY'),\n",
    "    azure_endpoint=os.getenv('AZURE_OPENAI_GPT_4O_API_ENDPOINT'),\n",
    "    api_version=os.getenv('AZURE_OPENAI_GPT_4O_API_VERSION')\n",
    ")\n",
    "\n",
    "llm_groq=ChatGroq(model='deepseek-r1-distill-llama-70b',api_key=os.getenv('GROQ_API'))\n"
   ]
  },
  {
   "cell_type": "markdown",
   "id": "d053c6f7",
   "metadata": {},
   "source": [
    "# create a chatbot node"
   ]
  },
  {
   "cell_type": "code",
   "execution_count": 9,
   "id": "dfa98dec",
   "metadata": {},
   "outputs": [],
   "source": [
    "def chatbot(state:State):\n",
    "    return {'messages':[llm_open_ai.invoke(state['messages'])]}\n"
   ]
  },
  {
   "cell_type": "code",
   "execution_count": 10,
   "id": "ee591b1f",
   "metadata": {},
   "outputs": [],
   "source": [
    "graph_builder=StateGraph(State)\n",
    "## Adding node\n",
    "graph_builder.add_node('llmchatbot',chatbot)\n",
    "graph_builder.add_edge(START,'llmchatbot')\n",
    "graph_builder.add_edge('llmchatbot',END)\n",
    "\n",
    "## compile the graph \n",
    "graph=graph_builder.compile()\n"
   ]
  },
  {
   "cell_type": "code",
   "execution_count": 11,
   "id": "4ce90474",
   "metadata": {},
   "outputs": [
    {
     "data": {
      "image/png": "[encoded data removed]",
      "text/plain": [
       "<IPython.core.display.Image object>"
      ]
     },
     "metadata": {},
     "output_type": "display_data"
    }
   ],
   "source": [
    "## Visualize the graph \n",
    "from IPython.display import Image,display \n",
    "\n",
    "try:\n",
    "    display(Image(graph.get_graph().draw_mermaid_png()))\n",
    "except Exception:\n",
    "    pass "
   ]
  },
  {
   "cell_type": "code",
   "execution_count": 22,
   "id": "b82bae2c",
   "metadata": {},
   "outputs": [],
   "source": [
    "response=graph.invoke({'messages':'what is life?'})"
   ]
  },
  {
   "cell_type": "code",
   "execution_count": 13,
   "id": "fe57977f",
   "metadata": {},
   "outputs": [
    {
     "data": {
      "text/plain": [
       "'Hello! How can I assist you today? 😊'"
      ]
     },
     "execution_count": 13,
     "metadata": {},
     "output_type": "execute_result"
    }
   ],
   "source": [
    "response['messages'][-1].content"
   ]
  },
  {
   "cell_type": "code",
   "execution_count": 14,
   "id": "f1732271",
   "metadata": {},
   "outputs": [
    {
     "name": "stdout",
     "output_type": "stream",
     "text": [
      "Hello! I'm just a virtual assistant, so I don't have feelings, but I'm ready and excited to help you with anything you need. 😊 How are *you* doing?\n"
     ]
    }
   ],
   "source": [
    "for event in graph.stream({'messages':'Hi How are you?'}):\n",
    "    for val in event.values():\n",
    "        print(val['messages'][-1].content)"
   ]
  },
  {
   "cell_type": "code",
   "execution_count": 24,
   "id": "adf5f007",
   "metadata": {},
   "outputs": [
    {
     "name": "stdout",
     "output_type": "stream",
     "text": [
      "HUMAN: sup\n",
      "AI: Hey there! What's up? How can I help you today? 😊\n"
     ]
    }
   ],
   "source": [
    "from langchain_core.messages import HumanMessage\n",
    "response = graph.invoke({\"messages\": [HumanMessage(content=\"Hi\")]})\n",
    "response = graph.invoke({\"messages\": [HumanMessage(content=\"sup\")]})\n",
    "for msg in response['messages']:\n",
    "    print(f\"{msg.type.upper()}: {msg.content}\")\n"
   ]
  },
  {
   "cell_type": "markdown",
   "id": "83279a1d",
   "metadata": {},
   "source": [
    "# chatbot with tools "
   ]
  },
  {
   "cell_type": "code",
   "execution_count": null,
   "id": "6094181a",
   "metadata": {},
   "outputs": [
    {
     "data": {
      "text/plain": [
       "{'query': 'what is langgraph',\n",
       " 'follow_up_questions': None,\n",
       " 'answer': None,\n",
       " 'images': [],\n",
       " 'results': [{'url': 'https://www.datacamp.com/tutorial/langgraph-tutorial',\n",
       "   'title': 'What Is LangGraph and How to Use It? - DataCamp',\n",
       "   'content': 'LangGraph is a library within the LangChain ecosystem that provides a framework for defining, coordinating, and executing multiple LLM agents (or chains) in a structured and efficient manner. By managing the flow of data and the sequence of operations, LangGraph allows developers to focus on the high-level logic of their applications rather than the intricacies of agent coordination. Whether you need a chatbot that can handle various types of user requests or a multi-agent system that performs complex tasks, LangGraph provides the tools to build exactly what you need. LangGraph significantly simplifies the development of complex LLM applications by providing a structured framework for managing state and coordinating agent interactions.',\n",
       "   'score': 0.942385,\n",
       "   'raw_content': None},\n",
       "  {'url': 'https://www.ibm.com/think/topics/langgraph',\n",
       "   'title': 'What is LangGraph? - IBM',\n",
       "   'content': 'LangGraph, created by LangChain, is an open source AI agent framework designed to build, deploy and manage complex generative AI agent workflows. At its core, LangGraph uses the power of graph-based architectures to model and manage the intricate relationships between various components of an AI agent workflow. LangGraph illuminates the processes within an AI workflow, allowing full transparency of the agent’s state. By combining these technologies with a set of APIs and tools, LangGraph provides users with a versatile platform for developing AI solutions and workflows including chatbots, state graphs and other agent-based systems. Nodes: In LangGraph, nodes represent individual components or agents within an AI workflow. LangGraph uses enhanced decision-making by modeling complex relationships between nodes, which means it uses AI agents to analyze their past actions and feedback.',\n",
       "   'score': 0.9385817,\n",
       "   'raw_content': None}],\n",
       " 'response_time': 0.87}"
      ]
     },
     "execution_count": 1,
     "metadata": {},
     "output_type": "execute_result"
    }
   ],
   "source": [
    "from langchain_tavily import TavilySearch\n",
    "\n",
    "tool=TavilySearch(max_results=2)\n",
    "tool.invoke('what is langgraph')"
   ]
  },
  {
   "cell_type": "code",
   "execution_count": 63,
   "id": "810b7eec",
   "metadata": {},
   "outputs": [],
   "source": [
    "## Custom function \n",
    "def multiply(a:int,b:int)-> int:\n",
    "    \"\"\" \n",
    "    Multiply a and b\n",
    "    Agrs:\n",
    "        a (int): first int\n",
    "        b (int): second int \n",
    "    Returns:\n",
    "        int: output int     \n",
    "    \"\"\"\n",
    "    return a*b\n"
   ]
  },
  {
   "cell_type": "code",
   "execution_count": 64,
   "id": "cd03ccfe",
   "metadata": {},
   "outputs": [],
   "source": [
    "tools=[tool,multiply]"
   ]
  },
  {
   "cell_type": "code",
   "execution_count": 65,
   "id": "6b7eaf13",
   "metadata": {},
   "outputs": [
    {
     "data": {
      "text/plain": [
       "RunnableBinding(bound=AzureChatOpenAI(client=<openai.resources.chat.completions.completions.Completions object at 0x000002605E4440B0>, async_client=<openai.resources.chat.completions.completions.AsyncCompletions object at 0x000002605E8FEC30>, root_client=<openai.lib.azure.AzureOpenAI object at 0x000002605DFEF9E0>, root_async_client=<openai.lib.azure.AsyncAzureOpenAI object at 0x000002605E0D76B0>, model_kwargs={}, openai_api_key=SecretStr('**********'), disabled_params={'parallel_tool_calls': None}, azure_endpoint='https://llmops-amruth.openai.azure.com/', deployment_name='gpt-4o', openai_api_version='2024-12-01-preview', openai_api_type='azure'), kwargs={'tools': [{'type': 'function', 'function': {'name': 'tavily_search', 'description': 'A search engine optimized for comprehensive, accurate, and trusted results. Useful for when you need to answer questions about current events. It not only retrieves URLs and snippets, but offers advanced search depths, domain management, time range filters, and image search, this tool delivers real-time, accurate, and citation-backed results.Input should be a search query.', 'parameters': {'properties': {'query': {'description': 'Search query to look up', 'type': 'string'}, 'include_domains': {'anyOf': [{'items': {'type': 'string'}, 'type': 'array'}, {'type': 'null'}], 'default': [], 'description': 'A list of domains to restrict search results to.\\n\\n        Use this parameter when:\\n        1. The user explicitly requests information from specific websites (e.g., \"Find climate data from nasa.gov\")\\n        2. The user mentions an organization or company without specifying the domain (e.g., \"Find information about iPhones from Apple\")\\n\\n        In both cases, you should determine the appropriate domains (e.g., [\"nasa.gov\"] or [\"apple.com\"]) and set this parameter.\\n\\n        Results will ONLY come from the specified domains - no other sources will be included.\\n        Default is None (no domain restriction).\\n        '}, 'exclude_domains': {'anyOf': [{'items': {'type': 'string'}, 'type': 'array'}, {'type': 'null'}], 'default': [], 'description': 'A list of domains to exclude from search results.\\n\\n        Use this parameter when:\\n        1. The user explicitly requests to avoid certain websites (e.g., \"Find information about climate change but not from twitter.com\")\\n        2. The user mentions not wanting results from specific organizations without naming the domain (e.g., \"Find phone reviews but nothing from Apple\")\\n\\n        In both cases, you should determine the appropriate domains to exclude (e.g., [\"twitter.com\"] or [\"apple.com\"]) and set this parameter.\\n\\n        Results will filter out all content from the specified domains.\\n        Default is None (no domain exclusion).\\n        '}, 'search_depth': {'anyOf': [{'enum': ['basic', 'advanced'], 'type': 'string'}, {'type': 'null'}], 'default': 'basic', 'description': 'Controls search thoroughness and result comprehensiveness.\\n    \\n        Use \"basic\" for simple queries requiring quick, straightforward answers.\\n        \\n        Use \"advanced\" (default) for complex queries, specialized topics, \\n        rare information, or when in-depth analysis is needed.\\n        '}, 'include_images': {'anyOf': [{'type': 'boolean'}, {'type': 'null'}], 'default': False, 'description': 'Determines if the search returns relevant images along with text results.\\n   \\n        Set to True when the user explicitly requests visuals or when images would \\n        significantly enhance understanding (e.g., \"Show me what black holes look like,\" \\n        \"Find pictures of Renaissance art\").\\n        \\n        Leave as False (default) for most informational queries where text is sufficient.\\n        '}, 'time_range': {'anyOf': [{'enum': ['day', 'week', 'month', 'year'], 'type': 'string'}, {'type': 'null'}], 'default': None, 'description': 'Limits results to content published within a specific timeframe.\\n        \\n        ONLY set this when the user explicitly mentions a time period \\n        (e.g., \"latest AI news,\" \"articles from last week\").\\n        \\n        For less popular or niche topics, use broader time ranges \\n        (\"month\" or \"year\") to ensure sufficient relevant results.\\n   \\n        Options: \"day\" (24h), \"week\" (7d), \"month\" (30d), \"year\" (365d).\\n        \\n        Default is None.\\n        '}, 'topic': {'anyOf': [{'enum': ['general', 'news', 'finance'], 'type': 'string'}, {'type': 'null'}], 'default': 'general', 'description': 'Specifies search category for optimized results.\\n   \\n        Use \"general\" (default) for most queries, INCLUDING those with terms like \\n        \"latest,\" \"newest,\" or \"recent\" when referring to general information.\\n\\n        Use \"finance\" for markets, investments, economic data, or financial news.\\n\\n        Use \"news\" ONLY for politics, sports, or major current events covered by \\n        mainstream media - NOT simply because a query asks for \"new\" information.\\n        '}}, 'required': ['query'], 'type': 'object'}}}, {'type': 'function', 'function': {'name': 'multiply', 'description': 'Multiply a and b\\nAgrs:\\n    a (int): first int\\n    b (int): second int \\nReturns:\\n    int: output int     ', 'parameters': {'properties': {'a': {'type': 'integer'}, 'b': {'type': 'integer'}}, 'required': ['a', 'b'], 'type': 'object'}}}]}, config={}, config_factories=[])"
      ]
     },
     "execution_count": 65,
     "metadata": {},
     "output_type": "execute_result"
    }
   ],
   "source": [
    "llm_with_tools=llm_open_ai.bind_tools(tools)\n",
    "llm_with_tools"
   ]
  },
  {
   "cell_type": "code",
   "execution_count": 66,
   "id": "fac60df6",
   "metadata": {},
   "outputs": [],
   "source": [
    "## state graph \n",
    "from langgraph.graph import StateGraph,START,END\n",
    "from langgraph.prebuilt import ToolNode\n",
    "from langgraph.prebuilt import tools_condition\n",
    "\n",
    "# node definition \n",
    "def tool_calling_llm(state:State):\n",
    "    return {'messages':[llm_with_tools.invoke(state['messages'])]}\n",
    "\n",
    "## create a graph \n",
    "builder=StateGraph(State)\n",
    "builder.add_node('tool_calling_llm',tool_calling_llm)\n",
    "builder.add_node('tools',ToolNode(tools))\n",
    "builder.add_edge(START,'tool_calling_llm')\n",
    "builder.add_conditional_edges(\n",
    "    'tool_calling_llm',tools_condition\n",
    "    # if the latest message (result) from assistant is a tool call -> tools_confition routes to tools \n",
    "    # if the latest message (result) from assistant is not a tool call -> tools_confition routes to END \n",
    ")\n",
    "builder.add_edge('tools',END)\n",
    "graph=builder.compile()"
   ]
  },
  {
   "cell_type": "code",
   "execution_count": 67,
   "id": "9ab465cd",
   "metadata": {},
   "outputs": [
    {
     "data": {
      "image/png": "[encoded data removed]",
      "text/plain": [
       "<IPython.core.display.Image object>"
      ]
     },
     "metadata": {},
     "output_type": "display_data"
    }
   ],
   "source": [
    "from IPython.display import Image, display\n",
    "\n",
    "display(Image(graph.get_graph().draw_mermaid_png()))"
   ]
  },
  {
   "cell_type": "code",
   "execution_count": 68,
   "id": "139bcc2a",
   "metadata": {},
   "outputs": [
    {
     "data": {
      "text/plain": [
       "{'messages': [HumanMessage(content='what is the resent AI news?', additional_kwargs={}, response_metadata={}, id='b9a3a8e3-11be-419b-98a7-9e1f3c98040c'),\n",
       "  AIMessage(content='', additional_kwargs={'tool_calls': [{'id': 'call_PDcmUbq89TY8wJPmSwE50GTD', 'function': {'arguments': '{\"query\":\"recent AI news\",\"search_depth\":\"advanced\",\"time_range\":\"week\",\"topic\":\"news\"}', 'name': 'tavily_search'}, 'type': 'function'}], 'refusal': None}, response_metadata={'token_usage': {'completion_tokens': 33, 'prompt_tokens': 823, 'total_tokens': 856, 'completion_tokens_details': {'accepted_prediction_tokens': 0, 'audio_tokens': 0, 'reasoning_tokens': 0, 'rejected_prediction_tokens': 0}, 'prompt_tokens_details': {'audio_tokens': 0, 'cached_tokens': 0}}, 'model_name': 'gpt-4o-2024-11-20', 'system_fingerprint': 'fp_ee1d74bde0', 'id': 'chatcmpl-BlRWKzEkbDiHVxfGMWm3GWsDp1sK4', 'service_tier': None, 'prompt_filter_results': [{'prompt_index': 0, 'content_filter_results': {'hate': {'filtered': False, 'severity': 'safe'}, 'jailbreak': {'filtered': False, 'detected': False}, 'self_harm': {'filtered': False, 'severity': 'safe'}, 'sexual': {'filtered': False, 'severity': 'safe'}, 'violence': {'filtered': False, 'severity': 'safe'}}}], 'finish_reason': 'tool_calls', 'logprobs': None, 'content_filter_results': {}}, id='run--87fed747-f26d-4ab9-9ecd-ceebd5ff662e-0', tool_calls=[{'name': 'tavily_search', 'args': {'query': 'recent AI news', 'search_depth': 'advanced', 'time_range': 'week', 'topic': 'news'}, 'id': 'call_PDcmUbq89TY8wJPmSwE50GTD', 'type': 'tool_call'}], usage_metadata={'input_tokens': 823, 'output_tokens': 33, 'total_tokens': 856, 'input_token_details': {'audio': 0, 'cache_read': 0}, 'output_token_details': {'audio': 0, 'reasoning': 0}}),\n",
       "  ToolMessage(content='{\"query\": \"recent AI news\", \"follow_up_questions\": null, \"answer\": null, \"images\": [], \"results\": [{\"url\": \"https://www.techtarget.com/searchenterpriseai/news/366626101/Apple-AI-paper-likely-self-serving-but-has-some-merit\", \"title\": \"Apple AI paper likely self-serving but has some merit - TechTarget\", \"score\": 0.61307496, \"published_date\": \"Tue, 17 Jun 2025 20:18:27 GMT\", \"content\": \"\\\\\"The ambition and the hope are warranted, but if these systems can\\'t perform even on moderately complex tasks, then it\\'s better to understand it relatively early on,\\\\\" Bennett added.\\\\n\\\\nMeanwhile, on June 16, Chinese vendor Alibaba revealed that its new Qwen 3 models will run on Apple devices, including iPhone, iPad, MacBook and Mac.\\\\n\\\\n_Esther Shittu is an Informa TechTarget news writer and podcast host covering AI software and systems._\\\\n\\\\n#### Related Resources [...] Investment in AI continues to grow. Meta, Amazon, Alphabet (Google\\'s parent company) and Microsoft are expected to invest billions of dollars in AI technology in 2025. However, the ROI for the widely popular technology has not yet been proven. [...] Latest TechTarget resources\\\\n   Business Analytics\\\\n   CIO\\\\n   Data Management\\\\n   ERP\\\\n\\\\nSearch Business Analytics\\\\n   ThoughtSpot evolving as BI becomes driven by AI\\\\nRecent releases, including the Agentic Analytics Platform and Agentic Semantic Layer, demonstrate that the vendor continues to be...\\\\n\\\\n   Latest Databricks tools use AI to simplify AI development\\\\nFueled by user feedback, the vendor\\'s newest features include a framework that automates building agents and a no-code interface ...\", \"raw_content\": null}, {\"url\": \"https://www.investopedia.com/amazon-s-ceo-tells-staff-ai-could-lead-to-a-smaller-corporate-workforce-11756555\", \"title\": \"Amazon\\'s CEO Tells Staff AI Could Lead to a Smaller Corporate Workforce - Investopedia\", \"score\": 0.60077465, \"published_date\": \"Tue, 17 Jun 2025 21:29:00 GMT\", \"content\": \"conference.:max_bytes(150000):strip_icc():format(webp)/GettyImages-2215577822-47a75431e5254defb1dd57019a2c8389.jpg) Google Buyouts Could Point to More Tech Layoffs, as Sector Faces Heavy Job LossesImage 9: AMD\\'s \\\\\"Advancing AI\\\\\" event:max_bytes(150000):strip_icc():format(webp)/Screenshot2025-06-12at4.58.35PM-2a3e218f561c45d09abce715571008a6.jpeg) AMD Unveils Its Latest Chips, With ChatGPT Maker OpenAI Among Its CustomersImage 11: Nvidia CEO Jensen Huang meets German Chancellor Friedrich [...] headquarters.:max_bytes(150000):strip_icc():format(webp)/GettyImages-2218457787-7afaea4355494f25acce8a6b5fa05785.jpg) Meta Invests Big in Startup Scale AI, Brings On Its CEO for AI Development EffortsImage 17: People pass the shop front for the media brand Disney Store on London\\'s Oxford Street interacting with stormtrooper figures from the Star Wars films on May 7, 2025:max_bytes(150000):strip_icc():format(webp)/GettyImages-2217902300-c0d3508e1e104b6ebdf25b82bb0cd92c.jpg) Disney, Universal Sue\", \"raw_content\": null}], \"response_time\": 1.36}', name='tavily_search', id='ec458f23-fcc9-4e1d-8aab-a64592ad361a', tool_call_id='call_PDcmUbq89TY8wJPmSwE50GTD')]}"
      ]
     },
     "execution_count": 68,
     "metadata": {},
     "output_type": "execute_result"
    }
   ],
   "source": [
    "response=graph.invoke({\"messages\":'what is the resent AI news?'})\n",
    "response"
   ]
  },
  {
   "cell_type": "code",
   "execution_count": 69,
   "id": "bf38ffc4",
   "metadata": {},
   "outputs": [
    {
     "data": {
      "text/plain": [
       "'{\"query\": \"recent AI news\", \"follow_up_questions\": null, \"answer\": null, \"images\": [], \"results\": [{\"url\": \"https://www.techtarget.com/searchenterpriseai/news/366626101/Apple-AI-paper-likely-self-serving-but-has-some-merit\", \"title\": \"Apple AI paper likely self-serving but has some merit - TechTarget\", \"score\": 0.61307496, \"published_date\": \"Tue, 17 Jun 2025 20:18:27 GMT\", \"content\": \"\\\\\"The ambition and the hope are warranted, but if these systems can\\'t perform even on moderately complex tasks, then it\\'s better to understand it relatively early on,\\\\\" Bennett added.\\\\n\\\\nMeanwhile, on June 16, Chinese vendor Alibaba revealed that its new Qwen 3 models will run on Apple devices, including iPhone, iPad, MacBook and Mac.\\\\n\\\\n_Esther Shittu is an Informa TechTarget news writer and podcast host covering AI software and systems._\\\\n\\\\n#### Related Resources [...] Investment in AI continues to grow. Meta, Amazon, Alphabet (Google\\'s parent company) and Microsoft are expected to invest billions of dollars in AI technology in 2025. However, the ROI for the widely popular technology has not yet been proven. [...] Latest TechTarget resources\\\\n   Business Analytics\\\\n   CIO\\\\n   Data Management\\\\n   ERP\\\\n\\\\nSearch Business Analytics\\\\n   ThoughtSpot evolving as BI becomes driven by AI\\\\nRecent releases, including the Agentic Analytics Platform and Agentic Semantic Layer, demonstrate that the vendor continues to be...\\\\n\\\\n   Latest Databricks tools use AI to simplify AI development\\\\nFueled by user feedback, the vendor\\'s newest features include a framework that automates building agents and a no-code interface ...\", \"raw_content\": null}, {\"url\": \"https://www.investopedia.com/amazon-s-ceo-tells-staff-ai-could-lead-to-a-smaller-corporate-workforce-11756555\", \"title\": \"Amazon\\'s CEO Tells Staff AI Could Lead to a Smaller Corporate Workforce - Investopedia\", \"score\": 0.60077465, \"published_date\": \"Tue, 17 Jun 2025 21:29:00 GMT\", \"content\": \"conference.:max_bytes(150000):strip_icc():format(webp)/GettyImages-2215577822-47a75431e5254defb1dd57019a2c8389.jpg) Google Buyouts Could Point to More Tech Layoffs, as Sector Faces Heavy Job LossesImage 9: AMD\\'s \\\\\"Advancing AI\\\\\" event:max_bytes(150000):strip_icc():format(webp)/Screenshot2025-06-12at4.58.35PM-2a3e218f561c45d09abce715571008a6.jpeg) AMD Unveils Its Latest Chips, With ChatGPT Maker OpenAI Among Its CustomersImage 11: Nvidia CEO Jensen Huang meets German Chancellor Friedrich [...] headquarters.:max_bytes(150000):strip_icc():format(webp)/GettyImages-2218457787-7afaea4355494f25acce8a6b5fa05785.jpg) Meta Invests Big in Startup Scale AI, Brings On Its CEO for AI Development EffortsImage 17: People pass the shop front for the media brand Disney Store on London\\'s Oxford Street interacting with stormtrooper figures from the Star Wars films on May 7, 2025:max_bytes(150000):strip_icc():format(webp)/GettyImages-2217902300-c0d3508e1e104b6ebdf25b82bb0cd92c.jpg) Disney, Universal Sue\", \"raw_content\": null}], \"response_time\": 1.36}'"
      ]
     },
     "execution_count": 69,
     "metadata": {},
     "output_type": "execute_result"
    }
   ],
   "source": [
    "response['messages'][-1].content"
   ]
  },
  {
   "cell_type": "code",
   "execution_count": 70,
   "id": "6699047c",
   "metadata": {},
   "outputs": [
    {
     "name": "stdout",
     "output_type": "stream",
     "text": [
      "================================\u001b[1m Human Message \u001b[0m=================================\n",
      "\n",
      "what is the resent AI news?\n",
      "==================================\u001b[1m Ai Message \u001b[0m==================================\n",
      "Tool Calls:\n",
      "  tavily_search (call_PDcmUbq89TY8wJPmSwE50GTD)\n",
      " Call ID: call_PDcmUbq89TY8wJPmSwE50GTD\n",
      "  Args:\n",
      "    query: recent AI news\n",
      "    search_depth: advanced\n",
      "    time_range: week\n",
      "    topic: news\n",
      "=================================\u001b[1m Tool Message \u001b[0m=================================\n",
      "Name: tavily_search\n",
      "\n",
      "{\"query\": \"recent AI news\", \"follow_up_questions\": null, \"answer\": null, \"images\": [], \"results\": [{\"url\": \"https://www.techtarget.com/searchenterpriseai/news/366626101/Apple-AI-paper-likely-self-serving-but-has-some-merit\", \"title\": \"Apple AI paper likely self-serving but has some merit - TechTarget\", \"score\": 0.61307496, \"published_date\": \"Tue, 17 Jun 2025 20:18:27 GMT\", \"content\": \"\\\"The ambition and the hope are warranted, but if these systems can't perform even on moderately complex tasks, then it's better to understand it relatively early on,\\\" Bennett added.\\n\\nMeanwhile, on June 16, Chinese vendor Alibaba revealed that its new Qwen 3 models will run on Apple devices, including iPhone, iPad, MacBook and Mac.\\n\\n_Esther Shittu is an Informa TechTarget news writer and podcast host covering AI software and systems._\\n\\n#### Related Resources [...] Investment in AI continues to grow. Meta, Amazon, Alphabet (Google's parent company) and Microsoft are expected to invest billions of dollars in AI technology in 2025. However, the ROI for the widely popular technology has not yet been proven. [...] Latest TechTarget resources\\n   Business Analytics\\n   CIO\\n   Data Management\\n   ERP\\n\\nSearch Business Analytics\\n   ThoughtSpot evolving as BI becomes driven by AI\\nRecent releases, including the Agentic Analytics Platform and Agentic Semantic Layer, demonstrate that the vendor continues to be...\\n\\n   Latest Databricks tools use AI to simplify AI development\\nFueled by user feedback, the vendor's newest features include a framework that automates building agents and a no-code interface ...\", \"raw_content\": null}, {\"url\": \"https://www.investopedia.com/amazon-s-ceo-tells-staff-ai-could-lead-to-a-smaller-corporate-workforce-11756555\", \"title\": \"Amazon's CEO Tells Staff AI Could Lead to a Smaller Corporate Workforce - Investopedia\", \"score\": 0.60077465, \"published_date\": \"Tue, 17 Jun 2025 21:29:00 GMT\", \"content\": \"conference.:max_bytes(150000):strip_icc():format(webp)/GettyImages-2215577822-47a75431e5254defb1dd57019a2c8389.jpg) Google Buyouts Could Point to More Tech Layoffs, as Sector Faces Heavy Job LossesImage 9: AMD's \\\"Advancing AI\\\" event:max_bytes(150000):strip_icc():format(webp)/Screenshot2025-06-12at4.58.35PM-2a3e218f561c45d09abce715571008a6.jpeg) AMD Unveils Its Latest Chips, With ChatGPT Maker OpenAI Among Its CustomersImage 11: Nvidia CEO Jensen Huang meets German Chancellor Friedrich [...] headquarters.:max_bytes(150000):strip_icc():format(webp)/GettyImages-2218457787-7afaea4355494f25acce8a6b5fa05785.jpg) Meta Invests Big in Startup Scale AI, Brings On Its CEO for AI Development EffortsImage 17: People pass the shop front for the media brand Disney Store on London's Oxford Street interacting with stormtrooper figures from the Star Wars films on May 7, 2025:max_bytes(150000):strip_icc():format(webp)/GettyImages-2217902300-c0d3508e1e104b6ebdf25b82bb0cd92c.jpg) Disney, Universal Sue\", \"raw_content\": null}], \"response_time\": 1.36}\n"
     ]
    }
   ],
   "source": [
    "for m in response['messages']:\n",
    "    m.pretty_print()"
   ]
  },
  {
   "cell_type": "code",
   "execution_count": 71,
   "id": "fd0b40f0",
   "metadata": {},
   "outputs": [
    {
     "data": {
      "text/plain": [
       "{'messages': [HumanMessage(content='2*3?', additional_kwargs={}, response_metadata={}, id='8b340d2c-9063-444d-a3ab-a3e3e6d12914'),\n",
       "  AIMessage(content='', additional_kwargs={'tool_calls': [{'id': 'call_I0Mb4uOib8ZIVkNIQR3GwbtL', 'function': {'arguments': '{\"a\":2,\"b\":3}', 'name': 'multiply'}, 'type': 'function'}], 'refusal': None}, response_metadata={'token_usage': {'completion_tokens': 18, 'prompt_tokens': 820, 'total_tokens': 838, 'completion_tokens_details': {'accepted_prediction_tokens': 0, 'audio_tokens': 0, 'reasoning_tokens': 0, 'rejected_prediction_tokens': 0}, 'prompt_tokens_details': {'audio_tokens': 0, 'cached_tokens': 0}}, 'model_name': 'gpt-4o-2024-11-20', 'system_fingerprint': 'fp_ee1d74bde0', 'id': 'chatcmpl-BlRWNLcAAlmtwqB83xcsHFt2QRTU7', 'service_tier': None, 'prompt_filter_results': [{'prompt_index': 0, 'content_filter_results': {'hate': {'filtered': False, 'severity': 'safe'}, 'jailbreak': {'filtered': False, 'detected': False}, 'self_harm': {'filtered': False, 'severity': 'safe'}, 'sexual': {'filtered': False, 'severity': 'safe'}, 'violence': {'filtered': False, 'severity': 'safe'}}}], 'finish_reason': 'tool_calls', 'logprobs': None, 'content_filter_results': {}}, id='run--03f58431-fab5-4099-89d4-16d4fa26c165-0', tool_calls=[{'name': 'multiply', 'args': {'a': 2, 'b': 3}, 'id': 'call_I0Mb4uOib8ZIVkNIQR3GwbtL', 'type': 'tool_call'}], usage_metadata={'input_tokens': 820, 'output_tokens': 18, 'total_tokens': 838, 'input_token_details': {'audio': 0, 'cache_read': 0}, 'output_token_details': {'audio': 0, 'reasoning': 0}}),\n",
       "  ToolMessage(content='6', name='multiply', id='37adeda0-9384-48e6-a363-f0463108d2c3', tool_call_id='call_I0Mb4uOib8ZIVkNIQR3GwbtL')]}"
      ]
     },
     "execution_count": 71,
     "metadata": {},
     "output_type": "execute_result"
    }
   ],
   "source": [
    "response=graph.invoke({\"messages\":'2*3?'})\n",
    "response"
   ]
  },
  {
   "cell_type": "code",
   "execution_count": 72,
   "id": "8690efb6",
   "metadata": {},
   "outputs": [
    {
     "name": "stdout",
     "output_type": "stream",
     "text": [
      "================================\u001b[1m Human Message \u001b[0m=================================\n",
      "\n",
      "2*3?\n",
      "==================================\u001b[1m Ai Message \u001b[0m==================================\n",
      "Tool Calls:\n",
      "  multiply (call_I0Mb4uOib8ZIVkNIQR3GwbtL)\n",
      " Call ID: call_I0Mb4uOib8ZIVkNIQR3GwbtL\n",
      "  Args:\n",
      "    a: 2\n",
      "    b: 3\n",
      "=================================\u001b[1m Tool Message \u001b[0m=================================\n",
      "Name: multiply\n",
      "\n",
      "6\n"
     ]
    }
   ],
   "source": [
    "for m in response['messages']:\n",
    "    m.pretty_print()"
   ]
  },
  {
   "cell_type": "code",
   "execution_count": 73,
   "id": "34817ba9",
   "metadata": {},
   "outputs": [
    {
     "data": {
      "text/plain": [
       "{'messages': [HumanMessage(content='2*3*10?', additional_kwargs={}, response_metadata={}, id='b4f7e352-46d9-4ba4-b9d3-24db3d03c780'),\n",
       "  AIMessage(content='', additional_kwargs={'tool_calls': [{'id': 'call_0P8mfBtcORxZtn8ddvrN5a9b', 'function': {'arguments': '{\"a\": 2, \"b\": 3}', 'name': 'multiply'}, 'type': 'function'}, {'id': 'call_9ohDNlqkVjDI9wD9ix6oyQMy', 'function': {'arguments': '{\"a\": 6, \"b\": 10}', 'name': 'multiply'}, 'type': 'function'}], 'refusal': None}, response_metadata={'token_usage': {'completion_tokens': 51, 'prompt_tokens': 822, 'total_tokens': 873, 'completion_tokens_details': {'accepted_prediction_tokens': 0, 'audio_tokens': 0, 'reasoning_tokens': 0, 'rejected_prediction_tokens': 0}, 'prompt_tokens_details': {'audio_tokens': 0, 'cached_tokens': 0}}, 'model_name': 'gpt-4o-2024-11-20', 'system_fingerprint': 'fp_ee1d74bde0', 'id': 'chatcmpl-BlRYUTzJCtCh8eVR7zbzMVSOZUG7d', 'service_tier': None, 'prompt_filter_results': [{'prompt_index': 0, 'content_filter_results': {'hate': {'filtered': False, 'severity': 'safe'}, 'jailbreak': {'filtered': False, 'detected': False}, 'self_harm': {'filtered': False, 'severity': 'safe'}, 'sexual': {'filtered': False, 'severity': 'safe'}, 'violence': {'filtered': False, 'severity': 'safe'}}}], 'finish_reason': 'tool_calls', 'logprobs': None, 'content_filter_results': {}}, id='run--e2413938-1d60-455f-a044-4aeeccf6dec8-0', tool_calls=[{'name': 'multiply', 'args': {'a': 2, 'b': 3}, 'id': 'call_0P8mfBtcORxZtn8ddvrN5a9b', 'type': 'tool_call'}, {'name': 'multiply', 'args': {'a': 6, 'b': 10}, 'id': 'call_9ohDNlqkVjDI9wD9ix6oyQMy', 'type': 'tool_call'}], usage_metadata={'input_tokens': 822, 'output_tokens': 51, 'total_tokens': 873, 'input_token_details': {'audio': 0, 'cache_read': 0}, 'output_token_details': {'audio': 0, 'reasoning': 0}}),\n",
       "  ToolMessage(content='6', name='multiply', id='2ba74496-9d8c-4b1b-a239-e668d58837d9', tool_call_id='call_0P8mfBtcORxZtn8ddvrN5a9b'),\n",
       "  ToolMessage(content='60', name='multiply', id='b06f89d8-6fa9-4d3b-8a0a-023d96e51379', tool_call_id='call_9ohDNlqkVjDI9wD9ix6oyQMy')]}"
      ]
     },
     "execution_count": 73,
     "metadata": {},
     "output_type": "execute_result"
    }
   ],
   "source": [
    "response=graph.invoke({\"messages\":'2*3*10?'})\n",
    "response"
   ]
  },
  {
   "cell_type": "code",
   "execution_count": 74,
   "id": "60c204e2",
   "metadata": {},
   "outputs": [
    {
     "data": {
      "text/plain": [
       "{'messages': [HumanMessage(content='what is the latest AI news and how is NVIDIA stock?', additional_kwargs={}, response_metadata={}, id='a5f75f36-7551-4a43-8fe2-2c919f2c0333'),\n",
       "  AIMessage(content='', additional_kwargs={'tool_calls': [{'id': 'call_MTzJIpJes9eV296K2iN2JZvW', 'function': {'arguments': '{\"query\": \"latest AI news\", \"search_depth\": \"advanced\", \"time_range\": \"day\", \"topic\": \"news\"}', 'name': 'tavily_search'}, 'type': 'function'}, {'id': 'call_hsrYPeN01FbSUSDNaLxiVZhV', 'function': {'arguments': '{\"query\": \"NVIDIA stock performance\", \"topic\": \"finance\", \"time_range\": \"day\"}', 'name': 'tavily_search'}, 'type': 'function'}], 'refusal': None}, response_metadata={'token_usage': {'completion_tokens': 77, 'prompt_tokens': 828, 'total_tokens': 905, 'completion_tokens_details': {'accepted_prediction_tokens': 0, 'audio_tokens': 0, 'reasoning_tokens': 0, 'rejected_prediction_tokens': 0}, 'prompt_tokens_details': {'audio_tokens': 0, 'cached_tokens': 0}}, 'model_name': 'gpt-4o-2024-11-20', 'system_fingerprint': 'fp_ee1d74bde0', 'id': 'chatcmpl-BlRcB2QSJZQUunXnrtQrvTWXsAkmK', 'service_tier': None, 'prompt_filter_results': [{'prompt_index': 0, 'content_filter_results': {'hate': {'filtered': False, 'severity': 'safe'}, 'jailbreak': {'filtered': False, 'detected': False}, 'self_harm': {'filtered': False, 'severity': 'safe'}, 'sexual': {'filtered': False, 'severity': 'safe'}, 'violence': {'filtered': False, 'severity': 'safe'}}}], 'finish_reason': 'tool_calls', 'logprobs': None, 'content_filter_results': {}}, id='run--7806db6e-06f7-46b3-8b48-5505245c2054-0', tool_calls=[{'name': 'tavily_search', 'args': {'query': 'latest AI news', 'search_depth': 'advanced', 'time_range': 'day', 'topic': 'news'}, 'id': 'call_MTzJIpJes9eV296K2iN2JZvW', 'type': 'tool_call'}, {'name': 'tavily_search', 'args': {'query': 'NVIDIA stock performance', 'topic': 'finance', 'time_range': 'day'}, 'id': 'call_hsrYPeN01FbSUSDNaLxiVZhV', 'type': 'tool_call'}], usage_metadata={'input_tokens': 828, 'output_tokens': 77, 'total_tokens': 905, 'input_token_details': {'audio': 0, 'cache_read': 0}, 'output_token_details': {'audio': 0, 'reasoning': 0}}),\n",
       "  ToolMessage(content='{\"query\": \"latest AI news\", \"follow_up_questions\": null, \"answer\": null, \"images\": [], \"results\": [{\"url\": \"https://www.sciencedaily.com/releases/2025/06/250622030429.htm\", \"title\": \"Half of today’s jobs could vanish—Here’s how smart countries are future-proofing workers - ScienceDaily\", \"score\": 0.7413937, \"published_date\": \"Sun, 22 Jun 2025 13:58:28 GMT\", \"content\": \"Date:June 22, 2025 Source:University of Georgia Summary:AI is revolutionizing the job landscape, prompting nations worldwide to prepare their workforces for dramatic changes. A University of Georgia study evaluated 50 countries’ national AI strategies and found significant differences in how governments prioritize education and workforce training. While many jobs could disappear in the coming decades, new careers requiring advanced AI skills are emerging. Countries like Germany and Spain are [...] Nov. 20, 2023 — Generative AI (e.g., ChatGPT) has propelled AI into the mainstream, raising concerns about job displacement and creative work. Experts now emphasize a need to focus on \\'co-creativity,\\' the ... \\\\n\\\\nExposure to Diverse Career Paths Can Help Fill Labor Market \\'Skills Gap\\'\\\\n\\\\nFeb. 26, 2021 — When Patrick Rottinghaus began college, he had no idea what he wanted to do with his career. He started out as an \\\\\"Open\\\\\" major while he explored possibilities. Today, he is helping young ... [...] 1.   Lehong Shi. Global Perspectives on AI Competence Development: Analyzing National AI Strategies in Education and Workforce Policies. _Human Resource Development Review_, 2025; DOI: 10.1177/15344843251332360\\\\n\\\\n  \\\\n\\\\nCite This Page:\\\\n\\\\n   MLA\\\\n   APA\\\\n   Chicago\\\\n\\\\nUniversity of Georgia. \\\\\"Half of today’s jobs could vanish—Here’s how smart countries are future-proofing workers.\\\\\" ScienceDaily. ScienceDaily, 22 June 2025. <www.sciencedaily.com/releases/2025/06/250622030429.htm>.\", \"raw_content\": null}, {\"url\": \"https://techcrunch.com/2025/06/22/linkedin-ceo-says-ai-writing-assistant-is-not-as-popular-as-expected/\", \"title\": \"LinkedIn CEO says AI writing assistant is not as popular as expected - TechCrunch\", \"score\": 0.6307082, \"published_date\": \"Sun, 22 Jun 2025 14:06:40 GMT\", \"content\": \"### Topics\\\\n\\\\nLatest\\\\n\\\\nAI\\\\n\\\\nAmazon\\\\n\\\\nApps\\\\n\\\\nBiotech & Health\\\\n\\\\nClimate\\\\n\\\\nCloud Computing\\\\n\\\\nCommerce\\\\n\\\\nCrypto\\\\n\\\\nEnterprise\\\\n\\\\nEVs\\\\n\\\\nFintech\\\\n\\\\nFundraising\\\\n\\\\nGadgets\\\\n\\\\nGaming\\\\n\\\\nGoogle\\\\n\\\\nGovernment & Policy\\\\n\\\\nHardware\\\\n\\\\nInstagram\\\\n\\\\nLayoffs\\\\n\\\\nMedia & Entertainment\\\\n\\\\nMeta\\\\n\\\\nMicrosoft\\\\n\\\\nPrivacy\\\\n\\\\nRobotics\\\\n\\\\nSecurity\\\\n\\\\nSocial\\\\n\\\\nSpace\\\\n\\\\nStartups\\\\n\\\\nTikTok\\\\n\\\\nTransportation\\\\n\\\\nVenture\\\\n\\\\n### More from TechCrunch\\\\n\\\\nEvents\\\\n\\\\nStartup Battlefield\\\\n\\\\nStrictlyVC\\\\n\\\\nNewsletters\\\\n\\\\nPodcasts\\\\n\\\\nVideos\\\\n\\\\nPartner Content\\\\n\\\\nTechCrunch Brand Studio\\\\n\\\\nCrunchboard\", \"raw_content\": null}], \"response_time\": 1.5}', name='tavily_search', id='3d3d38f3-005f-4cf7-8ce7-0331a79ee319', tool_call_id='call_MTzJIpJes9eV296K2iN2JZvW'),\n",
       "  ToolMessage(content='{\"query\": \"NVIDIA stock performance\", \"follow_up_questions\": null, \"answer\": null, \"images\": [], \"results\": [{\"title\": \"Financial Analysis for NVDA\", \"url\": \"https://finance.yahoo.com/quote/NVDA/\", \"content\": \"Stock: NVDA\\\\nFinancial Analysis:\\\\nLatest Open Price: 145.45 Latest Close Price: 143.85 Highest Close Price: 149.41 Lowest Close Price: 40.30 Average Close Price (2 years): 95.07 Standard Deviation of Close Price: 36.89 Volume Traded (2 years): 187560745600 Total Return (2 years): 234.39% Annualized Return (2 years): 82.86% CAGR (2 years): 82.86% Sharpe Ratio (2 years): 2.25 Max Drawdown (2 years): 0.55% \", \"score\": 0.98559, \"raw_content\": null}, {\"url\": \"https://finance.yahoo.com/news/ai-stocks-set-soar-second-221000712.html\", \"title\": \"Which AI Stocks Are Set to Soar in the Second Half?\", \"content\": \"This bodes well for ongoing growth for Nvidia. On top of this, the chip ... See the 10 stocks ». *Stock Advisor returns as of June 9, 2025. John Mackey\", \"score\": 0.493336, \"raw_content\": null}], \"response_time\": 1.58}', name='tavily_search', id='da9fb9ef-4f3d-4e4e-9bd9-cbdc85990b65', tool_call_id='call_hsrYPeN01FbSUSDNaLxiVZhV')]}"
      ]
     },
     "execution_count": 74,
     "metadata": {},
     "output_type": "execute_result"
    }
   ],
   "source": [
    "response=graph.invoke({\"messages\":'what is the latest AI news and how is NVIDIA stock?'})\n",
    "response"
   ]
  },
  {
   "cell_type": "markdown",
   "id": "d7ccc071",
   "metadata": {},
   "source": [
    "## react agent architecture "
   ]
  },
  {
   "cell_type": "code",
   "execution_count": 76,
   "id": "bab9bc61",
   "metadata": {},
   "outputs": [],
   "source": [
    "## state graph \n",
    "from langgraph.graph import StateGraph,START,END\n",
    "from langgraph.prebuilt import ToolNode\n",
    "from langgraph.prebuilt import tools_condition\n",
    "\n",
    "# node definition \n",
    "def tool_calling_llm(state:State):\n",
    "    return {'messages':[llm_with_tools.invoke(state['messages'])]}\n",
    "\n",
    "## create a graph \n",
    "builder=StateGraph(State)\n",
    "builder.add_node('tool_calling_llm',tool_calling_llm)\n",
    "builder.add_node('tools',ToolNode(tools))\n",
    "builder.add_edge(START,'tool_calling_llm')\n",
    "builder.add_conditional_edges(\n",
    "    'tool_calling_llm',tools_condition\n",
    "    # if the latest message (result) from assistant is a tool call -> tools_confition routes to tools \n",
    "    # if the latest message (result) from assistant is not a tool call -> tools_confition routes to END \n",
    ")\n",
    "builder.add_edge('tools','tool_calling_llm')\n",
    "graph=builder.compile()"
   ]
  },
  {
   "cell_type": "code",
   "execution_count": 77,
   "id": "42780feb",
   "metadata": {},
   "outputs": [
    {
     "data": {
      "image/png": "[encoded data removed]",
      "text/plain": [
       "<IPython.core.display.Image object>"
      ]
     },
     "metadata": {},
     "output_type": "display_data"
    }
   ],
   "source": [
    "from IPython.display import Image,display \n",
    "\n",
    "from IPython.display import Image, display \n",
    "display(Image(graph.get_graph().draw_mermaid_png()))"
   ]
  },
  {
   "cell_type": "code",
   "execution_count": 89,
   "id": "100dd93d",
   "metadata": {},
   "outputs": [
    {
     "name": "stdout",
     "output_type": "stream",
     "text": [
      "================================\u001b[1m Human Message \u001b[0m=================================\n",
      "\n",
      "give me the resent AI news and what is 3*10*12\n",
      "==================================\u001b[1m Ai Message \u001b[0m==================================\n",
      "Tool Calls:\n",
      "  tavily_search (call_sT62MEjr3C15kjgLa9FZz8Mi)\n",
      " Call ID: call_sT62MEjr3C15kjgLa9FZz8Mi\n",
      "  Args:\n",
      "    query: recent AI news\n",
      "    time_range: week\n",
      "    topic: news\n",
      "  multiply (call_3R9Rb8WvwnMF4KjeuIRs3uAx)\n",
      " Call ID: call_3R9Rb8WvwnMF4KjeuIRs3uAx\n",
      "  Args:\n",
      "    a: 3\n",
      "    b: 10\n",
      "=================================\u001b[1m Tool Message \u001b[0m=================================\n",
      "Name: tavily_search\n",
      "\n",
      "{\"query\": \"recent AI news\", \"follow_up_questions\": null, \"answer\": null, \"images\": [], \"results\": [{\"url\": \"https://www.investopedia.com/meta-and-oakley-are-launching-ai-powered-glasses-this-summer-11758359\", \"title\": \"Meta and Oakley Are Launching AI-Powered Glasses This Summer - Investopedia\", \"score\": 0.6914979, \"published_date\": \"Fri, 20 Jun 2025 17:52:50 GMT\", \"content\": \"Image 3: Meta CEO Mark Zuckerberg speaks at Meta Connect.:max_bytes(150000):strip_icc():format(webp)/GettyImages-2173579327-bb2b7dc5214f4270bdc58f8bb7df35e2.jpg) Meta Plans to Poach AI Startup Safe Superintelligence's CEO After Failed Buyout, Report SaysImage 5: Open AI CEO Sam Altman speaks during Snowflake Summit 2025.:max_bytes(150000):strip_icc():format(webp)/GettyImages-2218344211-86cd046e842a44d0a4e33bd185d837b3.jpg) 'ChatGPT Is Already More Powerful Than Any Human,' OpenAI CEO Sam Altman SaysImage 7: A Uber car is seen on the street in Krakow, Poland.:max_bytes(150000):strip_icc():format(webp)/GettyImages-2203322672-6a1b368ae5464a96afcc6e316695249b.jpg) Uber Expands AI Solutions Business, Sets Up New FoundryImage 9: Open AI CEO Sam Altman speaks during Snowflake Summit 2025 in San Francisco.:max_bytes(150000):strip_icc():format(webp)/GettyImages-2218344193-0d066c041a8647289246bbee931609dd.jpg) Sam Altman Says Meta Offered OpenAI Staff $100M Signing BonusesImage 11: Scale AI headquarters.:max_bytes(150000):strip_icc():format(webp)/GettyImages-2218457787-7afaea4355494f25acce8a6b5fa05785.jpg) Meta Invests Big in Startup Scale AI, Brings On Its CEO for AI Development EffortsImage 13: The Meta Platforms logo is seen on a phone screen, with the company's stock chart in the background.:max_bytes(150000):strip_icc():format(webp)/GettyImages-2212099154-19462e8939ed487d9604907b8f46d36a.jpg) Meta Launches Lawsuit Against 'Nudify' AI Company Over Facebook, Instagram AdsImage 15: Amazon CEO Andy Jassy speaks at Alexa unveiling event:max_bytes(150000):strip_icc():format(webp)/GettyImages-2201489688-b375b9f0ea9145d49eafcc8a6c69d8c6.jpg) Amazon's CEO Tells Staff AI Could Lead to a Smaller Corporate WorkforceImage 17: AMD's \\\"Advancing AI\\\" event:max_bytes(150000):strip_icc():format(webp)/Screenshot2025-06-12at4.58.35PM-2a3e218f561c45d09abce715571008a6.jpeg) AMD Unveils Its Latest Chips, With ChatGPT Maker OpenAI Among Its Customers\", \"raw_content\": null}, {\"url\": \"https://www.investopedia.com/amazon-s-ceo-tells-staff-ai-could-lead-to-a-smaller-corporate-workforce-11756555\", \"title\": \"Amazon's CEO Tells Staff AI Could Lead to a Smaller Corporate Workforce - Investopedia\", \"score\": 0.6826801, \"published_date\": \"Tue, 17 Jun 2025 21:29:00 GMT\", \"content\": \"Image 3: Nvidia CEO Jensen Huang at VivaTech in Paris.:max_bytes(150000):strip_icc():format(webp)/GettyImages-2219673294-fbe6a9e72afa488c8fbcbe8ab6bcb72d.jpg) What Nvidia's Jensen Huang and OpenAI's Sam Altman Had to Say This Week About AI and JobsImage 5: The Amazon Prime Day logo.:max_bytes(150000):strip_icc():format(webp)/GettyImages-2212700240-37be0b134f3f4ce6baa9981c814fdc3c.jpg) Amazon Extends Prime Day Event to Four DaysImage 7: CEO Sundar Pichai addresses the crowd during Google's annual I/O developers conference.:max_bytes(150000):strip_icc():format(webp)/GettyImages-2215577822-47a75431e5254defb1dd57019a2c8389.jpg) Google Buyouts Could Point to More Tech Layoffs, as Sector Faces Heavy Job LossesImage 9: AMD's \\\"Advancing AI\\\" event:max_bytes(150000):strip_icc():format(webp)/Screenshot2025-06-12at4.58.35PM-2a3e218f561c45d09abce715571008a6.jpeg) AMD Unveils Its Latest Chips, With ChatGPT Maker OpenAI Among Its CustomersImage 11: Nvidia CEO Jensen Huang meets German Chancellor Friedrich Merz.:max_bytes(150000):strip_icc():format(webp)/GettyImages-2219239037-f48729853bf84914aced2538b5e029a3.jpg) Why Oppenheimer Is Excited About Nvidia's Potential Gains From Sovereign AI DemandImage 13: Open AI CEO Sam Altman speaks during Snowflake Summit 2025.:max_bytes(150000):strip_icc():format(webp)/GettyImages-2218344211-86cd046e842a44d0a4e33bd185d837b3.jpg) 'ChatGPT Is Already More Powerful Than Any Human,' OpenAI CEO Sam Altman SaysImage 15: Scale AI headquarters.:max_bytes(150000):strip_icc():format(webp)/GettyImages-2218457787-7afaea4355494f25acce8a6b5fa05785.jpg) Meta Invests Big in Startup Scale AI, Brings On Its CEO for AI Development EffortsImage 17: People pass the shop front for the media brand Disney Store on London's Oxford Street interacting with stormtrooper figures from the Star Wars films on May 7, 2025:max_bytes(150000):strip_icc():format(webp)/GettyImages-2217902300-c0d3508e1e104b6ebdf25b82bb0cd92c.jpg) Disney, Universal Sue AI Image Creator Over Alleged Copyright Infringement\", \"raw_content\": null}], \"response_time\": 0.32}\n",
      "=================================\u001b[1m Tool Message \u001b[0m=================================\n",
      "Name: multiply\n",
      "\n",
      "30\n",
      "==================================\u001b[1m Ai Message \u001b[0m==================================\n",
      "\n",
      "Here’s the information you requested:\n",
      "\n",
      "### Recent AI News\n",
      "1. **Meta and Oakley Team Up**: Meta and Oakley are set to launch AI-powered smart glasses this summer. [Read more](https://www.investopedia.com/meta-and-oakley-are-launching-ai-powered-glasses-this-summer-11758359).\n",
      "\n",
      "2. **Amazon’s Perspective on AI and Jobs**: Amazon's CEO stated that AI could lead to a smaller corporate workforce due to increased automation. [Details here](https://www.investopedia.com/amazon-s-ceo-tells-staff-ai-could-lead-to-a-smaller-corporate-workforce-11756555).\n",
      "\n",
      "### Mathematical Calculation\n",
      "The product of \\(3 \\times 10 \\times 12\\) is **360**.\n"
     ]
    }
   ],
   "source": [
    "response=graph.invoke({'messages':'give me the resent AI news and what is 3*10*12'})\n",
    "for m in response['messages']:\n",
    "    m.pretty_print()"
   ]
  },
  {
   "cell_type": "code",
   "execution_count": 92,
   "id": "53d6a543",
   "metadata": {},
   "outputs": [
    {
     "name": "stdout",
     "output_type": "stream",
     "text": [
      "================================\u001b[1m Human Message \u001b[0m=================================\n",
      "\n",
      "Hello whats my name?\n",
      "==================================\u001b[1m Ai Message \u001b[0m==================================\n",
      "\n",
      "You haven't shared your name with me yet! What's your name?\n"
     ]
    }
   ],
   "source": [
    "response=graph.invoke({'messages':'Hello whats my name?'})\n",
    "for m in response['messages']:\n",
    "    m.pretty_print()"
   ]
  },
  {
   "cell_type": "markdown",
   "id": "9d3e63ca",
   "metadata": {},
   "source": [
    "# Adding memory in Agentic Graph"
   ]
  },
  {
   "cell_type": "code",
   "execution_count": null,
   "id": "04dd4c85",
   "metadata": {},
   "outputs": [],
   "source": [
    "# state class \n",
    "from langgraph.prebuilt import ToolNode \n",
    "\n",
    "class State(TypedDict):\n",
    "    messages:Annotated[list,add_messages]\n",
    "builder=StateGraph(State)\n",
    "\n",
    "# add chatbot node\n",
    "def chatbot(state:State):\n",
    "    return {'messages':[llm_open_ai.invoke(state['messages'])]}\n",
    "\n",
    "tool=TavilySearch(max_results=2)\n",
    "tools=[tool,multiply]\n",
    "\n",
    "llm_with_tools=llm_open_ai.bind_tools(tools)\n",
    "\n"
   ]
  },
  {
   "cell_type": "code",
   "execution_count": 101,
   "id": "b48f9aab",
   "metadata": {},
   "outputs": [],
   "source": [
    "# stategraph \n",
    "from langgraph.graph import StateGraph,START,END\n",
    "from langgraph.prebuilt import ToolNode\n",
    "from langgraph.prebuilt import tools_condition\n",
    "from langgraph.checkpoint.memory import MemorySaver\n",
    "\n",
    "memory=MemorySaver()\n",
    "\n",
    "## Node definition\n",
    "def tool_calling_llm(state:State):\n",
    "    return {'messages':[llm_with_tools.invoke(state['messages'])]}\n",
    "\n",
    "## create a graph \n",
    "builder1=StateGraph(State)\n",
    "builder1.add_node('tool_calling_llm',tool_calling_llm)\n",
    "builder1.add_node('tools',ToolNode(tools))\n",
    "builder1.add_edge(START,'tool_calling_llm')\n",
    "builder1.add_conditional_edges('tool_calling_llm',tools_condition)\n",
    "builder1.add_edge('tools','tool_calling_llm')\n",
    "\n",
    "# add memory and compile \n",
    "graph=builder1.compile(checkpointer=memory)\n"
   ]
  },
  {
   "cell_type": "code",
   "execution_count": 102,
   "id": "2206bb25",
   "metadata": {},
   "outputs": [
    {
     "data": {
      "image/png": "[encoded data removed]",
      "text/plain": [
       "<IPython.core.display.Image object>"
      ]
     },
     "metadata": {},
     "output_type": "display_data"
    }
   ],
   "source": [
    "from IPython.display import Image,display\n",
    "display(Image(graph.get_graph().draw_mermaid_png()))"
   ]
  },
  {
   "cell_type": "code",
   "execution_count": 104,
   "id": "aea1b381",
   "metadata": {},
   "outputs": [
    {
     "data": {
      "text/plain": [
       "{'messages': [HumanMessage(content='Hi my name is amruth', additional_kwargs={}, response_metadata={}, id='9491fe69-4816-4991-85c9-ab8b6c868004'),\n",
       "  AIMessage(content=\"Hello Amruth! It's great to meet you. How can I assist you today?\", additional_kwargs={'refusal': None}, response_metadata={'token_usage': {'completion_tokens': 20, 'prompt_tokens': 823, 'total_tokens': 843, 'completion_tokens_details': {'accepted_prediction_tokens': 0, 'audio_tokens': 0, 'reasoning_tokens': 0, 'rejected_prediction_tokens': 0}, 'prompt_tokens_details': {'audio_tokens': 0, 'cached_tokens': 0}}, 'model_name': 'gpt-4o-2024-11-20', 'system_fingerprint': 'fp_ee1d74bde0', 'id': 'chatcmpl-Blbzt8wfcspfHjVB573SEQY2hB1b7', 'service_tier': None, 'prompt_filter_results': [{'prompt_index': 0, 'content_filter_results': {'hate': {'filtered': False, 'severity': 'safe'}, 'jailbreak': {'filtered': False, 'detected': False}, 'self_harm': {'filtered': False, 'severity': 'safe'}, 'sexual': {'filtered': False, 'severity': 'safe'}, 'violence': {'filtered': False, 'severity': 'safe'}}}], 'finish_reason': 'stop', 'logprobs': None, 'content_filter_results': {'hate': {'filtered': False, 'severity': 'safe'}, 'self_harm': {'filtered': False, 'severity': 'safe'}, 'sexual': {'filtered': False, 'severity': 'safe'}, 'violence': {'filtered': False, 'severity': 'safe'}}}, id='run--fb5102a4-9f82-44c3-b1e8-3f7e9b7372ef-0', usage_metadata={'input_tokens': 823, 'output_tokens': 20, 'total_tokens': 843, 'input_token_details': {'audio': 0, 'cache_read': 0}, 'output_token_details': {'audio': 0, 'reasoning': 0}})]}"
      ]
     },
     "execution_count": 104,
     "metadata": {},
     "output_type": "execute_result"
    }
   ],
   "source": [
    "# creating thread variable \n",
    "config={'configurable':{'thread_id':'1'}}\n",
    "response=graph.invoke({'messages':'Hi my name is amruth'},config=config)\n",
    "\n",
    "response"
   ]
  },
  {
   "cell_type": "code",
   "execution_count": 106,
   "id": "d9070081",
   "metadata": {},
   "outputs": [
    {
     "data": {
      "text/plain": [
       "{'messages': [HumanMessage(content='Hi my name is amruth', additional_kwargs={}, response_metadata={}, id='9491fe69-4816-4991-85c9-ab8b6c868004'),\n",
       "  AIMessage(content=\"Hello Amruth! It's great to meet you. How can I assist you today?\", additional_kwargs={'refusal': None}, response_metadata={'token_usage': {'completion_tokens': 20, 'prompt_tokens': 823, 'total_tokens': 843, 'completion_tokens_details': {'accepted_prediction_tokens': 0, 'audio_tokens': 0, 'reasoning_tokens': 0, 'rejected_prediction_tokens': 0}, 'prompt_tokens_details': {'audio_tokens': 0, 'cached_tokens': 0}}, 'model_name': 'gpt-4o-2024-11-20', 'system_fingerprint': 'fp_ee1d74bde0', 'id': 'chatcmpl-Blbzt8wfcspfHjVB573SEQY2hB1b7', 'service_tier': None, 'prompt_filter_results': [{'prompt_index': 0, 'content_filter_results': {'hate': {'filtered': False, 'severity': 'safe'}, 'jailbreak': {'filtered': False, 'detected': False}, 'self_harm': {'filtered': False, 'severity': 'safe'}, 'sexual': {'filtered': False, 'severity': 'safe'}, 'violence': {'filtered': False, 'severity': 'safe'}}}], 'finish_reason': 'stop', 'logprobs': None, 'content_filter_results': {'hate': {'filtered': False, 'severity': 'safe'}, 'self_harm': {'filtered': False, 'severity': 'safe'}, 'sexual': {'filtered': False, 'severity': 'safe'}, 'violence': {'filtered': False, 'severity': 'safe'}}}, id='run--fb5102a4-9f82-44c3-b1e8-3f7e9b7372ef-0', usage_metadata={'input_tokens': 823, 'output_tokens': 20, 'total_tokens': 843, 'input_token_details': {'audio': 0, 'cache_read': 0}, 'output_token_details': {'audio': 0, 'reasoning': 0}}),\n",
       "  HumanMessage(content='whats my name?', additional_kwargs={}, response_metadata={}, id='b650bb55-2bdc-47c5-bc01-bc7e9358eb23'),\n",
       "  AIMessage(content='Your name is Amruth!', additional_kwargs={'refusal': None}, response_metadata={'token_usage': {'completion_tokens': 9, 'prompt_tokens': 854, 'total_tokens': 863, 'completion_tokens_details': {'accepted_prediction_tokens': 0, 'audio_tokens': 0, 'reasoning_tokens': 0, 'rejected_prediction_tokens': 0}, 'prompt_tokens_details': {'audio_tokens': 0, 'cached_tokens': 0}}, 'model_name': 'gpt-4o-2024-11-20', 'system_fingerprint': 'fp_ee1d74bde0', 'id': 'chatcmpl-Blc0ILyjOUdRN9lYlKSaXE9hthdBn', 'service_tier': None, 'prompt_filter_results': [{'prompt_index': 0, 'content_filter_results': {'hate': {'filtered': False, 'severity': 'safe'}, 'jailbreak': {'filtered': False, 'detected': False}, 'self_harm': {'filtered': False, 'severity': 'safe'}, 'sexual': {'filtered': False, 'severity': 'safe'}, 'violence': {'filtered': False, 'severity': 'safe'}}}], 'finish_reason': 'stop', 'logprobs': None, 'content_filter_results': {'hate': {'filtered': False, 'severity': 'safe'}, 'protected_material_code': {'filtered': False, 'detected': False}, 'protected_material_text': {'filtered': False, 'detected': False}, 'self_harm': {'filtered': False, 'severity': 'safe'}, 'sexual': {'filtered': False, 'severity': 'safe'}, 'violence': {'filtered': False, 'severity': 'safe'}}}, id='run--4504ca21-8ede-499b-90df-f71bcb08f700-0', usage_metadata={'input_tokens': 854, 'output_tokens': 9, 'total_tokens': 863, 'input_token_details': {'audio': 0, 'cache_read': 0}, 'output_token_details': {'audio': 0, 'reasoning': 0}}),\n",
       "  HumanMessage(content='what is 3 multiplied by 10 also what is the latest news on USA and IRAN?', additional_kwargs={}, response_metadata={}, id='2c883dfd-2a3b-444f-bc36-dfe9057d9320'),\n",
       "  AIMessage(content='', additional_kwargs={'tool_calls': [{'id': 'call_PCD3C6LPSq2XsdipOq9Li3rU', 'function': {'arguments': '{\"a\": 3, \"b\": 10}', 'name': 'multiply'}, 'type': 'function'}, {'id': 'call_OLiIMxsoEmzOQ1OYZm6jwxMr', 'function': {'arguments': '{\"query\": \"latest news on USA and Iran\", \"topic\": \"news\", \"time_range\": \"day\"}', 'name': 'tavily_search'}, 'type': 'function'}], 'refusal': None}, response_metadata={'token_usage': {'completion_tokens': 64, 'prompt_tokens': 889, 'total_tokens': 953, 'completion_tokens_details': {'accepted_prediction_tokens': 0, 'audio_tokens': 0, 'reasoning_tokens': 0, 'rejected_prediction_tokens': 0}, 'prompt_tokens_details': {'audio_tokens': 0, 'cached_tokens': 0}}, 'model_name': 'gpt-4o-2024-11-20', 'system_fingerprint': 'fp_ee1d74bde0', 'id': 'chatcmpl-Blc4LNNF7x1Z5Xi8bp7JsrnQuAnl6', 'service_tier': None, 'prompt_filter_results': [{'prompt_index': 0, 'content_filter_results': {'hate': {'filtered': False, 'severity': 'safe'}, 'jailbreak': {'filtered': False, 'detected': False}, 'self_harm': {'filtered': False, 'severity': 'safe'}, 'sexual': {'filtered': False, 'severity': 'safe'}, 'violence': {'filtered': False, 'severity': 'safe'}}}], 'finish_reason': 'tool_calls', 'logprobs': None, 'content_filter_results': {}}, id='run--155f0501-4add-4ccf-8592-95350574c9fe-0', tool_calls=[{'name': 'multiply', 'args': {'a': 3, 'b': 10}, 'id': 'call_PCD3C6LPSq2XsdipOq9Li3rU', 'type': 'tool_call'}, {'name': 'tavily_search', 'args': {'query': 'latest news on USA and Iran', 'topic': 'news', 'time_range': 'day'}, 'id': 'call_OLiIMxsoEmzOQ1OYZm6jwxMr', 'type': 'tool_call'}], usage_metadata={'input_tokens': 889, 'output_tokens': 64, 'total_tokens': 953, 'input_token_details': {'audio': 0, 'cache_read': 0}, 'output_token_details': {'audio': 0, 'reasoning': 0}}),\n",
       "  ToolMessage(content='30', name='multiply', id='8c61ee41-f44b-4374-8553-84d3eccae666', tool_call_id='call_PCD3C6LPSq2XsdipOq9Li3rU'),\n",
       "  ToolMessage(content='{\"query\": \"latest news on USA and Iran\", \"follow_up_questions\": null, \"answer\": null, \"images\": [], \"results\": [{\"url\": \"https://www.usatoday.com/story/money/2025/06/21/iran-attack-oil-prices-inflation/84303968007/\", \"title\": \"Investors brace for oil price spike, rush to havens after US bombs Iran nuclear sites - USA Today\", \"score\": 0.70287734, \"published_date\": \"Mon, 23 Jun 2025 07:14:40 GMT\", \"content\": \"*   The U.S. attack on Iranian nuclear sites is expected to cause market reactions, potentially increasing oil prices and strengthening the U.S. dollar. NEW YORK - A U.S. attack on Iranian nuclear sites on Saturday could lead to a knee-jerk reaction in global markets when they reopen, sending oil prices higher and triggering a rush to safety, investors said, as they assessed how the latest escalation of tensions would ripple through the global economy. B-2 stealth bombers took off from Missouri on mission to strike Iran U.S. Air Force B-2 stealth bombers deployed in the attack against Iran nuclear facilities, confirmed by President Donald Trump on June 21.USA TODAY\", \"raw_content\": null}, {\"url\": \"https://www.cnn.com/2025/06/23/us/5-things-to-know-for-june-23-us-iran-israel-iran-church-attack-mahmoud-khalil-ten-commandments\", \"title\": \"5 things to know for June 23: US-Iran, Israel-Iran, Church attack, Mahmoud Khalil, Ten Commandments - CNN\", \"score\": 0.67911536, \"published_date\": \"Mon, 23 Jun 2025 10:53:00 GMT\", \"content\": \"# 5 things to know for June 23: US-Iran, Israel-Iran, Church attack, Mahmoud Khalil, Ten Commandments As President Donald Trump weighs the idea of regime change in Iran, the Iranian power structure appears to be more focused on how it will respond to America’s attack on its nuclear facilities. The Iranian envoy to the UN condemned the US and Israel for their “acts of aggression” and asked the Security Council to address such “injustice and gross violations.” Iranian hardliners and members of parliament took to social media to call for retaliation after the US strikes, including attacks on American bases in the region, the disruption of oil shipments in the Strait of Hormuz and a possible withdrawal from the Nuclear Non-Proliferation Treaty.\", \"raw_content\": null}], \"response_time\": 0.34}', name='tavily_search', id='651785c6-c43a-45b0-a9be-749de554a73c', tool_call_id='call_OLiIMxsoEmzOQ1OYZm6jwxMr'),\n",
       "  AIMessage(content='### Multiplication Result:\\n3 multiplied by 10 equals **30**.\\n\\n---\\n\\n### Latest News on USA and Iran:\\n\\n1. **USA Today**:  \\n   - The U.S. has carried out an attack on Iranian nuclear sites using B-2 stealth bombers.  \\n   - This escalation could lead to rising oil prices and global market disruptions.  \\n   - Investors are anticipating reactions such as increased oil prices and a stronger U.S. dollar.  \\n   - [Read more](https://www.usatoday.com/story/money/2025/06/21/iran-attack-oil-prices-inflation/84303968007/)\\n\\n2. **CNN**:  \\n   - Iran condemned the U.S. and Israel for the recent strikes, labeling them \"acts of aggression.\"  \\n   - Hardliners in Iran are calling for retaliation, potentially targeting American bases or oil shipments through the Strait of Hormuz.  \\n   - Discussions around Iran\\'s withdrawal from the Nuclear Non-Proliferation Treaty have surfaced.  \\n   - [Read more](https://www.cnn.com/2025/06/23/us/5-things-to-know-for-june-23-us-iran-israel-iran-church-attack-mahmoud-khalil-ten-commandments)\\n\\nLet me know if you\\'d like more information!', additional_kwargs={'refusal': None}, response_metadata={'token_usage': {'completion_tokens': 273, 'prompt_tokens': 1538, 'total_tokens': 1811, 'completion_tokens_details': {'accepted_prediction_tokens': 0, 'audio_tokens': 0, 'reasoning_tokens': 0, 'rejected_prediction_tokens': 0}, 'prompt_tokens_details': {'audio_tokens': 0, 'cached_tokens': 0}}, 'model_name': 'gpt-4o-2024-11-20', 'system_fingerprint': 'fp_ee1d74bde0', 'id': 'chatcmpl-Blc4NiQVtETpRiZm2rKKUvBEb9z5P', 'service_tier': None, 'prompt_filter_results': [{'prompt_index': 0, 'content_filter_results': {'hate': {'filtered': False, 'severity': 'safe'}, 'jailbreak': {'filtered': False, 'detected': False}, 'self_harm': {'filtered': False, 'severity': 'safe'}, 'sexual': {'filtered': False, 'severity': 'safe'}, 'violence': {'filtered': False, 'severity': 'safe'}}}], 'finish_reason': 'stop', 'logprobs': None, 'content_filter_results': {'hate': {'filtered': False, 'severity': 'safe'}, 'protected_material_code': {'filtered': False, 'detected': False}, 'protected_material_text': {'filtered': False, 'detected': False}, 'self_harm': {'filtered': False, 'severity': 'safe'}, 'sexual': {'filtered': False, 'severity': 'safe'}, 'violence': {'filtered': False, 'severity': 'safe'}}}, id='run--436ce26e-708d-4488-8f66-f6852fbe1251-0', usage_metadata={'input_tokens': 1538, 'output_tokens': 273, 'total_tokens': 1811, 'input_token_details': {'audio': 0, 'cache_read': 0}, 'output_token_details': {'audio': 0, 'reasoning': 0}})]}"
      ]
     },
     "execution_count": 106,
     "metadata": {},
     "output_type": "execute_result"
    }
   ],
   "source": [
    "response=graph.invoke({'messages':'what is 3 multiplied by 10 also what is the latest news on USA and IRAN?'},config=config)\n",
    "response"
   ]
  },
  {
   "cell_type": "code",
   "execution_count": 107,
   "id": "4ca0f130",
   "metadata": {},
   "outputs": [
    {
     "data": {
      "text/plain": [
       "{'messages': [HumanMessage(content='Hi my name is amruth', additional_kwargs={}, response_metadata={}, id='9491fe69-4816-4991-85c9-ab8b6c868004'),\n",
       "  AIMessage(content=\"Hello Amruth! It's great to meet you. How can I assist you today?\", additional_kwargs={'refusal': None}, response_metadata={'token_usage': {'completion_tokens': 20, 'prompt_tokens': 823, 'total_tokens': 843, 'completion_tokens_details': {'accepted_prediction_tokens': 0, 'audio_tokens': 0, 'reasoning_tokens': 0, 'rejected_prediction_tokens': 0}, 'prompt_tokens_details': {'audio_tokens': 0, 'cached_tokens': 0}}, 'model_name': 'gpt-4o-2024-11-20', 'system_fingerprint': 'fp_ee1d74bde0', 'id': 'chatcmpl-Blbzt8wfcspfHjVB573SEQY2hB1b7', 'service_tier': None, 'prompt_filter_results': [{'prompt_index': 0, 'content_filter_results': {'hate': {'filtered': False, 'severity': 'safe'}, 'jailbreak': {'filtered': False, 'detected': False}, 'self_harm': {'filtered': False, 'severity': 'safe'}, 'sexual': {'filtered': False, 'severity': 'safe'}, 'violence': {'filtered': False, 'severity': 'safe'}}}], 'finish_reason': 'stop', 'logprobs': None, 'content_filter_results': {'hate': {'filtered': False, 'severity': 'safe'}, 'self_harm': {'filtered': False, 'severity': 'safe'}, 'sexual': {'filtered': False, 'severity': 'safe'}, 'violence': {'filtered': False, 'severity': 'safe'}}}, id='run--fb5102a4-9f82-44c3-b1e8-3f7e9b7372ef-0', usage_metadata={'input_tokens': 823, 'output_tokens': 20, 'total_tokens': 843, 'input_token_details': {'audio': 0, 'cache_read': 0}, 'output_token_details': {'audio': 0, 'reasoning': 0}}),\n",
       "  HumanMessage(content='whats my name?', additional_kwargs={}, response_metadata={}, id='b650bb55-2bdc-47c5-bc01-bc7e9358eb23'),\n",
       "  AIMessage(content='Your name is Amruth!', additional_kwargs={'refusal': None}, response_metadata={'token_usage': {'completion_tokens': 9, 'prompt_tokens': 854, 'total_tokens': 863, 'completion_tokens_details': {'accepted_prediction_tokens': 0, 'audio_tokens': 0, 'reasoning_tokens': 0, 'rejected_prediction_tokens': 0}, 'prompt_tokens_details': {'audio_tokens': 0, 'cached_tokens': 0}}, 'model_name': 'gpt-4o-2024-11-20', 'system_fingerprint': 'fp_ee1d74bde0', 'id': 'chatcmpl-Blc0ILyjOUdRN9lYlKSaXE9hthdBn', 'service_tier': None, 'prompt_filter_results': [{'prompt_index': 0, 'content_filter_results': {'hate': {'filtered': False, 'severity': 'safe'}, 'jailbreak': {'filtered': False, 'detected': False}, 'self_harm': {'filtered': False, 'severity': 'safe'}, 'sexual': {'filtered': False, 'severity': 'safe'}, 'violence': {'filtered': False, 'severity': 'safe'}}}], 'finish_reason': 'stop', 'logprobs': None, 'content_filter_results': {'hate': {'filtered': False, 'severity': 'safe'}, 'protected_material_code': {'filtered': False, 'detected': False}, 'protected_material_text': {'filtered': False, 'detected': False}, 'self_harm': {'filtered': False, 'severity': 'safe'}, 'sexual': {'filtered': False, 'severity': 'safe'}, 'violence': {'filtered': False, 'severity': 'safe'}}}, id='run--4504ca21-8ede-499b-90df-f71bcb08f700-0', usage_metadata={'input_tokens': 854, 'output_tokens': 9, 'total_tokens': 863, 'input_token_details': {'audio': 0, 'cache_read': 0}, 'output_token_details': {'audio': 0, 'reasoning': 0}}),\n",
       "  HumanMessage(content='what is 3 multiplied by 10 also what is the latest news on USA and IRAN?', additional_kwargs={}, response_metadata={}, id='2c883dfd-2a3b-444f-bc36-dfe9057d9320'),\n",
       "  AIMessage(content='', additional_kwargs={'tool_calls': [{'id': 'call_PCD3C6LPSq2XsdipOq9Li3rU', 'function': {'arguments': '{\"a\": 3, \"b\": 10}', 'name': 'multiply'}, 'type': 'function'}, {'id': 'call_OLiIMxsoEmzOQ1OYZm6jwxMr', 'function': {'arguments': '{\"query\": \"latest news on USA and Iran\", \"topic\": \"news\", \"time_range\": \"day\"}', 'name': 'tavily_search'}, 'type': 'function'}], 'refusal': None}, response_metadata={'token_usage': {'completion_tokens': 64, 'prompt_tokens': 889, 'total_tokens': 953, 'completion_tokens_details': {'accepted_prediction_tokens': 0, 'audio_tokens': 0, 'reasoning_tokens': 0, 'rejected_prediction_tokens': 0}, 'prompt_tokens_details': {'audio_tokens': 0, 'cached_tokens': 0}}, 'model_name': 'gpt-4o-2024-11-20', 'system_fingerprint': 'fp_ee1d74bde0', 'id': 'chatcmpl-Blc4LNNF7x1Z5Xi8bp7JsrnQuAnl6', 'service_tier': None, 'prompt_filter_results': [{'prompt_index': 0, 'content_filter_results': {'hate': {'filtered': False, 'severity': 'safe'}, 'jailbreak': {'filtered': False, 'detected': False}, 'self_harm': {'filtered': False, 'severity': 'safe'}, 'sexual': {'filtered': False, 'severity': 'safe'}, 'violence': {'filtered': False, 'severity': 'safe'}}}], 'finish_reason': 'tool_calls', 'logprobs': None, 'content_filter_results': {}}, id='run--155f0501-4add-4ccf-8592-95350574c9fe-0', tool_calls=[{'name': 'multiply', 'args': {'a': 3, 'b': 10}, 'id': 'call_PCD3C6LPSq2XsdipOq9Li3rU', 'type': 'tool_call'}, {'name': 'tavily_search', 'args': {'query': 'latest news on USA and Iran', 'topic': 'news', 'time_range': 'day'}, 'id': 'call_OLiIMxsoEmzOQ1OYZm6jwxMr', 'type': 'tool_call'}], usage_metadata={'input_tokens': 889, 'output_tokens': 64, 'total_tokens': 953, 'input_token_details': {'audio': 0, 'cache_read': 0}, 'output_token_details': {'audio': 0, 'reasoning': 0}}),\n",
       "  ToolMessage(content='30', name='multiply', id='8c61ee41-f44b-4374-8553-84d3eccae666', tool_call_id='call_PCD3C6LPSq2XsdipOq9Li3rU'),\n",
       "  ToolMessage(content='{\"query\": \"latest news on USA and Iran\", \"follow_up_questions\": null, \"answer\": null, \"images\": [], \"results\": [{\"url\": \"https://www.usatoday.com/story/money/2025/06/21/iran-attack-oil-prices-inflation/84303968007/\", \"title\": \"Investors brace for oil price spike, rush to havens after US bombs Iran nuclear sites - USA Today\", \"score\": 0.70287734, \"published_date\": \"Mon, 23 Jun 2025 07:14:40 GMT\", \"content\": \"*   The U.S. attack on Iranian nuclear sites is expected to cause market reactions, potentially increasing oil prices and strengthening the U.S. dollar. NEW YORK - A U.S. attack on Iranian nuclear sites on Saturday could lead to a knee-jerk reaction in global markets when they reopen, sending oil prices higher and triggering a rush to safety, investors said, as they assessed how the latest escalation of tensions would ripple through the global economy. B-2 stealth bombers took off from Missouri on mission to strike Iran U.S. Air Force B-2 stealth bombers deployed in the attack against Iran nuclear facilities, confirmed by President Donald Trump on June 21.USA TODAY\", \"raw_content\": null}, {\"url\": \"https://www.cnn.com/2025/06/23/us/5-things-to-know-for-june-23-us-iran-israel-iran-church-attack-mahmoud-khalil-ten-commandments\", \"title\": \"5 things to know for June 23: US-Iran, Israel-Iran, Church attack, Mahmoud Khalil, Ten Commandments - CNN\", \"score\": 0.67911536, \"published_date\": \"Mon, 23 Jun 2025 10:53:00 GMT\", \"content\": \"# 5 things to know for June 23: US-Iran, Israel-Iran, Church attack, Mahmoud Khalil, Ten Commandments As President Donald Trump weighs the idea of regime change in Iran, the Iranian power structure appears to be more focused on how it will respond to America’s attack on its nuclear facilities. The Iranian envoy to the UN condemned the US and Israel for their “acts of aggression” and asked the Security Council to address such “injustice and gross violations.” Iranian hardliners and members of parliament took to social media to call for retaliation after the US strikes, including attacks on American bases in the region, the disruption of oil shipments in the Strait of Hormuz and a possible withdrawal from the Nuclear Non-Proliferation Treaty.\", \"raw_content\": null}], \"response_time\": 0.34}', name='tavily_search', id='651785c6-c43a-45b0-a9be-749de554a73c', tool_call_id='call_OLiIMxsoEmzOQ1OYZm6jwxMr'),\n",
       "  AIMessage(content='### Multiplication Result:\\n3 multiplied by 10 equals **30**.\\n\\n---\\n\\n### Latest News on USA and Iran:\\n\\n1. **USA Today**:  \\n   - The U.S. has carried out an attack on Iranian nuclear sites using B-2 stealth bombers.  \\n   - This escalation could lead to rising oil prices and global market disruptions.  \\n   - Investors are anticipating reactions such as increased oil prices and a stronger U.S. dollar.  \\n   - [Read more](https://www.usatoday.com/story/money/2025/06/21/iran-attack-oil-prices-inflation/84303968007/)\\n\\n2. **CNN**:  \\n   - Iran condemned the U.S. and Israel for the recent strikes, labeling them \"acts of aggression.\"  \\n   - Hardliners in Iran are calling for retaliation, potentially targeting American bases or oil shipments through the Strait of Hormuz.  \\n   - Discussions around Iran\\'s withdrawal from the Nuclear Non-Proliferation Treaty have surfaced.  \\n   - [Read more](https://www.cnn.com/2025/06/23/us/5-things-to-know-for-june-23-us-iran-israel-iran-church-attack-mahmoud-khalil-ten-commandments)\\n\\nLet me know if you\\'d like more information!', additional_kwargs={'refusal': None}, response_metadata={'token_usage': {'completion_tokens': 273, 'prompt_tokens': 1538, 'total_tokens': 1811, 'completion_tokens_details': {'accepted_prediction_tokens': 0, 'audio_tokens': 0, 'reasoning_tokens': 0, 'rejected_prediction_tokens': 0}, 'prompt_tokens_details': {'audio_tokens': 0, 'cached_tokens': 0}}, 'model_name': 'gpt-4o-2024-11-20', 'system_fingerprint': 'fp_ee1d74bde0', 'id': 'chatcmpl-Blc4NiQVtETpRiZm2rKKUvBEb9z5P', 'service_tier': None, 'prompt_filter_results': [{'prompt_index': 0, 'content_filter_results': {'hate': {'filtered': False, 'severity': 'safe'}, 'jailbreak': {'filtered': False, 'detected': False}, 'self_harm': {'filtered': False, 'severity': 'safe'}, 'sexual': {'filtered': False, 'severity': 'safe'}, 'violence': {'filtered': False, 'severity': 'safe'}}}], 'finish_reason': 'stop', 'logprobs': None, 'content_filter_results': {'hate': {'filtered': False, 'severity': 'safe'}, 'protected_material_code': {'filtered': False, 'detected': False}, 'protected_material_text': {'filtered': False, 'detected': False}, 'self_harm': {'filtered': False, 'severity': 'safe'}, 'sexual': {'filtered': False, 'severity': 'safe'}, 'violence': {'filtered': False, 'severity': 'safe'}}}, id='run--436ce26e-708d-4488-8f66-f6852fbe1251-0', usage_metadata={'input_tokens': 1538, 'output_tokens': 273, 'total_tokens': 1811, 'input_token_details': {'audio': 0, 'cache_read': 0}, 'output_token_details': {'audio': 0, 'reasoning': 0}}),\n",
       "  HumanMessage(content='what is my name?', additional_kwargs={}, response_metadata={}, id='7886b196-085f-49af-b4e1-f6bee50eaac7'),\n",
       "  AIMessage(content='Your name is Amruth!', additional_kwargs={'refusal': None}, response_metadata={'token_usage': {'completion_tokens': 9, 'prompt_tokens': 1822, 'total_tokens': 1831, 'completion_tokens_details': {'accepted_prediction_tokens': 0, 'audio_tokens': 0, 'reasoning_tokens': 0, 'rejected_prediction_tokens': 0}, 'prompt_tokens_details': {'audio_tokens': 0, 'cached_tokens': 0}}, 'model_name': 'gpt-4o-2024-11-20', 'system_fingerprint': 'fp_ee1d74bde0', 'id': 'chatcmpl-BlcCDMxljYtxGuhsY7ZvYcSIOBYi6', 'service_tier': None, 'prompt_filter_results': [{'prompt_index': 0, 'content_filter_results': {'hate': {'filtered': False, 'severity': 'safe'}, 'jailbreak': {'filtered': False, 'detected': False}, 'self_harm': {'filtered': False, 'severity': 'safe'}, 'sexual': {'filtered': False, 'severity': 'safe'}, 'violence': {'filtered': False, 'severity': 'safe'}}}], 'finish_reason': 'stop', 'logprobs': None, 'content_filter_results': {'hate': {'filtered': False, 'severity': 'safe'}, 'protected_material_code': {'filtered': False, 'detected': False}, 'protected_material_text': {'filtered': False, 'detected': False}, 'self_harm': {'filtered': False, 'severity': 'safe'}, 'sexual': {'filtered': False, 'severity': 'safe'}, 'violence': {'filtered': False, 'severity': 'safe'}}}, id='run--b941ff40-e87d-4a7b-a947-a31efa3a840a-0', usage_metadata={'input_tokens': 1822, 'output_tokens': 9, 'total_tokens': 1831, 'input_token_details': {'audio': 0, 'cache_read': 0}, 'output_token_details': {'audio': 0, 'reasoning': 0}})]}"
      ]
     },
     "execution_count": 107,
     "metadata": {},
     "output_type": "execute_result"
    }
   ],
   "source": [
    "response=graph.invoke({'messages':'what is my name?'},config=config)\n",
    "response"
   ]
  },
  {
   "cell_type": "code",
   "execution_count": null,
   "id": "f8a9adaf",
   "metadata": {},
   "outputs": [],
   "source": []
  }
 ],
 "metadata": {
  "kernelspec": {
   "display_name": "Langgraph-Agent-course",
   "language": "python",
   "name": "python3"
  },
  "language_info": {
   "codemirror_mode": {
    "name": "ipython",
    "version": 3
   },
   "file_extension": ".py",
   "mimetype": "text/x-python",
   "name": "python",
   "nbconvert_exporter": "python",
   "pygments_lexer": "ipython3",
   "version": "3.12.5"
  }
 },
 "nbformat": 4,
 "nbformat_minor": 5
}
