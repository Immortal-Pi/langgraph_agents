{
 "cells": [
  {
   "cell_type": "markdown",
   "id": "583582ca",
   "metadata": {},
   "source": [
    "# build a basic chatbot with langraph(graph API)"
   ]
  },
  {
   "cell_type": "code",
   "execution_count": null,
   "id": "d744ed96",
   "metadata": {},
   "outputs": [],
   "source": [
    "from typing import Annotated\n",
    "from typing_extensions import TypedDict\n",
    "from langgraph.graph import StateGraph, START, END \n",
    "from langgraph.graph.message import add_messages # reducers\n"
   ]
  },
  {
   "cell_type": "code",
   "execution_count": 2,
   "id": "14ab0fa1",
   "metadata": {},
   "outputs": [],
   "source": [
    "class State(TypedDict): # return type is dictionary\n",
    "    # messages have the type \"list\". the add_messages function\n",
    "    # in the annotation defines how this state key should be updated \n",
    "    # (in this case, it appends messages to the list, rather than overwriting them)\n",
    "    messages: Annotated[list,add_messages]\n",
    "graph_builder=StateGraph(State)"
   ]
  },
  {
   "cell_type": "code",
   "execution_count": 3,
   "id": "837cef81",
   "metadata": {},
   "outputs": [
    {
     "data": {
      "text/plain": [
       "<langgraph.graph.state.StateGraph at 0x2c4c1498380>"
      ]
     },
     "execution_count": 3,
     "metadata": {},
     "output_type": "execute_result"
    }
   ],
   "source": [
    "graph_builder"
   ]
  },
  {
   "cell_type": "code",
   "execution_count": 4,
   "id": "43d996fd",
   "metadata": {},
   "outputs": [
    {
     "data": {
      "text/plain": [
       "True"
      ]
     },
     "execution_count": 4,
     "metadata": {},
     "output_type": "execute_result"
    }
   ],
   "source": [
    "import os \n",
    "from dotenv import load_dotenv\n",
    "load_dotenv()"
   ]
  },
  {
   "cell_type": "code",
   "execution_count": 5,
   "id": "43b8e139",
   "metadata": {},
   "outputs": [],
   "source": [
    "# define LLM's\n",
    "from langchain_groq import ChatGroq\n",
    "from langchain_openai import AzureChatOpenAI\n",
    "\n",
    "llm_open_ai=AzureChatOpenAI(\n",
    "    azure_deployment='gpt-4o',\n",
    "    api_key=os.getenv('AZURE_OPENAI_GPT_4O_API_KEY'),\n",
    "    azure_endpoint=os.getenv('AZURE_OPENAI_GPT_4O_API_ENDPOINT'),\n",
    "    api_version=os.getenv('AZURE_OPENAI_GPT_4O_API_VERSION')\n",
    ")\n",
    "\n",
    "llm_groq=ChatGroq(model='deepseek-r1-distill-llama-70b',api_key=os.getenv('GROQ_API'))\n"
   ]
  },
  {
   "cell_type": "markdown",
   "id": "d053c6f7",
   "metadata": {},
   "source": [
    "# create a chatbot node"
   ]
  },
  {
   "cell_type": "code",
   "execution_count": 6,
   "id": "dfa98dec",
   "metadata": {},
   "outputs": [],
   "source": [
    "def chatbot(state:State):\n",
    "    return {'messages':[llm_open_ai.invoke(state['messages'])]}\n"
   ]
  },
  {
   "cell_type": "code",
   "execution_count": 7,
   "id": "ee591b1f",
   "metadata": {},
   "outputs": [],
   "source": [
    "graph_builder=StateGraph(State)\n",
    "## Adding node\n",
    "graph_builder.add_node('llmchatbot',chatbot)\n",
    "graph_builder.add_edge(START,'llmchatbot')\n",
    "graph_builder.add_edge('llmchatbot',END)\n",
    "\n",
    "## compile the graph \n",
    "graph=graph_builder.compile()\n"
   ]
  },
  {
   "cell_type": "code",
   "execution_count": 8,
   "id": "4ce90474",
   "metadata": {},
   "outputs": [
    {
     "data": {
      "image/png": "[encoded data removed]",
      "text/plain": [
       "<IPython.core.display.Image object>"
      ]
     },
     "metadata": {},
     "output_type": "display_data"
    }
   ],
   "source": [
    "## Visualize the graph \n",
    "from IPython.display import Image,display \n",
    "\n",
    "try:\n",
    "    display(Image(graph.get_graph().draw_mermaid_png()))\n",
    "except Exception:\n",
    "    pass "
   ]
  },
  {
   "cell_type": "code",
   "execution_count": 9,
   "id": "b82bae2c",
   "metadata": {},
   "outputs": [],
   "source": [
    "response=graph.invoke({'messages':'what is life?'})"
   ]
  },
  {
   "cell_type": "code",
   "execution_count": 10,
   "id": "fe57977f",
   "metadata": {},
   "outputs": [
    {
     "data": {
      "text/plain": [
       "'The question \"What is life?\" is one of the most profound and enduring inquiries in human thought, spanning philosophy, science, religion, and art. The answer depends on the context in which it\\'s asked—scientific, existential, spiritual, or personal.\\n\\n### Scientific Perspective:\\nFrom a biological and scientific standpoint, life is often defined by specific characteristics that distinguish living organisms from non-living matter. These characteristics include:\\n\\n1. **Cellular Organization:** Living things are made up of one or more cells.\\n2. **Metabolism:** They use energy and perform biochemical reactions to sustain themselves.\\n3. **Growth and Development:** Organisms grow and follow specific life cycles.\\n4. **Homeostasis:** They maintain internal stability despite external changes.\\n5. **Reproduction:** Life produces offspring to pass on genetic information.\\n6. **Adaptation and Evolution:** Species evolve over time to better survive in their environment.\\n7. **Response to Stimuli:** Living organisms detect and respond to changes in their surroundings.\\n\\nBy these criteria, life can be defined as a self-sustaining chemical system capable of Darwinian evolution.\\n\\n---\\n\\n### Philosophical and Existential Perspective:\\nPhilosophically, \"What is life?\" opens up questions about meaning, purpose, and existence. Many thinkers have grappled with these issues:\\n\\n- **Existentialism:** Existentialists like Jean-Paul Sartre and Albert Camus view life as inherently meaningless, but they believe humans have the freedom—and responsibility—to create their own meaning.\\n- **Absurdism:** Camus suggests that the search for meaning may always come up against the \"absurd\"—the universe’s indifference to human life. Yet, he argues for embracing life as it is.\\n- **Eastern Philosophy:** In traditions like Buddhism, life is seen as impermanent and interconnected. The ultimate goal might be liberation from the cycle of suffering (samsara) through enlightenment or self-realization.\\n\\n---\\n\\n### Spiritual and Religious Perspective:\\nReligions often provide answers to what life is and why it exists, rooted in ideas of divine creation, purpose, and ultimate destiny:\\n\\n- In **Christianity**, life is a gift from God, and its purpose is to serve, love, and glorify God while eventually attaining eternal life.\\n- In **Hinduism** and **Buddhism**, life is part of a cycle of birth, death, and rebirth (samsara), with the ultimate aim of achieving liberation (moksha or nirvana).\\n- **Islam** teaches that life is a test and a temporary stage meant to prepare humans for the hereafter.\\n\\n---\\n\\n### Personal Perspective:\\nOn a personal level, what life *is* often depends on individual experiences, relationships, and beliefs. For some, life might mean seeking love, happiness, and connection. For others, it might involve achieving knowledge, creating art, or making a difference.\\n\\nAs individuals, we continually interpret life\\'s meaning through the lens of our emotions, values, and interactions with the world. Each answer is unique and evolves over time.\\n\\n---\\n\\n### The Mystery:\\nAt its core, life remains a profound mystery. Despite centuries of scientific and philosophical exploration, many aspects of it—its origin, its purpose (if any), its ultimate meaning—remain unanswered.\\n\\nPerhaps *life* is not something to define conclusively but rather something to experience, to question, and to cherish.\\n\\n'"
      ]
     },
     "execution_count": 10,
     "metadata": {},
     "output_type": "execute_result"
    }
   ],
   "source": [
    "response['messages'][-1].content"
   ]
  },
  {
   "cell_type": "code",
   "execution_count": 11,
   "id": "f1732271",
   "metadata": {},
   "outputs": [
    {
     "name": "stdout",
     "output_type": "stream",
     "text": [
      "Hello! I'm just a bundle of virtual energy, so I'm always good—thank you for asking! 😊 How about you? How's your day going?\n"
     ]
    }
   ],
   "source": [
    "for event in graph.stream({'messages':'Hi How are you?'}):\n",
    "    for val in event.values():\n",
    "        print(val['messages'][-1].content)"
   ]
  },
  {
   "cell_type": "code",
   "execution_count": 12,
   "id": "adf5f007",
   "metadata": {},
   "outputs": [
    {
     "name": "stdout",
     "output_type": "stream",
     "text": [
      "HUMAN: sup\n",
      "AI: Hey there! What's up? How can I assist you today? 😊\n"
     ]
    }
   ],
   "source": [
    "from langchain_core.messages import HumanMessage\n",
    "response = graph.invoke({\"messages\": [HumanMessage(content=\"Hi\")]})\n",
    "response = graph.invoke({\"messages\": [HumanMessage(content=\"sup\")]})\n",
    "for msg in response['messages']:\n",
    "    print(f\"{msg.type.upper()}: {msg.content}\")\n"
   ]
  },
  {
   "cell_type": "markdown",
   "id": "83279a1d",
   "metadata": {},
   "source": [
    "# chatbot with tools "
   ]
  },
  {
   "cell_type": "code",
   "execution_count": 13,
   "id": "6094181a",
   "metadata": {},
   "outputs": [
    {
     "data": {
      "text/plain": [
       "{'query': 'what is langgraph',\n",
       " 'follow_up_questions': None,\n",
       " 'answer': None,\n",
       " 'images': [],\n",
       " 'results': [{'title': 'What is LangGraph? - IBM',\n",
       "   'url': 'https://www.ibm.com/think/topics/langgraph',\n",
       "   'content': 'LangGraph, created by LangChain, is an open source AI agent framework designed to build, deploy and manage complex generative AI agent workflows. At its core, LangGraph uses the power of graph-based architectures to model and manage the intricate relationships between various components of an AI agent workflow. LangGraph illuminates the processes within an AI workflow, allowing full transparency of the agent’s state. By combining these technologies with a set of APIs and tools, LangGraph provides users with a versatile platform for developing AI solutions and workflows including chatbots, state graphs and other agent-based systems. Nodes: In LangGraph, nodes represent individual components or agents within an AI workflow. LangGraph uses enhanced decision-making by modeling complex relationships between nodes, which means it uses AI agents to analyze their past actions and feedback.',\n",
       "   'score': 0.9385817,\n",
       "   'raw_content': None},\n",
       "  {'title': 'What is LangGraph? - GeeksforGeeks',\n",
       "   'url': 'https://www.geeksforgeeks.org/machine-learning/what-is-langgraph/',\n",
       "   'content': 'LangGraph is a Python library that helps you build applications like chatbots or AI agents by organizing their logic step-by-step using state machine model. This step configures your Gemini API key and then we create a simple function ask_gemini that takes user input, sends it to the Gemini model and returns the AI-generated response. Creates a state structure with three fields: question, classification and response which flows through the LangGraph. import matplotlib.pyplot as plt from langgraph.graph import StateGraph\\u200bbuilder = StateGraph(GraphState)builder.add_node(\"classify\", classify)builder.add_node(\"respond\", respond)builder.set_entry_point(\"classify\")builder.add_edge(\"classify\", \"respond\")builder.set_finish_point(\"respond\")app = builder.compile()\\u200bdef visualize_workflow(builder): G = nx.DiGraph()\\u200b for node in builder.nodes: G.add_node(node) for edge in builder.edges: G.add_edge(edge[0], edge[1])\\u200b pos = nx.spring_layout(G) nx.draw(G, pos, with_labels=True, node_size=3000, node_color=\"skyblue\", font_size=12, font_weight=\"bold\", arrows=True)  plt.title(\"Langchain Workflow Visualization\") plt.show()\\u200bvisualize_workflow(builder)',\n",
       "   'score': 0.91118777,\n",
       "   'raw_content': None}],\n",
       " 'response_time': 1.51}"
      ]
     },
     "execution_count": 13,
     "metadata": {},
     "output_type": "execute_result"
    }
   ],
   "source": [
    "from langchain_tavily import TavilySearch\n",
    "\n",
    "tool=TavilySearch(max_results=2)\n",
    "tool.invoke('what is langgraph')"
   ]
  },
  {
   "cell_type": "code",
   "execution_count": 14,
   "id": "810b7eec",
   "metadata": {},
   "outputs": [],
   "source": [
    "## Custom function \n",
    "def multiply(a:int,b:int)-> int:\n",
    "    \"\"\" \n",
    "    Multiply a and b\n",
    "    Agrs:\n",
    "        a (int): first int\n",
    "        b (int): second int \n",
    "    Returns:\n",
    "        int: output int     \n",
    "    \"\"\"\n",
    "    return a*b\n"
   ]
  },
  {
   "cell_type": "code",
   "execution_count": 15,
   "id": "cd03ccfe",
   "metadata": {},
   "outputs": [],
   "source": [
    "tools=[tool,multiply]"
   ]
  },
  {
   "cell_type": "code",
   "execution_count": 16,
   "id": "6b7eaf13",
   "metadata": {},
   "outputs": [
    {
     "data": {
      "text/plain": [
       "RunnableBinding(bound=AzureChatOpenAI(client=<openai.resources.chat.completions.completions.Completions object at 0x000002C4C2E33E90>, async_client=<openai.resources.chat.completions.completions.AsyncCompletions object at 0x000002C4C32E23F0>, root_client=<openai.lib.azure.AzureOpenAI object at 0x000002C4C2DCEBD0>, root_async_client=<openai.lib.azure.AsyncAzureOpenAI object at 0x000002C4C2E33F80>, model_kwargs={}, openai_api_key=SecretStr('**********'), disabled_params={'parallel_tool_calls': None}, azure_endpoint='https://llmops-amruth.openai.azure.com/', deployment_name='gpt-4o', openai_api_version='2024-12-01-preview', openai_api_type='azure'), kwargs={'tools': [{'type': 'function', 'function': {'name': 'tavily_search', 'description': 'A search engine optimized for comprehensive, accurate, and trusted results. Useful for when you need to answer questions about current events. It not only retrieves URLs and snippets, but offers advanced search depths, domain management, time range filters, and image search, this tool delivers real-time, accurate, and citation-backed results.Input should be a search query.', 'parameters': {'properties': {'query': {'description': 'Search query to look up', 'type': 'string'}, 'include_domains': {'anyOf': [{'items': {'type': 'string'}, 'type': 'array'}, {'type': 'null'}], 'default': [], 'description': 'A list of domains to restrict search results to.\\n\\n        Use this parameter when:\\n        1. The user explicitly requests information from specific websites (e.g., \"Find climate data from nasa.gov\")\\n        2. The user mentions an organization or company without specifying the domain (e.g., \"Find information about iPhones from Apple\")\\n\\n        In both cases, you should determine the appropriate domains (e.g., [\"nasa.gov\"] or [\"apple.com\"]) and set this parameter.\\n\\n        Results will ONLY come from the specified domains - no other sources will be included.\\n        Default is None (no domain restriction).\\n        '}, 'exclude_domains': {'anyOf': [{'items': {'type': 'string'}, 'type': 'array'}, {'type': 'null'}], 'default': [], 'description': 'A list of domains to exclude from search results.\\n\\n        Use this parameter when:\\n        1. The user explicitly requests to avoid certain websites (e.g., \"Find information about climate change but not from twitter.com\")\\n        2. The user mentions not wanting results from specific organizations without naming the domain (e.g., \"Find phone reviews but nothing from Apple\")\\n\\n        In both cases, you should determine the appropriate domains to exclude (e.g., [\"twitter.com\"] or [\"apple.com\"]) and set this parameter.\\n\\n        Results will filter out all content from the specified domains.\\n        Default is None (no domain exclusion).\\n        '}, 'search_depth': {'anyOf': [{'enum': ['basic', 'advanced'], 'type': 'string'}, {'type': 'null'}], 'default': 'basic', 'description': 'Controls search thoroughness and result comprehensiveness.\\n    \\n        Use \"basic\" for simple queries requiring quick, straightforward answers.\\n        \\n        Use \"advanced\" (default) for complex queries, specialized topics, \\n        rare information, or when in-depth analysis is needed.\\n        '}, 'include_images': {'anyOf': [{'type': 'boolean'}, {'type': 'null'}], 'default': False, 'description': 'Determines if the search returns relevant images along with text results.\\n   \\n        Set to True when the user explicitly requests visuals or when images would \\n        significantly enhance understanding (e.g., \"Show me what black holes look like,\" \\n        \"Find pictures of Renaissance art\").\\n        \\n        Leave as False (default) for most informational queries where text is sufficient.\\n        '}, 'time_range': {'anyOf': [{'enum': ['day', 'week', 'month', 'year'], 'type': 'string'}, {'type': 'null'}], 'default': None, 'description': 'Limits results to content published within a specific timeframe.\\n        \\n        ONLY set this when the user explicitly mentions a time period \\n        (e.g., \"latest AI news,\" \"articles from last week\").\\n        \\n        For less popular or niche topics, use broader time ranges \\n        (\"month\" or \"year\") to ensure sufficient relevant results.\\n   \\n        Options: \"day\" (24h), \"week\" (7d), \"month\" (30d), \"year\" (365d).\\n        \\n        Default is None.\\n        '}, 'topic': {'anyOf': [{'enum': ['general', 'news', 'finance'], 'type': 'string'}, {'type': 'null'}], 'default': 'general', 'description': 'Specifies search category for optimized results.\\n   \\n        Use \"general\" (default) for most queries, INCLUDING those with terms like \\n        \"latest,\" \"newest,\" or \"recent\" when referring to general information.\\n\\n        Use \"finance\" for markets, investments, economic data, or financial news.\\n\\n        Use \"news\" ONLY for politics, sports, or major current events covered by \\n        mainstream media - NOT simply because a query asks for \"new\" information.\\n        '}}, 'required': ['query'], 'type': 'object'}}}, {'type': 'function', 'function': {'name': 'multiply', 'description': 'Multiply a and b\\nAgrs:\\n    a (int): first int\\n    b (int): second int \\nReturns:\\n    int: output int     ', 'parameters': {'properties': {'a': {'type': 'integer'}, 'b': {'type': 'integer'}}, 'required': ['a', 'b'], 'type': 'object'}}}]}, config={}, config_factories=[])"
      ]
     },
     "execution_count": 16,
     "metadata": {},
     "output_type": "execute_result"
    }
   ],
   "source": [
    "llm_with_tools=llm_open_ai.bind_tools(tools)\n",
    "llm_with_tools"
   ]
  },
  {
   "cell_type": "code",
   "execution_count": 17,
   "id": "fac60df6",
   "metadata": {},
   "outputs": [],
   "source": [
    "## state graph \n",
    "from langgraph.graph import StateGraph,START,END\n",
    "from langgraph.prebuilt import ToolNode\n",
    "from langgraph.prebuilt import tools_condition\n",
    "\n",
    "# node definition \n",
    "def tool_calling_llm(state:State):\n",
    "    return {'messages':[llm_with_tools.invoke(state['messages'])]}\n",
    "\n",
    "## create a graph \n",
    "builder=StateGraph(State)\n",
    "builder.add_node('tool_calling_llm',tool_calling_llm)\n",
    "builder.add_node('tools',ToolNode(tools))\n",
    "builder.add_edge(START,'tool_calling_llm')\n",
    "builder.add_conditional_edges(\n",
    "    'tool_calling_llm',tools_condition\n",
    "    # if the latest message (result) from assistant is a tool call -> tools_confition routes to tools \n",
    "    # if the latest message (result) from assistant is not a tool call -> tools_confition routes to END \n",
    ")\n",
    "builder.add_edge('tools',END)\n",
    "graph=builder.compile()"
   ]
  },
  {
   "cell_type": "code",
   "execution_count": 18,
   "id": "9ab465cd",
   "metadata": {},
   "outputs": [
    {
     "data": {
      "image/png": "[encoded data removed]",
      "text/plain": [
       "<IPython.core.display.Image object>"
      ]
     },
     "metadata": {},
     "output_type": "display_data"
    }
   ],
   "source": [
    "from IPython.display import Image, display\n",
    "\n",
    "display(Image(graph.get_graph().draw_mermaid_png()))"
   ]
  },
  {
   "cell_type": "code",
   "execution_count": 19,
   "id": "139bcc2a",
   "metadata": {},
   "outputs": [
    {
     "data": {
      "text/plain": [
       "{'messages': [HumanMessage(content='what is the resent AI news?', additional_kwargs={}, response_metadata={}, id='4aa785d2-a17f-4eea-87f7-8b8d16a01cce'),\n",
       "  AIMessage(content='', additional_kwargs={'tool_calls': [{'id': 'call_9qOeEfYZo8213NSZ6e6iK4Ib', 'function': {'arguments': '{\"query\":\"recent AI news\",\"search_depth\":\"advanced\",\"time_range\":\"week\",\"topic\":\"news\"}', 'name': 'tavily_search'}, 'type': 'function'}], 'refusal': None}, response_metadata={'token_usage': {'completion_tokens': 33, 'prompt_tokens': 823, 'total_tokens': 856, 'completion_tokens_details': {'accepted_prediction_tokens': 0, 'audio_tokens': 0, 'reasoning_tokens': 0, 'rejected_prediction_tokens': 0}, 'prompt_tokens_details': {'audio_tokens': 0, 'cached_tokens': 0}}, 'model_name': 'gpt-4o-2024-11-20', 'system_fingerprint': 'fp_ee1d74bde0', 'id': 'chatcmpl-BnwHTbuuQ4dNEXJVzNGT32PqiB4LB', 'service_tier': None, 'prompt_filter_results': [{'prompt_index': 0, 'content_filter_results': {'hate': {'filtered': False, 'severity': 'safe'}, 'jailbreak': {'filtered': False, 'detected': False}, 'self_harm': {'filtered': False, 'severity': 'safe'}, 'sexual': {'filtered': False, 'severity': 'safe'}, 'violence': {'filtered': False, 'severity': 'safe'}}}], 'finish_reason': 'tool_calls', 'logprobs': None, 'content_filter_results': {}}, id='run--2e010f60-0f5c-499f-94f5-fb77bb2753a9-0', tool_calls=[{'name': 'tavily_search', 'args': {'query': 'recent AI news', 'search_depth': 'advanced', 'time_range': 'week', 'topic': 'news'}, 'id': 'call_9qOeEfYZo8213NSZ6e6iK4Ib', 'type': 'tool_call'}], usage_metadata={'input_tokens': 823, 'output_tokens': 33, 'total_tokens': 856, 'input_token_details': {'audio': 0, 'cache_read': 0}, 'output_token_details': {'audio': 0, 'reasoning': 0}}),\n",
       "  ToolMessage(content='{\"query\": \"recent AI news\", \"follow_up_questions\": null, \"answer\": null, \"images\": [], \"results\": [{\"url\": \"https://www.newsweek.com/nw-ai/ai-impact-awards-2025-science-engineering-2084754\", \"title\": \"AI Impact Awards 2025: The Changing Human Role in Science and Engineering - Newsweek\", \"score\": 0.7251239, \"published_date\": \"Wed, 25 Jun 2025 10:02:01 GMT\", \"content\": \"Newsweek _\\\\\\\\_will continue the conversation on meaningful AI innovations at our AI Impact Summit from June 23 to 25 in Sonoma, California. Click here to follow along on the live blog.\\\\\\\\__\\\\n\\\\nRequest Reprint & LicensingSubmit CorrectionView Editorial Guidelines\\\\n\\\\nSHARE:xfacebooklinkedinredditemailwhatsappCopy & Share\\\\n\\\\n✓ Link copied to clipboard!\\\\n\\\\nThe Latest in AI\\\\n----------------\\\\n\\\\nNEWSWEEK.AI\\\\n\\\\n06.09.25\\\\n\\\\n### Generative AI\\'s Mission to Explore Strange New Worlds [...] ### AI Will Connect Mercedes-Benz Places Residents to the World\\\\n\\\\nThe new Miami condo complex will have state-of-the-art technology.\\\\n\\\\nArtificial Intelligence Miami\\\\n\\\\nNEWS\\\\n\\\\n06.04.25\\\\n\\\\n### Reddit Sues AI Provider for Breach of Contract\\\\n\\\\nThe AI start up Anthropic has allegedly engaged in \\\\\"unlawful and unfair business acts.\\\\\"\\\\n\\\\nReddit AI\\\\n\\\\nTECHNOLOGY\\\\n\\\\n06.02.25\\\\n\\\\n### Could AI Save Small Businesses? Mindbody Makes a Case to Wellness Brands\", \"raw_content\": null}, {\"url\": \"https://www.biotechniques.com/computational-biology/slaseurope2025_evolving-ai-the-age-of-small-data-llms-and-privacy-preserving-computations/\", \"title\": \"Evolving AI: the age of small data, LLMs and privacy-preserving computations - BioTechniques\", \"score\": 0.68748367, \"published_date\": \"Tue, 24 Jun 2025 11:16:54 GMT\", \"content\": \"#### Filtering out unreliable COVID-19 research\\\\n\\\\nImage 7\\\\n\\\\n15 JUL 2022LAB DESIGN AND MACHINERY\\\\n\\\\n#### Automating ultrasound scanning\\\\n\\\\nImage 8\\\\n\\\\n7 SEP 2018CANCER RESEARCH\\\\n\\\\n#### Artificial intelligence turns its attention to cancer\\\\n\\\\nImage 9\\\\n\\\\n23 DEC 2019LAB DESIGN AND MACHINERY\\\\n\\\\n#### Anne Carpenter on artificial intelligence in the cell imaging field\\\\n\\\\nImage 10: AI automation aiforia\\\\n\\\\n1 JUL 2020NEWS\\\\n\\\\n#### AI is here to supercharge pathologists, not replace them\\\\n\\\\nImage 11\", \"raw_content\": null}], \"response_time\": 2.18}', name='tavily_search', id='360522a4-a183-470c-a02f-e0a312a78ee6', tool_call_id='call_9qOeEfYZo8213NSZ6e6iK4Ib')]}"
      ]
     },
     "execution_count": 19,
     "metadata": {},
     "output_type": "execute_result"
    }
   ],
   "source": [
    "response=graph.invoke({\"messages\":'what is the resent AI news?'})\n",
    "response"
   ]
  },
  {
   "cell_type": "code",
   "execution_count": 20,
   "id": "bf38ffc4",
   "metadata": {},
   "outputs": [
    {
     "data": {
      "text/plain": [
       "'{\"query\": \"recent AI news\", \"follow_up_questions\": null, \"answer\": null, \"images\": [], \"results\": [{\"url\": \"https://www.newsweek.com/nw-ai/ai-impact-awards-2025-science-engineering-2084754\", \"title\": \"AI Impact Awards 2025: The Changing Human Role in Science and Engineering - Newsweek\", \"score\": 0.7251239, \"published_date\": \"Wed, 25 Jun 2025 10:02:01 GMT\", \"content\": \"Newsweek _\\\\\\\\_will continue the conversation on meaningful AI innovations at our AI Impact Summit from June 23 to 25 in Sonoma, California. Click here to follow along on the live blog.\\\\\\\\__\\\\n\\\\nRequest Reprint & LicensingSubmit CorrectionView Editorial Guidelines\\\\n\\\\nSHARE:xfacebooklinkedinredditemailwhatsappCopy & Share\\\\n\\\\n✓ Link copied to clipboard!\\\\n\\\\nThe Latest in AI\\\\n----------------\\\\n\\\\nNEWSWEEK.AI\\\\n\\\\n06.09.25\\\\n\\\\n### Generative AI\\'s Mission to Explore Strange New Worlds [...] ### AI Will Connect Mercedes-Benz Places Residents to the World\\\\n\\\\nThe new Miami condo complex will have state-of-the-art technology.\\\\n\\\\nArtificial Intelligence Miami\\\\n\\\\nNEWS\\\\n\\\\n06.04.25\\\\n\\\\n### Reddit Sues AI Provider for Breach of Contract\\\\n\\\\nThe AI start up Anthropic has allegedly engaged in \\\\\"unlawful and unfair business acts.\\\\\"\\\\n\\\\nReddit AI\\\\n\\\\nTECHNOLOGY\\\\n\\\\n06.02.25\\\\n\\\\n### Could AI Save Small Businesses? Mindbody Makes a Case to Wellness Brands\", \"raw_content\": null}, {\"url\": \"https://www.biotechniques.com/computational-biology/slaseurope2025_evolving-ai-the-age-of-small-data-llms-and-privacy-preserving-computations/\", \"title\": \"Evolving AI: the age of small data, LLMs and privacy-preserving computations - BioTechniques\", \"score\": 0.68748367, \"published_date\": \"Tue, 24 Jun 2025 11:16:54 GMT\", \"content\": \"#### Filtering out unreliable COVID-19 research\\\\n\\\\nImage 7\\\\n\\\\n15 JUL 2022LAB DESIGN AND MACHINERY\\\\n\\\\n#### Automating ultrasound scanning\\\\n\\\\nImage 8\\\\n\\\\n7 SEP 2018CANCER RESEARCH\\\\n\\\\n#### Artificial intelligence turns its attention to cancer\\\\n\\\\nImage 9\\\\n\\\\n23 DEC 2019LAB DESIGN AND MACHINERY\\\\n\\\\n#### Anne Carpenter on artificial intelligence in the cell imaging field\\\\n\\\\nImage 10: AI automation aiforia\\\\n\\\\n1 JUL 2020NEWS\\\\n\\\\n#### AI is here to supercharge pathologists, not replace them\\\\n\\\\nImage 11\", \"raw_content\": null}], \"response_time\": 2.18}'"
      ]
     },
     "execution_count": 20,
     "metadata": {},
     "output_type": "execute_result"
    }
   ],
   "source": [
    "response['messages'][-1].content"
   ]
  },
  {
   "cell_type": "code",
   "execution_count": 21,
   "id": "6699047c",
   "metadata": {},
   "outputs": [
    {
     "name": "stdout",
     "output_type": "stream",
     "text": [
      "================================\u001b[1m Human Message \u001b[0m=================================\n",
      "\n",
      "what is the resent AI news?\n",
      "==================================\u001b[1m Ai Message \u001b[0m==================================\n",
      "Tool Calls:\n",
      "  tavily_search (call_9qOeEfYZo8213NSZ6e6iK4Ib)\n",
      " Call ID: call_9qOeEfYZo8213NSZ6e6iK4Ib\n",
      "  Args:\n",
      "    query: recent AI news\n",
      "    search_depth: advanced\n",
      "    time_range: week\n",
      "    topic: news\n",
      "=================================\u001b[1m Tool Message \u001b[0m=================================\n",
      "Name: tavily_search\n",
      "\n",
      "{\"query\": \"recent AI news\", \"follow_up_questions\": null, \"answer\": null, \"images\": [], \"results\": [{\"url\": \"https://www.newsweek.com/nw-ai/ai-impact-awards-2025-science-engineering-2084754\", \"title\": \"AI Impact Awards 2025: The Changing Human Role in Science and Engineering - Newsweek\", \"score\": 0.7251239, \"published_date\": \"Wed, 25 Jun 2025 10:02:01 GMT\", \"content\": \"Newsweek _\\\\_will continue the conversation on meaningful AI innovations at our AI Impact Summit from June 23 to 25 in Sonoma, California. Click here to follow along on the live blog.\\\\__\\n\\nRequest Reprint & LicensingSubmit CorrectionView Editorial Guidelines\\n\\nSHARE:xfacebooklinkedinredditemailwhatsappCopy & Share\\n\\n✓ Link copied to clipboard!\\n\\nThe Latest in AI\\n----------------\\n\\nNEWSWEEK.AI\\n\\n06.09.25\\n\\n### Generative AI's Mission to Explore Strange New Worlds [...] ### AI Will Connect Mercedes-Benz Places Residents to the World\\n\\nThe new Miami condo complex will have state-of-the-art technology.\\n\\nArtificial Intelligence Miami\\n\\nNEWS\\n\\n06.04.25\\n\\n### Reddit Sues AI Provider for Breach of Contract\\n\\nThe AI start up Anthropic has allegedly engaged in \\\"unlawful and unfair business acts.\\\"\\n\\nReddit AI\\n\\nTECHNOLOGY\\n\\n06.02.25\\n\\n### Could AI Save Small Businesses? Mindbody Makes a Case to Wellness Brands\", \"raw_content\": null}, {\"url\": \"https://www.biotechniques.com/computational-biology/slaseurope2025_evolving-ai-the-age-of-small-data-llms-and-privacy-preserving-computations/\", \"title\": \"Evolving AI: the age of small data, LLMs and privacy-preserving computations - BioTechniques\", \"score\": 0.68748367, \"published_date\": \"Tue, 24 Jun 2025 11:16:54 GMT\", \"content\": \"#### Filtering out unreliable COVID-19 research\\n\\nImage 7\\n\\n15 JUL 2022LAB DESIGN AND MACHINERY\\n\\n#### Automating ultrasound scanning\\n\\nImage 8\\n\\n7 SEP 2018CANCER RESEARCH\\n\\n#### Artificial intelligence turns its attention to cancer\\n\\nImage 9\\n\\n23 DEC 2019LAB DESIGN AND MACHINERY\\n\\n#### Anne Carpenter on artificial intelligence in the cell imaging field\\n\\nImage 10: AI automation aiforia\\n\\n1 JUL 2020NEWS\\n\\n#### AI is here to supercharge pathologists, not replace them\\n\\nImage 11\", \"raw_content\": null}], \"response_time\": 2.18}\n"
     ]
    }
   ],
   "source": [
    "for m in response['messages']:\n",
    "    m.pretty_print()"
   ]
  },
  {
   "cell_type": "code",
   "execution_count": 22,
   "id": "fd0b40f0",
   "metadata": {},
   "outputs": [
    {
     "data": {
      "text/plain": [
       "{'messages': [HumanMessage(content='2*3?', additional_kwargs={}, response_metadata={}, id='f18c0f2a-2c86-4232-a19f-79ec26c44d58'),\n",
       "  AIMessage(content='', additional_kwargs={'tool_calls': [{'id': 'call_yF4VRZe3fBVMon6Nrfh5SPU5', 'function': {'arguments': '{\"a\":2,\"b\":3}', 'name': 'multiply'}, 'type': 'function'}], 'refusal': None}, response_metadata={'token_usage': {'completion_tokens': 18, 'prompt_tokens': 820, 'total_tokens': 838, 'completion_tokens_details': {'accepted_prediction_tokens': 0, 'audio_tokens': 0, 'reasoning_tokens': 0, 'rejected_prediction_tokens': 0}, 'prompt_tokens_details': {'audio_tokens': 0, 'cached_tokens': 0}}, 'model_name': 'gpt-4o-2024-11-20', 'system_fingerprint': 'fp_ee1d74bde0', 'id': 'chatcmpl-BnwHXCilJkZS1Q6FELwegdQZuKDRT', 'service_tier': None, 'prompt_filter_results': [{'prompt_index': 0, 'content_filter_results': {'hate': {'filtered': False, 'severity': 'safe'}, 'jailbreak': {'filtered': False, 'detected': False}, 'self_harm': {'filtered': False, 'severity': 'safe'}, 'sexual': {'filtered': False, 'severity': 'safe'}, 'violence': {'filtered': False, 'severity': 'safe'}}}], 'finish_reason': 'tool_calls', 'logprobs': None, 'content_filter_results': {}}, id='run--04187642-1033-4e2a-8d49-dc4bf5ae2daf-0', tool_calls=[{'name': 'multiply', 'args': {'a': 2, 'b': 3}, 'id': 'call_yF4VRZe3fBVMon6Nrfh5SPU5', 'type': 'tool_call'}], usage_metadata={'input_tokens': 820, 'output_tokens': 18, 'total_tokens': 838, 'input_token_details': {'audio': 0, 'cache_read': 0}, 'output_token_details': {'audio': 0, 'reasoning': 0}}),\n",
       "  ToolMessage(content='6', name='multiply', id='b1ff7d49-7ace-4fcc-9406-f8b7f828a755', tool_call_id='call_yF4VRZe3fBVMon6Nrfh5SPU5')]}"
      ]
     },
     "execution_count": 22,
     "metadata": {},
     "output_type": "execute_result"
    }
   ],
   "source": [
    "response=graph.invoke({\"messages\":'2*3?'})\n",
    "response"
   ]
  },
  {
   "cell_type": "code",
   "execution_count": 23,
   "id": "8690efb6",
   "metadata": {},
   "outputs": [
    {
     "name": "stdout",
     "output_type": "stream",
     "text": [
      "================================\u001b[1m Human Message \u001b[0m=================================\n",
      "\n",
      "2*3?\n",
      "==================================\u001b[1m Ai Message \u001b[0m==================================\n",
      "Tool Calls:\n",
      "  multiply (call_yF4VRZe3fBVMon6Nrfh5SPU5)\n",
      " Call ID: call_yF4VRZe3fBVMon6Nrfh5SPU5\n",
      "  Args:\n",
      "    a: 2\n",
      "    b: 3\n",
      "=================================\u001b[1m Tool Message \u001b[0m=================================\n",
      "Name: multiply\n",
      "\n",
      "6\n"
     ]
    }
   ],
   "source": [
    "for m in response['messages']:\n",
    "    m.pretty_print()"
   ]
  },
  {
   "cell_type": "code",
   "execution_count": 24,
   "id": "34817ba9",
   "metadata": {},
   "outputs": [
    {
     "data": {
      "text/plain": [
       "{'messages': [HumanMessage(content='2*3*10?', additional_kwargs={}, response_metadata={}, id='df02d7b5-64bc-445f-bc6b-5a6ffcbd367b'),\n",
       "  AIMessage(content='', additional_kwargs={'tool_calls': [{'id': 'call_z78D1VzQoclWtxJbcCyDdMqk', 'function': {'arguments': '{\"a\": 2, \"b\": 3}', 'name': 'multiply'}, 'type': 'function'}, {'id': 'call_VMiwANVqfVJyv5xO1cjTal3T', 'function': {'arguments': '{\"a\": 6, \"b\": 10}', 'name': 'multiply'}, 'type': 'function'}], 'refusal': None}, response_metadata={'token_usage': {'completion_tokens': 51, 'prompt_tokens': 822, 'total_tokens': 873, 'completion_tokens_details': {'accepted_prediction_tokens': 0, 'audio_tokens': 0, 'reasoning_tokens': 0, 'rejected_prediction_tokens': 0}, 'prompt_tokens_details': {'audio_tokens': 0, 'cached_tokens': 0}}, 'model_name': 'gpt-4o-2024-11-20', 'system_fingerprint': 'fp_ee1d74bde0', 'id': 'chatcmpl-BnwHXqDjiFKD6uTXpE5cX6pWxBj5P', 'service_tier': None, 'prompt_filter_results': [{'prompt_index': 0, 'content_filter_results': {'hate': {'filtered': False, 'severity': 'safe'}, 'jailbreak': {'filtered': False, 'detected': False}, 'self_harm': {'filtered': False, 'severity': 'safe'}, 'sexual': {'filtered': False, 'severity': 'safe'}, 'violence': {'filtered': False, 'severity': 'safe'}}}], 'finish_reason': 'tool_calls', 'logprobs': None, 'content_filter_results': {}}, id='run--c464e045-8a73-4031-8243-5539f8234a1b-0', tool_calls=[{'name': 'multiply', 'args': {'a': 2, 'b': 3}, 'id': 'call_z78D1VzQoclWtxJbcCyDdMqk', 'type': 'tool_call'}, {'name': 'multiply', 'args': {'a': 6, 'b': 10}, 'id': 'call_VMiwANVqfVJyv5xO1cjTal3T', 'type': 'tool_call'}], usage_metadata={'input_tokens': 822, 'output_tokens': 51, 'total_tokens': 873, 'input_token_details': {'audio': 0, 'cache_read': 0}, 'output_token_details': {'audio': 0, 'reasoning': 0}}),\n",
       "  ToolMessage(content='6', name='multiply', id='7df1aaf5-58b6-43fb-9423-b0c9455bbf74', tool_call_id='call_z78D1VzQoclWtxJbcCyDdMqk'),\n",
       "  ToolMessage(content='60', name='multiply', id='24a6f118-b8ff-45ef-bd00-5abb7f072584', tool_call_id='call_VMiwANVqfVJyv5xO1cjTal3T')]}"
      ]
     },
     "execution_count": 24,
     "metadata": {},
     "output_type": "execute_result"
    }
   ],
   "source": [
    "response=graph.invoke({\"messages\":'2*3*10?'})\n",
    "response"
   ]
  },
  {
   "cell_type": "code",
   "execution_count": 25,
   "id": "60c204e2",
   "metadata": {},
   "outputs": [
    {
     "data": {
      "text/plain": [
       "{'messages': [HumanMessage(content='what is the latest AI news and how is NVIDIA stock?', additional_kwargs={}, response_metadata={}, id='380fda10-9edc-4834-94a1-0d4df99f22f6'),\n",
       "  AIMessage(content='', additional_kwargs={'tool_calls': [{'id': 'call_6udR7vCKDEK9QXeWykeO0oG7', 'function': {'arguments': '{\"query\": \"latest AI news\", \"time_range\": \"day\", \"topic\": \"news\"}', 'name': 'tavily_search'}, 'type': 'function'}, {'id': 'call_I3u6e8hphWvVGMchKiiDT2qY', 'function': {'arguments': '{\"query\": \"NVIDIA stock\", \"topic\": \"finance\"}', 'name': 'tavily_search'}, 'type': 'function'}], 'refusal': None}, response_metadata={'token_usage': {'completion_tokens': 66, 'prompt_tokens': 828, 'total_tokens': 894, 'completion_tokens_details': {'accepted_prediction_tokens': 0, 'audio_tokens': 0, 'reasoning_tokens': 0, 'rejected_prediction_tokens': 0}, 'prompt_tokens_details': {'audio_tokens': 0, 'cached_tokens': 0}}, 'model_name': 'gpt-4o-2024-11-20', 'system_fingerprint': 'fp_ee1d74bde0', 'id': 'chatcmpl-BnwHYnDFL2dZ9zD8slN8k1BqmwQU5', 'service_tier': None, 'prompt_filter_results': [{'prompt_index': 0, 'content_filter_results': {'hate': {'filtered': False, 'severity': 'safe'}, 'jailbreak': {'filtered': False, 'detected': False}, 'self_harm': {'filtered': False, 'severity': 'safe'}, 'sexual': {'filtered': False, 'severity': 'safe'}, 'violence': {'filtered': False, 'severity': 'safe'}}}], 'finish_reason': 'tool_calls', 'logprobs': None, 'content_filter_results': {}}, id='run--1fee015a-b1d0-40ce-83bd-c651cb48bd8a-0', tool_calls=[{'name': 'tavily_search', 'args': {'query': 'latest AI news', 'time_range': 'day', 'topic': 'news'}, 'id': 'call_6udR7vCKDEK9QXeWykeO0oG7', 'type': 'tool_call'}, {'name': 'tavily_search', 'args': {'query': 'NVIDIA stock', 'topic': 'finance'}, 'id': 'call_I3u6e8hphWvVGMchKiiDT2qY', 'type': 'tool_call'}], usage_metadata={'input_tokens': 828, 'output_tokens': 66, 'total_tokens': 894, 'input_token_details': {'audio': 0, 'cache_read': 0}, 'output_token_details': {'audio': 0, 'reasoning': 0}}),\n",
       "  ToolMessage(content='{\"query\": \"latest AI news\", \"follow_up_questions\": null, \"answer\": null, \"images\": [], \"results\": [{\"url\": \"https://opentools.ai/news/metas-ai-talent-grab-openai-researchers-jump-ship-for-superintelligence-ambitions\", \"title\": \"Meta\\'s AI Talent Grab: OpenAI Researchers Jump Ship for Superintelligence Ambitions - OpenTools\", \"score\": 0.55275756, \"published_date\": \"Sun, 29 Jun 2025 11:36:00 GMT\", \"content\": \"Meta\\'s AI Talent Grab: OpenAI Researchers Jump Ship for Superintelligence Ambitions | AI News 3.   metas-ai-talent-grab-openai-researchers-jump-ship-for-superintelligence-ambitions Meta\\'s AI Talent Grab: OpenAI Researchers Jump Ship for Superintelligence Ambitions Four key OpenAI researchers, involved in the development of models like GPT-4, have joined Meta\\'s superintelligence team, highlighting Meta\\'s aggressive tactics in securing top AI minds. Image 4: Banner for Meta\\'s AI Talent Grab: OpenAI Researchers Jump Ship for Superintelligence Ambitions The departure of four key OpenAI researchers to Meta\\'s superintelligence team marks a significant moment in the tech industry\\'s ongoing AI talent war. The competition for top talent in the AI industry is reaching new heights, with companies like Meta offering staggering compensation packages to attract researchers from competitors such as OpenAI.\", \"raw_content\": null}, {\"url\": \"https://www.startupecosystem.ca/news/meta-expands-ai-talent-with-key-openai-hire/\", \"title\": \"Meta Expands AI Talent with Key OpenAI Hire - Startup Ecosystem Canada\", \"score\": 0.50856906, \"published_date\": \"Sun, 29 Jun 2025 03:46:19 GMT\", \"content\": \"Meta Expands AI Talent with Key OpenAI Hire - Startup Ecosystem Canada Image 1: Startup Ecosystem Canada Image 2: Startup Ecosystem Canada Image 3: Meta Expands AI Talent with Key OpenAI Hire Meta Expands AI Talent with Key OpenAI Hire 3 days ago Image 5: Federal Judge Rules in Favor of Meta Over AI Training Copyright LawsuitGlobalFederal Judge Rules in Favor of Meta Over AI Training Copyright Lawsuit Image 6: Startup Eco System 3 weeks ago Image 7: Demis Hassabis Discusses AI and the Future of WorkGlobalDemis Hassabis Discusses AI and the Future of Work Image 8: Startup Eco System 4 weeks ago Image 11: Physics-Driven Advances in AI: The Work of Rose YuGlobalPhysics-Driven Advances in AI: The Work of Rose Yu\", \"raw_content\": null}], \"response_time\": 1.24}', name='tavily_search', id='aaf1adaf-3f06-4805-9074-911380b7fbb6', tool_call_id='call_6udR7vCKDEK9QXeWykeO0oG7'),\n",
       "  ToolMessage(content='{\"query\": \"NVIDIA stock\", \"follow_up_questions\": null, \"answer\": null, \"images\": [], \"results\": [{\"title\": \"Financial Analysis for NVDA\", \"url\": \"https://finance.yahoo.com/quote/NVDA/\", \"content\": \"Stock: NVDA\\\\nFinancial Analysis:\\\\nLatest Open Price: 156.04 Latest Close Price: 157.75 Highest Close Price: 157.75 Lowest Close Price: 40.30 Average Close Price (2 years): 96.16 Standard Deviation of Close Price: 36.93 Volume Traded (2 years): 186245241900 Total Return (2 years): 283.90% Annualized Return (2 years): 95.93% CAGR (2 years): 95.93% Sharpe Ratio (2 years): 2.60 Max Drawdown (2 years): 0.61% \", \"score\": 0.98689, \"raw_content\": null}, {\"title\": \"Where Will Nvidia Stock Be In 5 Years? June 2025 Edition - Forbes\", \"url\": \"https://www.forbes.com/sites/investor-hub/article/where-will-nvidia-nvda-stock-be-5-years/\", \"content\": \"*   Forbes Insights: Your Guide To Marketing In The Era Of AI| Paid Program  *   Forbes Insights: Your Five-Step Strategy To Unleash AI’s Value In Marketing| Paid Program  Nvidia has been a breakout stock since 2023, as demand runs hot for the company\\'s enterprise AI solutions. As reported by CNBC, Nvidia\\'s competitor AMD expects the AI chip market to reach $400 billion by 2027. Major market opportunities for Nvidia going forward include AI, gaming and digital-twin technology. If the AI market grows according to predictions and Nvidia retains margins and most of its market share, the company could double or triple in value in the next five years.\", \"score\": 0.82728493, \"raw_content\": null}], \"response_time\": 2.57}', name='tavily_search', id='bd4107ca-6558-4898-8c9a-912da19ed226', tool_call_id='call_I3u6e8hphWvVGMchKiiDT2qY')]}"
      ]
     },
     "execution_count": 25,
     "metadata": {},
     "output_type": "execute_result"
    }
   ],
   "source": [
    "response=graph.invoke({\"messages\":'what is the latest AI news and how is NVIDIA stock?'})\n",
    "response"
   ]
  },
  {
   "cell_type": "markdown",
   "id": "d7ccc071",
   "metadata": {},
   "source": [
    "## react agent architecture "
   ]
  },
  {
   "cell_type": "code",
   "execution_count": 26,
   "id": "bab9bc61",
   "metadata": {},
   "outputs": [],
   "source": [
    "## state graph \n",
    "from langgraph.graph import StateGraph,START,END\n",
    "from langgraph.prebuilt import ToolNode\n",
    "from langgraph.prebuilt import tools_condition\n",
    "\n",
    "# node definition \n",
    "def tool_calling_llm(state:State):\n",
    "    return {'messages':[llm_with_tools.invoke(state['messages'])]}\n",
    "\n",
    "## create a graph \n",
    "builder=StateGraph(State)\n",
    "builder.add_node('tool_calling_llm',tool_calling_llm)\n",
    "builder.add_node('tools',ToolNode(tools))\n",
    "builder.add_edge(START,'tool_calling_llm')\n",
    "builder.add_conditional_edges(\n",
    "    'tool_calling_llm',tools_condition\n",
    "    # if the latest message (result) from assistant is a tool call -> tools_confition routes to tools \n",
    "    # if the latest message (result) from assistant is not a tool call -> tools_confition routes to END \n",
    ")\n",
    "builder.add_edge('tools','tool_calling_llm')\n",
    "graph=builder.compile()"
   ]
  },
  {
   "cell_type": "code",
   "execution_count": 27,
   "id": "42780feb",
   "metadata": {},
   "outputs": [
    {
     "data": {
      "image/png": "[encoded data removed]",
      "text/plain": [
       "<IPython.core.display.Image object>"
      ]
     },
     "metadata": {},
     "output_type": "display_data"
    }
   ],
   "source": [
    "from IPython.display import Image,display \n",
    "\n",
    "from IPython.display import Image, display \n",
    "display(Image(graph.get_graph().draw_mermaid_png()))"
   ]
  },
  {
   "cell_type": "code",
   "execution_count": 28,
   "id": "100dd93d",
   "metadata": {},
   "outputs": [
    {
     "name": "stdout",
     "output_type": "stream",
     "text": [
      "================================\u001b[1m Human Message \u001b[0m=================================\n",
      "\n",
      "give me the resent AI news and what is 3*10*12\n",
      "==================================\u001b[1m Ai Message \u001b[0m==================================\n",
      "Tool Calls:\n",
      "  tavily_search (call_6bxWsC6iMiwi8i1X8EXbTfj1)\n",
      " Call ID: call_6bxWsC6iMiwi8i1X8EXbTfj1\n",
      "  Args:\n",
      "    query: recent AI news\n",
      "    search_depth: advanced\n",
      "    time_range: week\n",
      "    topic: news\n",
      "  multiply (call_02FiIGaAYGT0KtsVkEhg4fd2)\n",
      " Call ID: call_02FiIGaAYGT0KtsVkEhg4fd2\n",
      "  Args:\n",
      "    a: 3\n",
      "    b: 10\n",
      "=================================\u001b[1m Tool Message \u001b[0m=================================\n",
      "Name: tavily_search\n",
      "\n",
      "{\"query\": \"recent AI news\", \"follow_up_questions\": null, \"answer\": null, \"images\": [], \"results\": [{\"url\": \"https://www.newsweek.com/nw-ai/ai-impact-awards-2025-science-engineering-2084754\", \"title\": \"AI Impact Awards 2025: The Changing Human Role in Science and Engineering - Newsweek\", \"score\": 0.7251239, \"published_date\": \"Wed, 25 Jun 2025 10:02:01 GMT\", \"content\": \"Newsweek _\\\\_will continue the conversation on meaningful AI innovations at our AI Impact Summit from June 23 to 25 in Sonoma, California. Click here to follow along on the live blog.\\\\__\\n\\nRequest Reprint & LicensingSubmit CorrectionView Editorial Guidelines\\n\\nSHARE:xfacebooklinkedinredditemailwhatsappCopy & Share\\n\\n✓ Link copied to clipboard!\\n\\nThe Latest in AI\\n----------------\\n\\nNEWSWEEK.AI\\n\\n06.09.25\\n\\n### Generative AI's Mission to Explore Strange New Worlds [...] ### AI Will Connect Mercedes-Benz Places Residents to the World\\n\\nThe new Miami condo complex will have state-of-the-art technology.\\n\\nArtificial Intelligence Miami\\n\\nNEWS\\n\\n06.04.25\\n\\n### Reddit Sues AI Provider for Breach of Contract\\n\\nThe AI start up Anthropic has allegedly engaged in \\\"unlawful and unfair business acts.\\\"\\n\\nReddit AI\\n\\nTECHNOLOGY\\n\\n06.02.25\\n\\n### Could AI Save Small Businesses? Mindbody Makes a Case to Wellness Brands\", \"raw_content\": null}, {\"url\": \"https://www.biotechniques.com/computational-biology/slaseurope2025_evolving-ai-the-age-of-small-data-llms-and-privacy-preserving-computations/\", \"title\": \"Evolving AI: the age of small data, LLMs and privacy-preserving computations - BioTechniques\", \"score\": 0.68748367, \"published_date\": \"Tue, 24 Jun 2025 11:16:54 GMT\", \"content\": \"#### Filtering out unreliable COVID-19 research\\n\\nImage 7\\n\\n15 JUL 2022LAB DESIGN AND MACHINERY\\n\\n#### Automating ultrasound scanning\\n\\nImage 8\\n\\n7 SEP 2018CANCER RESEARCH\\n\\n#### Artificial intelligence turns its attention to cancer\\n\\nImage 9\\n\\n23 DEC 2019LAB DESIGN AND MACHINERY\\n\\n#### Anne Carpenter on artificial intelligence in the cell imaging field\\n\\nImage 10: AI automation aiforia\\n\\n1 JUL 2020NEWS\\n\\n#### AI is here to supercharge pathologists, not replace them\\n\\nImage 11\", \"raw_content\": null}], \"response_time\": 1.23}\n",
      "=================================\u001b[1m Tool Message \u001b[0m=================================\n",
      "Name: multiply\n",
      "\n",
      "30\n",
      "==================================\u001b[1m Ai Message \u001b[0m==================================\n",
      "Tool Calls:\n",
      "  multiply (call_a0nMce28CyKXyVsBnag1aXOL)\n",
      " Call ID: call_a0nMce28CyKXyVsBnag1aXOL\n",
      "  Args:\n",
      "    a: 30\n",
      "    b: 12\n",
      "=================================\u001b[1m Tool Message \u001b[0m=================================\n",
      "Name: multiply\n",
      "\n",
      "360\n",
      "==================================\u001b[1m Ai Message \u001b[0m==================================\n",
      "\n",
      "### Recent AI News:\n",
      "1. **AI Impact Summit** - Newsweek highlighted upcoming meaningful AI innovations at their AI Impact Summit. Topics include generative AI's exploration of new worlds and integrating AI with everyday life (e.g., smart luxury condo technologies). [Read more here](https://www.newsweek.com/nw-ai/ai-impact-awards-2025-science-engineering-2084754).\n",
      "\n",
      "2. **Evolving AI Strategies** - Discussions are underway about the shift to \"small data,\" large language models (LLMs), and privacy-preserving computations to make AI more reliable and effective in various domains like cancer research and clinical diagnostics. [Explore details](https://www.biotechniques.com/computational-biology/slaseurope2025_evolving-ai-the-age-of-small-data-llms-and-privacy-preserving-computations/).\n",
      "\n",
      "---\n",
      "\n",
      "### Answer to math calculation:\n",
      "3 × 10 × 12 = **360**\n"
     ]
    }
   ],
   "source": [
    "response=graph.invoke({'messages':'give me the resent AI news and what is 3*10*12'})\n",
    "for m in response['messages']:\n",
    "    m.pretty_print()"
   ]
  },
  {
   "cell_type": "code",
   "execution_count": 29,
   "id": "53d6a543",
   "metadata": {},
   "outputs": [
    {
     "name": "stdout",
     "output_type": "stream",
     "text": [
      "================================\u001b[1m Human Message \u001b[0m=================================\n",
      "\n",
      "Hello whats my name?\n",
      "==================================\u001b[1m Ai Message \u001b[0m==================================\n",
      "\n",
      "You haven't shared your name with me yet! What's your name?\n"
     ]
    }
   ],
   "source": [
    "response=graph.invoke({'messages':'Hello whats my name?'})\n",
    "for m in response['messages']:\n",
    "    m.pretty_print()"
   ]
  },
  {
   "cell_type": "markdown",
   "id": "9d3e63ca",
   "metadata": {},
   "source": [
    "# Adding memory in Agentic Graph"
   ]
  },
  {
   "cell_type": "code",
   "execution_count": 30,
   "id": "04dd4c85",
   "metadata": {},
   "outputs": [],
   "source": [
    "# state class \n",
    "from langgraph.prebuilt import ToolNode \n",
    "\n",
    "class State(TypedDict):\n",
    "    messages:Annotated[list,add_messages]\n",
    "builder=StateGraph(State)\n",
    "\n",
    "# add chatbot node\n",
    "def chatbot(state:State):\n",
    "    return {'messages':[llm_open_ai.invoke(state['messages'])]}\n",
    "\n",
    "tool=TavilySearch(max_results=2)\n",
    "tools=[tool,multiply]\n",
    "\n",
    "llm_with_tools=llm_open_ai.bind_tools(tools)\n",
    "\n"
   ]
  },
  {
   "cell_type": "code",
   "execution_count": 31,
   "id": "b48f9aab",
   "metadata": {},
   "outputs": [],
   "source": [
    "# stategraph \n",
    "from langgraph.graph import StateGraph,START,END\n",
    "from langgraph.prebuilt import ToolNode\n",
    "from langgraph.prebuilt import tools_condition\n",
    "from langgraph.checkpoint.memory import MemorySaver\n",
    "\n",
    "memory=MemorySaver()\n",
    "\n",
    "## Node definition\n",
    "def tool_calling_llm(state:State):\n",
    "    return {'messages':[llm_with_tools.invoke(state['messages'])]}\n",
    "\n",
    "## create a graph \n",
    "builder1=StateGraph(State)\n",
    "builder1.add_node('tool_calling_llm',tool_calling_llm)\n",
    "builder1.add_node('tools',ToolNode(tools))\n",
    "builder1.add_edge(START,'tool_calling_llm')\n",
    "builder1.add_conditional_edges('tool_calling_llm',tools_condition)\n",
    "builder1.add_edge('tools','tool_calling_llm')\n",
    "\n",
    "# add memory and compile \n",
    "graph=builder1.compile(checkpointer=memory)\n"
   ]
  },
  {
   "cell_type": "code",
   "execution_count": 32,
   "id": "2206bb25",
   "metadata": {},
   "outputs": [
    {
     "data": {
      "image/png": "[encoded data removed]",
      "text/plain": [
       "<IPython.core.display.Image object>"
      ]
     },
     "metadata": {},
     "output_type": "display_data"
    }
   ],
   "source": [
    "from IPython.display import Image,display\n",
    "display(Image(graph.get_graph().draw_mermaid_png()))"
   ]
  },
  {
   "cell_type": "code",
   "execution_count": 33,
   "id": "aea1b381",
   "metadata": {},
   "outputs": [
    {
     "data": {
      "text/plain": [
       "{'messages': [HumanMessage(content='Hi my name is amruth', additional_kwargs={}, response_metadata={}, id='b83e85f4-c57b-4084-8cb1-35a033ea71dc'),\n",
       "  AIMessage(content='Hello, Amruth! How can I assist you today?', additional_kwargs={'refusal': None}, response_metadata={'token_usage': {'completion_tokens': 15, 'prompt_tokens': 823, 'total_tokens': 838, 'completion_tokens_details': {'accepted_prediction_tokens': 0, 'audio_tokens': 0, 'reasoning_tokens': 0, 'rejected_prediction_tokens': 0}, 'prompt_tokens_details': {'audio_tokens': 0, 'cached_tokens': 0}}, 'model_name': 'gpt-4o-2024-11-20', 'system_fingerprint': 'fp_ee1d74bde0', 'id': 'chatcmpl-BnwHjRmr9pO7hSfvEGAHfRVMtm7fY', 'service_tier': None, 'prompt_filter_results': [{'prompt_index': 0, 'content_filter_results': {'hate': {'filtered': False, 'severity': 'safe'}, 'jailbreak': {'filtered': False, 'detected': False}, 'self_harm': {'filtered': False, 'severity': 'safe'}, 'sexual': {'filtered': False, 'severity': 'safe'}, 'violence': {'filtered': False, 'severity': 'safe'}}}], 'finish_reason': 'stop', 'logprobs': None, 'content_filter_results': {'hate': {'filtered': False, 'severity': 'safe'}, 'protected_material_code': {'filtered': False, 'detected': False}, 'protected_material_text': {'filtered': False, 'detected': False}, 'self_harm': {'filtered': False, 'severity': 'safe'}, 'sexual': {'filtered': False, 'severity': 'safe'}, 'violence': {'filtered': False, 'severity': 'safe'}}}, id='run--0fc95932-e5cd-4dac-ab8c-c3ea8413cc3e-0', usage_metadata={'input_tokens': 823, 'output_tokens': 15, 'total_tokens': 838, 'input_token_details': {'audio': 0, 'cache_read': 0}, 'output_token_details': {'audio': 0, 'reasoning': 0}})]}"
      ]
     },
     "execution_count": 33,
     "metadata": {},
     "output_type": "execute_result"
    }
   ],
   "source": [
    "# creating thread variable \n",
    "config={'configurable':{'thread_id':'1'}}\n",
    "response=graph.invoke({'messages':'Hi my name is amruth'},config=config)\n",
    "\n",
    "response"
   ]
  },
  {
   "cell_type": "code",
   "execution_count": 34,
   "id": "d9070081",
   "metadata": {},
   "outputs": [
    {
     "data": {
      "text/plain": [
       "{'messages': [HumanMessage(content='Hi my name is amruth', additional_kwargs={}, response_metadata={}, id='b83e85f4-c57b-4084-8cb1-35a033ea71dc'),\n",
       "  AIMessage(content='Hello, Amruth! How can I assist you today?', additional_kwargs={'refusal': None}, response_metadata={'token_usage': {'completion_tokens': 15, 'prompt_tokens': 823, 'total_tokens': 838, 'completion_tokens_details': {'accepted_prediction_tokens': 0, 'audio_tokens': 0, 'reasoning_tokens': 0, 'rejected_prediction_tokens': 0}, 'prompt_tokens_details': {'audio_tokens': 0, 'cached_tokens': 0}}, 'model_name': 'gpt-4o-2024-11-20', 'system_fingerprint': 'fp_ee1d74bde0', 'id': 'chatcmpl-BnwHjRmr9pO7hSfvEGAHfRVMtm7fY', 'service_tier': None, 'prompt_filter_results': [{'prompt_index': 0, 'content_filter_results': {'hate': {'filtered': False, 'severity': 'safe'}, 'jailbreak': {'filtered': False, 'detected': False}, 'self_harm': {'filtered': False, 'severity': 'safe'}, 'sexual': {'filtered': False, 'severity': 'safe'}, 'violence': {'filtered': False, 'severity': 'safe'}}}], 'finish_reason': 'stop', 'logprobs': None, 'content_filter_results': {'hate': {'filtered': False, 'severity': 'safe'}, 'protected_material_code': {'filtered': False, 'detected': False}, 'protected_material_text': {'filtered': False, 'detected': False}, 'self_harm': {'filtered': False, 'severity': 'safe'}, 'sexual': {'filtered': False, 'severity': 'safe'}, 'violence': {'filtered': False, 'severity': 'safe'}}}, id='run--0fc95932-e5cd-4dac-ab8c-c3ea8413cc3e-0', usage_metadata={'input_tokens': 823, 'output_tokens': 15, 'total_tokens': 838, 'input_token_details': {'audio': 0, 'cache_read': 0}, 'output_token_details': {'audio': 0, 'reasoning': 0}}),\n",
       "  HumanMessage(content='what is 3 multiplied by 10 also what is the latest news on USA and IRAN?', additional_kwargs={}, response_metadata={}, id='68f13062-eb8b-4452-85b6-c1f505659d28'),\n",
       "  AIMessage(content='', additional_kwargs={'tool_calls': [{'id': 'call_9EWQMaGPV8CPRnwPgape6AnP', 'function': {'arguments': '{\"a\": 3, \"b\": 10}', 'name': 'multiply'}, 'type': 'function'}, {'id': 'call_JKg50p8HtUUpwNDyHPWfphhp', 'function': {'arguments': '{\"query\": \"latest USA Iran news\", \"search_depth\": \"advanced\", \"time_range\": \"day\", \"topic\": \"news\"}', 'name': 'tavily_search'}, 'type': 'function'}], 'refusal': None}, response_metadata={'token_usage': {'completion_tokens': 67, 'prompt_tokens': 864, 'total_tokens': 931, 'completion_tokens_details': {'accepted_prediction_tokens': 0, 'audio_tokens': 0, 'reasoning_tokens': 0, 'rejected_prediction_tokens': 0}, 'prompt_tokens_details': {'audio_tokens': 0, 'cached_tokens': 0}}, 'model_name': 'gpt-4o-2024-11-20', 'system_fingerprint': 'fp_ee1d74bde0', 'id': 'chatcmpl-BnwHjnGs9KEjYFrncyvxTlWUfbCJi', 'service_tier': None, 'prompt_filter_results': [{'prompt_index': 0, 'content_filter_results': {'hate': {'filtered': False, 'severity': 'safe'}, 'jailbreak': {'filtered': False, 'detected': False}, 'self_harm': {'filtered': False, 'severity': 'safe'}, 'sexual': {'filtered': False, 'severity': 'safe'}, 'violence': {'filtered': False, 'severity': 'safe'}}}], 'finish_reason': 'tool_calls', 'logprobs': None, 'content_filter_results': {}}, id='run--6d84665c-4e4e-41c6-9eca-268e58eb0e6d-0', tool_calls=[{'name': 'multiply', 'args': {'a': 3, 'b': 10}, 'id': 'call_9EWQMaGPV8CPRnwPgape6AnP', 'type': 'tool_call'}, {'name': 'tavily_search', 'args': {'query': 'latest USA Iran news', 'search_depth': 'advanced', 'time_range': 'day', 'topic': 'news'}, 'id': 'call_JKg50p8HtUUpwNDyHPWfphhp', 'type': 'tool_call'}], usage_metadata={'input_tokens': 864, 'output_tokens': 67, 'total_tokens': 931, 'input_token_details': {'audio': 0, 'cache_read': 0}, 'output_token_details': {'audio': 0, 'reasoning': 0}}),\n",
       "  ToolMessage(content='30', name='multiply', id='6cbc2480-6609-4682-a9f6-83dacf7605f1', tool_call_id='call_9EWQMaGPV8CPRnwPgape6AnP'),\n",
       "  ToolMessage(content='{\"query\": \"latest USA Iran news\", \"follow_up_questions\": null, \"answer\": null, \"images\": [], \"results\": [{\"url\": \"https://www.jpost.com/middle-east/article-859394\", \"title\": \"Trump: Countries expressed interest in joining Abraham Accords after Iran strikes - The Jerusalem Post\", \"score\": 0.7018975, \"published_date\": \"Sun, 29 Jun 2025 15:04:41 GMT\", \"content\": \"Washington, D.C., US June 21, 2025, following U.S. strikes on Iran\\'s nuclear facilities.(photo credit: REUTERS/CARLOS BARRIA)ByJERUSALEM POST STAFFJUNE 29, 2025 18:04 Updated:JUNE 29, 2025 18:12 See more onIran|Syria|Iran nuclear|Syria Iran|Donald Trump|Abraham Accords [...] Image 2:  US President Donald Trump delivers an address to the nation accompanied by US Vice President JD Vance, US Secretary of State Marco Rubio and US Defense Secretary Pete Hegseth, at the White House in Washington, D.C., US June 21, 2025, following U.S. strikes on Iran\\'s nuclear facilities. US President Donald Trump delivers an address to the nation accompanied by US Vice President JD Vance, US Secretary of State Marco Rubio and US Defense Secretary Pete Hegseth, at the White House in [...] 2025.\\'Every blow to Iran is a benefit\\': Why Syria allowed Israel bypass its airspace to strike IranJUNE 26, 2025Image 5: IAF fighter jets taking off for strikes in Iran, June 16, 2025.\\'Tehran is beautiful from above, I hope to visit one day\\' Israeli pilot says after strike on IranJUNE 26, 2025Image 6: Map showing the range of Israeli strikes on Iran, June 27, 2025.IDF releases details of damage to Iran\\'s nuclear, missile production sitesJUNE 27, 2025\", \"raw_content\": null}, {\"url\": \"https://caliber.az/en/post/us-army-to-end-shaving-waivers-impacting-soldiers-with-chronic-skin-condition\", \"title\": \"US Army to end shaving waivers, impacting soldiers with chronic skin condition - Caliber.Az\", \"score\": 0.6388584, \"published_date\": \"Sun, 29 Jun 2025 14:22:18 GMT\", \"content\": \"[]( scrambles jets amid massive Russian airstrike on Ukraine ---------------------------------------------------------------\\\\n\\\\n[](\\\\n\\\\n29 June 2025 12:31\\\\n\\\\n[]( US special envoy to hold talks on possible Iran nuclear deal -------------------------------------------------------------------\\\\n\\\\n[](\\\\n\\\\n29 June 2025 12:18\\\\n\\\\n[]( state secretary condemns Iranian threats to arrest and execute IAEA Chief Grossi -----------------------------------------------------------------------------------\\\\n\\\\n[]( [...] []( began preparing operation against Iran in 2010, intel files reveal -------------------------------------------------------------------------\\\\n\\\\n[](\\\\n\\\\n28 June 2025 18:00\\\\n\\\\n[]( diplomat: Iran must rebuild trust after missile strike on US base ---------------------------------------------------------------------\\\\n\\\\n[](\\\\n\\\\n28 June 2025 17:47\\\\n\\\\n[]( halts peace talks with Japan over Kuril Islands dispute --------------------------------------------------------------\\\\n\\\\n[](\\\\n\\\\n28 June 2025 17:35 [...] []( chief: Iran’s nuclear intentions remain unclear, but no evidence of weaponisation --------------------------------------------------------------------------------------\\\\n\\\\n[](\\\\n\\\\n29 June 2025 10:26\\\\n\\\\n[]( elder son signals possible future run for US presidency ---------------------------------------------------------------\\\\n\\\\n[](\\\\n\\\\n29 June 2025 10:14\", \"raw_content\": null}], \"response_time\": 1.91}', name='tavily_search', id='92158992-d700-4b13-909e-bff699601f25', tool_call_id='call_JKg50p8HtUUpwNDyHPWfphhp'),\n",
       "  AIMessage(content=\"1. **3 multiplied by 10** is **30**.\\n\\n2. **Latest news on USA and Iran**:\\n   - **The Jerusalem Post** reported that following U.S. strikes on Iran's nuclear facilities, former President Trump stated that several countries expressed interest in joining the Abraham Accords. The article mentions U.S. military actions and their implications for Middle Eastern geopolitics. [Read more here](https://www.jpost.com/middle-east/article-859394).\\n   - **Caliber.Az** highlighted discussions on a possible Iran nuclear deal. The U.S. special envoy is scheduled to hold talks, while Iranian threats against International Atomic Energy Agency Chief Grossi were condemned. [Read more here](https://caliber.az/en/post/us-army-to-end-shaving-waivers-impacting-soldiers-with-chronic-skin-condition).\\n\\nLet me know if you'd like further details!\", additional_kwargs={'refusal': None}, response_metadata={'token_usage': {'completion_tokens': 185, 'prompt_tokens': 1740, 'total_tokens': 1925, 'completion_tokens_details': {'accepted_prediction_tokens': 0, 'audio_tokens': 0, 'reasoning_tokens': 0, 'rejected_prediction_tokens': 0}, 'prompt_tokens_details': {'audio_tokens': 0, 'cached_tokens': 0}}, 'model_name': 'gpt-4o-2024-11-20', 'system_fingerprint': 'fp_ee1d74bde0', 'id': 'chatcmpl-BnwHn9qGEwpUc3IaCVEL11ucUFp1B', 'service_tier': None, 'prompt_filter_results': [{'prompt_index': 0, 'content_filter_results': {'hate': {'filtered': False, 'severity': 'safe'}, 'jailbreak': {'filtered': False, 'detected': False}, 'self_harm': {'filtered': False, 'severity': 'safe'}, 'sexual': {'filtered': False, 'severity': 'safe'}, 'violence': {'filtered': False, 'severity': 'safe'}}}], 'finish_reason': 'stop', 'logprobs': None, 'content_filter_results': {'hate': {'filtered': False, 'severity': 'safe'}, 'protected_material_code': {'filtered': False, 'detected': False}, 'protected_material_text': {'filtered': False, 'detected': False}, 'self_harm': {'filtered': False, 'severity': 'safe'}, 'sexual': {'filtered': False, 'severity': 'safe'}, 'violence': {'filtered': False, 'severity': 'safe'}}}, id='run--b281a64c-bec3-444e-94ec-7f680c556390-0', usage_metadata={'input_tokens': 1740, 'output_tokens': 185, 'total_tokens': 1925, 'input_token_details': {'audio': 0, 'cache_read': 0}, 'output_token_details': {'audio': 0, 'reasoning': 0}})]}"
      ]
     },
     "execution_count": 34,
     "metadata": {},
     "output_type": "execute_result"
    }
   ],
   "source": [
    "response=graph.invoke({'messages':'what is 3 multiplied by 10 also what is the latest news on USA and IRAN?'},config=config)\n",
    "response"
   ]
  },
  {
   "cell_type": "code",
   "execution_count": 35,
   "id": "4ca0f130",
   "metadata": {},
   "outputs": [
    {
     "data": {
      "text/plain": [
       "{'messages': [HumanMessage(content='Hi my name is amruth', additional_kwargs={}, response_metadata={}, id='b83e85f4-c57b-4084-8cb1-35a033ea71dc'),\n",
       "  AIMessage(content='Hello, Amruth! How can I assist you today?', additional_kwargs={'refusal': None}, response_metadata={'token_usage': {'completion_tokens': 15, 'prompt_tokens': 823, 'total_tokens': 838, 'completion_tokens_details': {'accepted_prediction_tokens': 0, 'audio_tokens': 0, 'reasoning_tokens': 0, 'rejected_prediction_tokens': 0}, 'prompt_tokens_details': {'audio_tokens': 0, 'cached_tokens': 0}}, 'model_name': 'gpt-4o-2024-11-20', 'system_fingerprint': 'fp_ee1d74bde0', 'id': 'chatcmpl-BnwHjRmr9pO7hSfvEGAHfRVMtm7fY', 'service_tier': None, 'prompt_filter_results': [{'prompt_index': 0, 'content_filter_results': {'hate': {'filtered': False, 'severity': 'safe'}, 'jailbreak': {'filtered': False, 'detected': False}, 'self_harm': {'filtered': False, 'severity': 'safe'}, 'sexual': {'filtered': False, 'severity': 'safe'}, 'violence': {'filtered': False, 'severity': 'safe'}}}], 'finish_reason': 'stop', 'logprobs': None, 'content_filter_results': {'hate': {'filtered': False, 'severity': 'safe'}, 'protected_material_code': {'filtered': False, 'detected': False}, 'protected_material_text': {'filtered': False, 'detected': False}, 'self_harm': {'filtered': False, 'severity': 'safe'}, 'sexual': {'filtered': False, 'severity': 'safe'}, 'violence': {'filtered': False, 'severity': 'safe'}}}, id='run--0fc95932-e5cd-4dac-ab8c-c3ea8413cc3e-0', usage_metadata={'input_tokens': 823, 'output_tokens': 15, 'total_tokens': 838, 'input_token_details': {'audio': 0, 'cache_read': 0}, 'output_token_details': {'audio': 0, 'reasoning': 0}}),\n",
       "  HumanMessage(content='what is 3 multiplied by 10 also what is the latest news on USA and IRAN?', additional_kwargs={}, response_metadata={}, id='68f13062-eb8b-4452-85b6-c1f505659d28'),\n",
       "  AIMessage(content='', additional_kwargs={'tool_calls': [{'id': 'call_9EWQMaGPV8CPRnwPgape6AnP', 'function': {'arguments': '{\"a\": 3, \"b\": 10}', 'name': 'multiply'}, 'type': 'function'}, {'id': 'call_JKg50p8HtUUpwNDyHPWfphhp', 'function': {'arguments': '{\"query\": \"latest USA Iran news\", \"search_depth\": \"advanced\", \"time_range\": \"day\", \"topic\": \"news\"}', 'name': 'tavily_search'}, 'type': 'function'}], 'refusal': None}, response_metadata={'token_usage': {'completion_tokens': 67, 'prompt_tokens': 864, 'total_tokens': 931, 'completion_tokens_details': {'accepted_prediction_tokens': 0, 'audio_tokens': 0, 'reasoning_tokens': 0, 'rejected_prediction_tokens': 0}, 'prompt_tokens_details': {'audio_tokens': 0, 'cached_tokens': 0}}, 'model_name': 'gpt-4o-2024-11-20', 'system_fingerprint': 'fp_ee1d74bde0', 'id': 'chatcmpl-BnwHjnGs9KEjYFrncyvxTlWUfbCJi', 'service_tier': None, 'prompt_filter_results': [{'prompt_index': 0, 'content_filter_results': {'hate': {'filtered': False, 'severity': 'safe'}, 'jailbreak': {'filtered': False, 'detected': False}, 'self_harm': {'filtered': False, 'severity': 'safe'}, 'sexual': {'filtered': False, 'severity': 'safe'}, 'violence': {'filtered': False, 'severity': 'safe'}}}], 'finish_reason': 'tool_calls', 'logprobs': None, 'content_filter_results': {}}, id='run--6d84665c-4e4e-41c6-9eca-268e58eb0e6d-0', tool_calls=[{'name': 'multiply', 'args': {'a': 3, 'b': 10}, 'id': 'call_9EWQMaGPV8CPRnwPgape6AnP', 'type': 'tool_call'}, {'name': 'tavily_search', 'args': {'query': 'latest USA Iran news', 'search_depth': 'advanced', 'time_range': 'day', 'topic': 'news'}, 'id': 'call_JKg50p8HtUUpwNDyHPWfphhp', 'type': 'tool_call'}], usage_metadata={'input_tokens': 864, 'output_tokens': 67, 'total_tokens': 931, 'input_token_details': {'audio': 0, 'cache_read': 0}, 'output_token_details': {'audio': 0, 'reasoning': 0}}),\n",
       "  ToolMessage(content='30', name='multiply', id='6cbc2480-6609-4682-a9f6-83dacf7605f1', tool_call_id='call_9EWQMaGPV8CPRnwPgape6AnP'),\n",
       "  ToolMessage(content='{\"query\": \"latest USA Iran news\", \"follow_up_questions\": null, \"answer\": null, \"images\": [], \"results\": [{\"url\": \"https://www.jpost.com/middle-east/article-859394\", \"title\": \"Trump: Countries expressed interest in joining Abraham Accords after Iran strikes - The Jerusalem Post\", \"score\": 0.7018975, \"published_date\": \"Sun, 29 Jun 2025 15:04:41 GMT\", \"content\": \"Washington, D.C., US June 21, 2025, following U.S. strikes on Iran\\'s nuclear facilities.(photo credit: REUTERS/CARLOS BARRIA)ByJERUSALEM POST STAFFJUNE 29, 2025 18:04 Updated:JUNE 29, 2025 18:12 See more onIran|Syria|Iran nuclear|Syria Iran|Donald Trump|Abraham Accords [...] Image 2:  US President Donald Trump delivers an address to the nation accompanied by US Vice President JD Vance, US Secretary of State Marco Rubio and US Defense Secretary Pete Hegseth, at the White House in Washington, D.C., US June 21, 2025, following U.S. strikes on Iran\\'s nuclear facilities. US President Donald Trump delivers an address to the nation accompanied by US Vice President JD Vance, US Secretary of State Marco Rubio and US Defense Secretary Pete Hegseth, at the White House in [...] 2025.\\'Every blow to Iran is a benefit\\': Why Syria allowed Israel bypass its airspace to strike IranJUNE 26, 2025Image 5: IAF fighter jets taking off for strikes in Iran, June 16, 2025.\\'Tehran is beautiful from above, I hope to visit one day\\' Israeli pilot says after strike on IranJUNE 26, 2025Image 6: Map showing the range of Israeli strikes on Iran, June 27, 2025.IDF releases details of damage to Iran\\'s nuclear, missile production sitesJUNE 27, 2025\", \"raw_content\": null}, {\"url\": \"https://caliber.az/en/post/us-army-to-end-shaving-waivers-impacting-soldiers-with-chronic-skin-condition\", \"title\": \"US Army to end shaving waivers, impacting soldiers with chronic skin condition - Caliber.Az\", \"score\": 0.6388584, \"published_date\": \"Sun, 29 Jun 2025 14:22:18 GMT\", \"content\": \"[]( scrambles jets amid massive Russian airstrike on Ukraine ---------------------------------------------------------------\\\\n\\\\n[](\\\\n\\\\n29 June 2025 12:31\\\\n\\\\n[]( US special envoy to hold talks on possible Iran nuclear deal -------------------------------------------------------------------\\\\n\\\\n[](\\\\n\\\\n29 June 2025 12:18\\\\n\\\\n[]( state secretary condemns Iranian threats to arrest and execute IAEA Chief Grossi -----------------------------------------------------------------------------------\\\\n\\\\n[]( [...] []( began preparing operation against Iran in 2010, intel files reveal -------------------------------------------------------------------------\\\\n\\\\n[](\\\\n\\\\n28 June 2025 18:00\\\\n\\\\n[]( diplomat: Iran must rebuild trust after missile strike on US base ---------------------------------------------------------------------\\\\n\\\\n[](\\\\n\\\\n28 June 2025 17:47\\\\n\\\\n[]( halts peace talks with Japan over Kuril Islands dispute --------------------------------------------------------------\\\\n\\\\n[](\\\\n\\\\n28 June 2025 17:35 [...] []( chief: Iran’s nuclear intentions remain unclear, but no evidence of weaponisation --------------------------------------------------------------------------------------\\\\n\\\\n[](\\\\n\\\\n29 June 2025 10:26\\\\n\\\\n[]( elder son signals possible future run for US presidency ---------------------------------------------------------------\\\\n\\\\n[](\\\\n\\\\n29 June 2025 10:14\", \"raw_content\": null}], \"response_time\": 1.91}', name='tavily_search', id='92158992-d700-4b13-909e-bff699601f25', tool_call_id='call_JKg50p8HtUUpwNDyHPWfphhp'),\n",
       "  AIMessage(content=\"1. **3 multiplied by 10** is **30**.\\n\\n2. **Latest news on USA and Iran**:\\n   - **The Jerusalem Post** reported that following U.S. strikes on Iran's nuclear facilities, former President Trump stated that several countries expressed interest in joining the Abraham Accords. The article mentions U.S. military actions and their implications for Middle Eastern geopolitics. [Read more here](https://www.jpost.com/middle-east/article-859394).\\n   - **Caliber.Az** highlighted discussions on a possible Iran nuclear deal. The U.S. special envoy is scheduled to hold talks, while Iranian threats against International Atomic Energy Agency Chief Grossi were condemned. [Read more here](https://caliber.az/en/post/us-army-to-end-shaving-waivers-impacting-soldiers-with-chronic-skin-condition).\\n\\nLet me know if you'd like further details!\", additional_kwargs={'refusal': None}, response_metadata={'token_usage': {'completion_tokens': 185, 'prompt_tokens': 1740, 'total_tokens': 1925, 'completion_tokens_details': {'accepted_prediction_tokens': 0, 'audio_tokens': 0, 'reasoning_tokens': 0, 'rejected_prediction_tokens': 0}, 'prompt_tokens_details': {'audio_tokens': 0, 'cached_tokens': 0}}, 'model_name': 'gpt-4o-2024-11-20', 'system_fingerprint': 'fp_ee1d74bde0', 'id': 'chatcmpl-BnwHn9qGEwpUc3IaCVEL11ucUFp1B', 'service_tier': None, 'prompt_filter_results': [{'prompt_index': 0, 'content_filter_results': {'hate': {'filtered': False, 'severity': 'safe'}, 'jailbreak': {'filtered': False, 'detected': False}, 'self_harm': {'filtered': False, 'severity': 'safe'}, 'sexual': {'filtered': False, 'severity': 'safe'}, 'violence': {'filtered': False, 'severity': 'safe'}}}], 'finish_reason': 'stop', 'logprobs': None, 'content_filter_results': {'hate': {'filtered': False, 'severity': 'safe'}, 'protected_material_code': {'filtered': False, 'detected': False}, 'protected_material_text': {'filtered': False, 'detected': False}, 'self_harm': {'filtered': False, 'severity': 'safe'}, 'sexual': {'filtered': False, 'severity': 'safe'}, 'violence': {'filtered': False, 'severity': 'safe'}}}, id='run--b281a64c-bec3-444e-94ec-7f680c556390-0', usage_metadata={'input_tokens': 1740, 'output_tokens': 185, 'total_tokens': 1925, 'input_token_details': {'audio': 0, 'cache_read': 0}, 'output_token_details': {'audio': 0, 'reasoning': 0}}),\n",
       "  HumanMessage(content='what is my name?', additional_kwargs={}, response_metadata={}, id='48ba5548-c936-4ae5-9591-6f30824113c1'),\n",
       "  AIMessage(content='Your name is Amruth! 😊', additional_kwargs={'refusal': None}, response_metadata={'token_usage': {'completion_tokens': 10, 'prompt_tokens': 1936, 'total_tokens': 1946, 'completion_tokens_details': {'accepted_prediction_tokens': 0, 'audio_tokens': 0, 'reasoning_tokens': 0, 'rejected_prediction_tokens': 0}, 'prompt_tokens_details': {'audio_tokens': 0, 'cached_tokens': 1792}}, 'model_name': 'gpt-4o-2024-11-20', 'system_fingerprint': 'fp_ee1d74bde0', 'id': 'chatcmpl-BnwHpA97HNHfQrRFRqpdKp7EIACT8', 'service_tier': None, 'prompt_filter_results': [{'prompt_index': 0, 'content_filter_results': {'hate': {'filtered': False, 'severity': 'safe'}, 'jailbreak': {'filtered': False, 'detected': False}, 'self_harm': {'filtered': False, 'severity': 'safe'}, 'sexual': {'filtered': False, 'severity': 'safe'}, 'violence': {'filtered': False, 'severity': 'safe'}}}], 'finish_reason': 'stop', 'logprobs': None, 'content_filter_results': {'hate': {'filtered': False, 'severity': 'safe'}, 'protected_material_code': {'filtered': False, 'detected': False}, 'protected_material_text': {'filtered': False, 'detected': False}, 'self_harm': {'filtered': False, 'severity': 'safe'}, 'sexual': {'filtered': False, 'severity': 'safe'}, 'violence': {'filtered': False, 'severity': 'safe'}}}, id='run--1bb48d81-dad8-41da-9416-3c12b5a7f363-0', usage_metadata={'input_tokens': 1936, 'output_tokens': 10, 'total_tokens': 1946, 'input_token_details': {'audio': 0, 'cache_read': 1792}, 'output_token_details': {'audio': 0, 'reasoning': 0}})]}"
      ]
     },
     "execution_count": 35,
     "metadata": {},
     "output_type": "execute_result"
    }
   ],
   "source": [
    "response=graph.invoke({'messages':'what is my name?'},config=config)\n",
    "response"
   ]
  },
  {
   "cell_type": "code",
   "execution_count": 36,
   "id": "f8a9adaf",
   "metadata": {},
   "outputs": [
    {
     "data": {
      "text/plain": [
       "{'messages': [HumanMessage(content='Hi my name is amruth', additional_kwargs={}, response_metadata={}, id='b83e85f4-c57b-4084-8cb1-35a033ea71dc'),\n",
       "  AIMessage(content='Hello, Amruth! How can I assist you today?', additional_kwargs={'refusal': None}, response_metadata={'token_usage': {'completion_tokens': 15, 'prompt_tokens': 823, 'total_tokens': 838, 'completion_tokens_details': {'accepted_prediction_tokens': 0, 'audio_tokens': 0, 'reasoning_tokens': 0, 'rejected_prediction_tokens': 0}, 'prompt_tokens_details': {'audio_tokens': 0, 'cached_tokens': 0}}, 'model_name': 'gpt-4o-2024-11-20', 'system_fingerprint': 'fp_ee1d74bde0', 'id': 'chatcmpl-BnwHjRmr9pO7hSfvEGAHfRVMtm7fY', 'service_tier': None, 'prompt_filter_results': [{'prompt_index': 0, 'content_filter_results': {'hate': {'filtered': False, 'severity': 'safe'}, 'jailbreak': {'filtered': False, 'detected': False}, 'self_harm': {'filtered': False, 'severity': 'safe'}, 'sexual': {'filtered': False, 'severity': 'safe'}, 'violence': {'filtered': False, 'severity': 'safe'}}}], 'finish_reason': 'stop', 'logprobs': None, 'content_filter_results': {'hate': {'filtered': False, 'severity': 'safe'}, 'protected_material_code': {'filtered': False, 'detected': False}, 'protected_material_text': {'filtered': False, 'detected': False}, 'self_harm': {'filtered': False, 'severity': 'safe'}, 'sexual': {'filtered': False, 'severity': 'safe'}, 'violence': {'filtered': False, 'severity': 'safe'}}}, id='run--0fc95932-e5cd-4dac-ab8c-c3ea8413cc3e-0', usage_metadata={'input_tokens': 823, 'output_tokens': 15, 'total_tokens': 838, 'input_token_details': {'audio': 0, 'cache_read': 0}, 'output_token_details': {'audio': 0, 'reasoning': 0}}),\n",
       "  HumanMessage(content='what is 3 multiplied by 10 also what is the latest news on USA and IRAN?', additional_kwargs={}, response_metadata={}, id='68f13062-eb8b-4452-85b6-c1f505659d28'),\n",
       "  AIMessage(content='', additional_kwargs={'tool_calls': [{'id': 'call_9EWQMaGPV8CPRnwPgape6AnP', 'function': {'arguments': '{\"a\": 3, \"b\": 10}', 'name': 'multiply'}, 'type': 'function'}, {'id': 'call_JKg50p8HtUUpwNDyHPWfphhp', 'function': {'arguments': '{\"query\": \"latest USA Iran news\", \"search_depth\": \"advanced\", \"time_range\": \"day\", \"topic\": \"news\"}', 'name': 'tavily_search'}, 'type': 'function'}], 'refusal': None}, response_metadata={'token_usage': {'completion_tokens': 67, 'prompt_tokens': 864, 'total_tokens': 931, 'completion_tokens_details': {'accepted_prediction_tokens': 0, 'audio_tokens': 0, 'reasoning_tokens': 0, 'rejected_prediction_tokens': 0}, 'prompt_tokens_details': {'audio_tokens': 0, 'cached_tokens': 0}}, 'model_name': 'gpt-4o-2024-11-20', 'system_fingerprint': 'fp_ee1d74bde0', 'id': 'chatcmpl-BnwHjnGs9KEjYFrncyvxTlWUfbCJi', 'service_tier': None, 'prompt_filter_results': [{'prompt_index': 0, 'content_filter_results': {'hate': {'filtered': False, 'severity': 'safe'}, 'jailbreak': {'filtered': False, 'detected': False}, 'self_harm': {'filtered': False, 'severity': 'safe'}, 'sexual': {'filtered': False, 'severity': 'safe'}, 'violence': {'filtered': False, 'severity': 'safe'}}}], 'finish_reason': 'tool_calls', 'logprobs': None, 'content_filter_results': {}}, id='run--6d84665c-4e4e-41c6-9eca-268e58eb0e6d-0', tool_calls=[{'name': 'multiply', 'args': {'a': 3, 'b': 10}, 'id': 'call_9EWQMaGPV8CPRnwPgape6AnP', 'type': 'tool_call'}, {'name': 'tavily_search', 'args': {'query': 'latest USA Iran news', 'search_depth': 'advanced', 'time_range': 'day', 'topic': 'news'}, 'id': 'call_JKg50p8HtUUpwNDyHPWfphhp', 'type': 'tool_call'}], usage_metadata={'input_tokens': 864, 'output_tokens': 67, 'total_tokens': 931, 'input_token_details': {'audio': 0, 'cache_read': 0}, 'output_token_details': {'audio': 0, 'reasoning': 0}}),\n",
       "  ToolMessage(content='30', name='multiply', id='6cbc2480-6609-4682-a9f6-83dacf7605f1', tool_call_id='call_9EWQMaGPV8CPRnwPgape6AnP'),\n",
       "  ToolMessage(content='{\"query\": \"latest USA Iran news\", \"follow_up_questions\": null, \"answer\": null, \"images\": [], \"results\": [{\"url\": \"https://www.jpost.com/middle-east/article-859394\", \"title\": \"Trump: Countries expressed interest in joining Abraham Accords after Iran strikes - The Jerusalem Post\", \"score\": 0.7018975, \"published_date\": \"Sun, 29 Jun 2025 15:04:41 GMT\", \"content\": \"Washington, D.C., US June 21, 2025, following U.S. strikes on Iran\\'s nuclear facilities.(photo credit: REUTERS/CARLOS BARRIA)ByJERUSALEM POST STAFFJUNE 29, 2025 18:04 Updated:JUNE 29, 2025 18:12 See more onIran|Syria|Iran nuclear|Syria Iran|Donald Trump|Abraham Accords [...] Image 2:  US President Donald Trump delivers an address to the nation accompanied by US Vice President JD Vance, US Secretary of State Marco Rubio and US Defense Secretary Pete Hegseth, at the White House in Washington, D.C., US June 21, 2025, following U.S. strikes on Iran\\'s nuclear facilities. US President Donald Trump delivers an address to the nation accompanied by US Vice President JD Vance, US Secretary of State Marco Rubio and US Defense Secretary Pete Hegseth, at the White House in [...] 2025.\\'Every blow to Iran is a benefit\\': Why Syria allowed Israel bypass its airspace to strike IranJUNE 26, 2025Image 5: IAF fighter jets taking off for strikes in Iran, June 16, 2025.\\'Tehran is beautiful from above, I hope to visit one day\\' Israeli pilot says after strike on IranJUNE 26, 2025Image 6: Map showing the range of Israeli strikes on Iran, June 27, 2025.IDF releases details of damage to Iran\\'s nuclear, missile production sitesJUNE 27, 2025\", \"raw_content\": null}, {\"url\": \"https://caliber.az/en/post/us-army-to-end-shaving-waivers-impacting-soldiers-with-chronic-skin-condition\", \"title\": \"US Army to end shaving waivers, impacting soldiers with chronic skin condition - Caliber.Az\", \"score\": 0.6388584, \"published_date\": \"Sun, 29 Jun 2025 14:22:18 GMT\", \"content\": \"[]( scrambles jets amid massive Russian airstrike on Ukraine ---------------------------------------------------------------\\\\n\\\\n[](\\\\n\\\\n29 June 2025 12:31\\\\n\\\\n[]( US special envoy to hold talks on possible Iran nuclear deal -------------------------------------------------------------------\\\\n\\\\n[](\\\\n\\\\n29 June 2025 12:18\\\\n\\\\n[]( state secretary condemns Iranian threats to arrest and execute IAEA Chief Grossi -----------------------------------------------------------------------------------\\\\n\\\\n[]( [...] []( began preparing operation against Iran in 2010, intel files reveal -------------------------------------------------------------------------\\\\n\\\\n[](\\\\n\\\\n28 June 2025 18:00\\\\n\\\\n[]( diplomat: Iran must rebuild trust after missile strike on US base ---------------------------------------------------------------------\\\\n\\\\n[](\\\\n\\\\n28 June 2025 17:47\\\\n\\\\n[]( halts peace talks with Japan over Kuril Islands dispute --------------------------------------------------------------\\\\n\\\\n[](\\\\n\\\\n28 June 2025 17:35 [...] []( chief: Iran’s nuclear intentions remain unclear, but no evidence of weaponisation --------------------------------------------------------------------------------------\\\\n\\\\n[](\\\\n\\\\n29 June 2025 10:26\\\\n\\\\n[]( elder son signals possible future run for US presidency ---------------------------------------------------------------\\\\n\\\\n[](\\\\n\\\\n29 June 2025 10:14\", \"raw_content\": null}], \"response_time\": 1.91}', name='tavily_search', id='92158992-d700-4b13-909e-bff699601f25', tool_call_id='call_JKg50p8HtUUpwNDyHPWfphhp'),\n",
       "  AIMessage(content=\"1. **3 multiplied by 10** is **30**.\\n\\n2. **Latest news on USA and Iran**:\\n   - **The Jerusalem Post** reported that following U.S. strikes on Iran's nuclear facilities, former President Trump stated that several countries expressed interest in joining the Abraham Accords. The article mentions U.S. military actions and their implications for Middle Eastern geopolitics. [Read more here](https://www.jpost.com/middle-east/article-859394).\\n   - **Caliber.Az** highlighted discussions on a possible Iran nuclear deal. The U.S. special envoy is scheduled to hold talks, while Iranian threats against International Atomic Energy Agency Chief Grossi were condemned. [Read more here](https://caliber.az/en/post/us-army-to-end-shaving-waivers-impacting-soldiers-with-chronic-skin-condition).\\n\\nLet me know if you'd like further details!\", additional_kwargs={'refusal': None}, response_metadata={'token_usage': {'completion_tokens': 185, 'prompt_tokens': 1740, 'total_tokens': 1925, 'completion_tokens_details': {'accepted_prediction_tokens': 0, 'audio_tokens': 0, 'reasoning_tokens': 0, 'rejected_prediction_tokens': 0}, 'prompt_tokens_details': {'audio_tokens': 0, 'cached_tokens': 0}}, 'model_name': 'gpt-4o-2024-11-20', 'system_fingerprint': 'fp_ee1d74bde0', 'id': 'chatcmpl-BnwHn9qGEwpUc3IaCVEL11ucUFp1B', 'service_tier': None, 'prompt_filter_results': [{'prompt_index': 0, 'content_filter_results': {'hate': {'filtered': False, 'severity': 'safe'}, 'jailbreak': {'filtered': False, 'detected': False}, 'self_harm': {'filtered': False, 'severity': 'safe'}, 'sexual': {'filtered': False, 'severity': 'safe'}, 'violence': {'filtered': False, 'severity': 'safe'}}}], 'finish_reason': 'stop', 'logprobs': None, 'content_filter_results': {'hate': {'filtered': False, 'severity': 'safe'}, 'protected_material_code': {'filtered': False, 'detected': False}, 'protected_material_text': {'filtered': False, 'detected': False}, 'self_harm': {'filtered': False, 'severity': 'safe'}, 'sexual': {'filtered': False, 'severity': 'safe'}, 'violence': {'filtered': False, 'severity': 'safe'}}}, id='run--b281a64c-bec3-444e-94ec-7f680c556390-0', usage_metadata={'input_tokens': 1740, 'output_tokens': 185, 'total_tokens': 1925, 'input_token_details': {'audio': 0, 'cache_read': 0}, 'output_token_details': {'audio': 0, 'reasoning': 0}}),\n",
       "  HumanMessage(content='what is my name?', additional_kwargs={}, response_metadata={}, id='48ba5548-c936-4ae5-9591-6f30824113c1'),\n",
       "  AIMessage(content='Your name is Amruth! 😊', additional_kwargs={'refusal': None}, response_metadata={'token_usage': {'completion_tokens': 10, 'prompt_tokens': 1936, 'total_tokens': 1946, 'completion_tokens_details': {'accepted_prediction_tokens': 0, 'audio_tokens': 0, 'reasoning_tokens': 0, 'rejected_prediction_tokens': 0}, 'prompt_tokens_details': {'audio_tokens': 0, 'cached_tokens': 1792}}, 'model_name': 'gpt-4o-2024-11-20', 'system_fingerprint': 'fp_ee1d74bde0', 'id': 'chatcmpl-BnwHpA97HNHfQrRFRqpdKp7EIACT8', 'service_tier': None, 'prompt_filter_results': [{'prompt_index': 0, 'content_filter_results': {'hate': {'filtered': False, 'severity': 'safe'}, 'jailbreak': {'filtered': False, 'detected': False}, 'self_harm': {'filtered': False, 'severity': 'safe'}, 'sexual': {'filtered': False, 'severity': 'safe'}, 'violence': {'filtered': False, 'severity': 'safe'}}}], 'finish_reason': 'stop', 'logprobs': None, 'content_filter_results': {'hate': {'filtered': False, 'severity': 'safe'}, 'protected_material_code': {'filtered': False, 'detected': False}, 'protected_material_text': {'filtered': False, 'detected': False}, 'self_harm': {'filtered': False, 'severity': 'safe'}, 'sexual': {'filtered': False, 'severity': 'safe'}, 'violence': {'filtered': False, 'severity': 'safe'}}}, id='run--1bb48d81-dad8-41da-9416-3c12b5a7f363-0', usage_metadata={'input_tokens': 1936, 'output_tokens': 10, 'total_tokens': 1946, 'input_token_details': {'audio': 0, 'cache_read': 1792}, 'output_token_details': {'audio': 0, 'reasoning': 0}}),\n",
       "  HumanMessage(content='what is my name?', additional_kwargs={}, response_metadata={}, id='8070218f-2caf-47aa-a6d3-024c3914a38d'),\n",
       "  AIMessage(content='Your name is Amruth!', additional_kwargs={'refusal': None}, response_metadata={'token_usage': {'completion_tokens': 9, 'prompt_tokens': 1957, 'total_tokens': 1966, 'completion_tokens_details': {'accepted_prediction_tokens': 0, 'audio_tokens': 0, 'reasoning_tokens': 0, 'rejected_prediction_tokens': 0}, 'prompt_tokens_details': {'audio_tokens': 0, 'cached_tokens': 0}}, 'model_name': 'gpt-4o-2024-11-20', 'system_fingerprint': 'fp_ee1d74bde0', 'id': 'chatcmpl-BnwHqcpkY4taPsOv4SY1Mlobie5pt', 'service_tier': None, 'prompt_filter_results': [{'prompt_index': 0, 'content_filter_results': {'hate': {'filtered': False, 'severity': 'safe'}, 'jailbreak': {'filtered': False, 'detected': False}, 'self_harm': {'filtered': False, 'severity': 'safe'}, 'sexual': {'filtered': False, 'severity': 'safe'}, 'violence': {'filtered': False, 'severity': 'safe'}}}], 'finish_reason': 'stop', 'logprobs': None, 'content_filter_results': {'hate': {'filtered': False, 'severity': 'safe'}, 'protected_material_code': {'filtered': False, 'detected': False}, 'protected_material_text': {'filtered': False, 'detected': False}, 'self_harm': {'filtered': False, 'severity': 'safe'}, 'sexual': {'filtered': False, 'severity': 'safe'}, 'violence': {'filtered': False, 'severity': 'safe'}}}, id='run--ff7bbb53-f852-430f-80df-6d53e1e6c3d9-0', usage_metadata={'input_tokens': 1957, 'output_tokens': 9, 'total_tokens': 1966, 'input_token_details': {'audio': 0, 'cache_read': 0}, 'output_token_details': {'audio': 0, 'reasoning': 0}})]}"
      ]
     },
     "execution_count": 36,
     "metadata": {},
     "output_type": "execute_result"
    }
   ],
   "source": [
    "response=graph.invoke({'messages':'what is my name?'},config=config)\n",
    "response"
   ]
  },
  {
   "cell_type": "markdown",
   "id": "9f438025",
   "metadata": {},
   "source": [
    "# Streaming"
   ]
  },
  {
   "cell_type": "code",
   "execution_count": 37,
   "id": "97a726b0",
   "metadata": {},
   "outputs": [],
   "source": [
    "from langgraph.checkpoint.memory import MemorySaver\n",
    "memory=MemorySaver()"
   ]
  },
  {
   "cell_type": "code",
   "execution_count": 38,
   "id": "e381ec7c",
   "metadata": {},
   "outputs": [],
   "source": [
    "def superbot(state:State):\n",
    "    return {'messages':[llm_open_ai.invoke(state['messages'])]}"
   ]
  },
  {
   "cell_type": "code",
   "execution_count": 39,
   "id": "c00ddfbb",
   "metadata": {},
   "outputs": [
    {
     "data": {
      "image/png": "[encoded data removed]",
      "text/plain": [
       "<IPython.core.display.Image object>"
      ]
     },
     "metadata": {},
     "output_type": "display_data"
    }
   ],
   "source": [
    "graph=StateGraph(State)\n",
    "\n",
    "graph.add_node('superbot',superbot)\n",
    "\n",
    "graph.add_edge(START,'superbot')\n",
    "graph.add_edge('superbot',END)\n",
    "\n",
    "graph_builder=graph.compile(checkpointer=memory)\n",
    "\n",
    "## display \n",
    "from IPython.display import Image, display\n",
    "display(Image(graph_builder.get_graph().draw_mermaid_png()))"
   ]
  },
  {
   "cell_type": "code",
   "execution_count": 40,
   "id": "ae1c99ac",
   "metadata": {},
   "outputs": [
    {
     "data": {
      "text/plain": [
       "{'messages': [HumanMessage(content='Hi, my name is Amruth and i like swimming', additional_kwargs={}, response_metadata={}, id='72e1ef35-7c17-4891-969d-c698e5233b4a'),\n",
       "  AIMessage(content=\"Hi Amruth! It's great to meet you. That's awesome that you like swimming—it's such a fun and healthy activity! Do you swim just for fun, or are you training or competing? What's your favorite stroke? 😊🏊\\u200d♂️\", additional_kwargs={'refusal': None}, response_metadata={'token_usage': {'completion_tokens': 52, 'prompt_tokens': 19, 'total_tokens': 71, 'completion_tokens_details': {'accepted_prediction_tokens': 0, 'audio_tokens': 0, 'reasoning_tokens': 0, 'rejected_prediction_tokens': 0}, 'prompt_tokens_details': {'audio_tokens': 0, 'cached_tokens': 0}}, 'model_name': 'gpt-4o-2024-11-20', 'system_fingerprint': 'fp_ee1d74bde0', 'id': 'chatcmpl-BnwHqdKBTL2SUY52drZmw48dm7XD9', 'service_tier': None, 'prompt_filter_results': [{'prompt_index': 0, 'content_filter_results': {'hate': {'filtered': False, 'severity': 'safe'}, 'jailbreak': {'filtered': False, 'detected': False}, 'self_harm': {'filtered': False, 'severity': 'safe'}, 'sexual': {'filtered': False, 'severity': 'safe'}, 'violence': {'filtered': False, 'severity': 'safe'}}}], 'finish_reason': 'stop', 'logprobs': None, 'content_filter_results': {'hate': {'filtered': False, 'severity': 'safe'}, 'self_harm': {'filtered': False, 'severity': 'safe'}, 'sexual': {'filtered': False, 'severity': 'safe'}, 'violence': {'filtered': False, 'severity': 'safe'}}}, id='run--49be9adf-927b-4d4d-ab29-0f42ca924c4f-0', usage_metadata={'input_tokens': 19, 'output_tokens': 52, 'total_tokens': 71, 'input_token_details': {'audio': 0, 'cache_read': 0}, 'output_token_details': {'audio': 0, 'reasoning': 0}})]}"
      ]
     },
     "execution_count": 40,
     "metadata": {},
     "output_type": "execute_result"
    }
   ],
   "source": [
    "# Invoking \n",
    "config={'configurable':{'thread_id':'1'}}\n",
    "graph_builder.invoke({'messages':'Hi, my name is Amruth and i like swimming'},config)"
   ]
  },
  {
   "cell_type": "code",
   "execution_count": 41,
   "id": "84688cdb",
   "metadata": {},
   "outputs": [
    {
     "name": "stdout",
     "output_type": "stream",
     "text": [
      "{'superbot': {'messages': [AIMessage(content=\"Hi Amruth! It's great to meet you. That's awesome that you enjoy swimming! It's such a fantastic way to stay active, relax, and have fun. Do you like swimming for fitness, as a sport, or just for fun? What's your favorite stroke? 🏊\\u200d♂️\", additional_kwargs={'refusal': None}, response_metadata={'token_usage': {'completion_tokens': 61, 'prompt_tokens': 19, 'total_tokens': 80, 'completion_tokens_details': {'accepted_prediction_tokens': 0, 'audio_tokens': 0, 'reasoning_tokens': 0, 'rejected_prediction_tokens': 0}, 'prompt_tokens_details': {'audio_tokens': 0, 'cached_tokens': 0}}, 'model_name': 'gpt-4o-2024-11-20', 'system_fingerprint': 'fp_ee1d74bde0', 'id': 'chatcmpl-BnwHrgHE8wG7wGfwuPVrJ9z5J06QS', 'service_tier': None, 'prompt_filter_results': [{'prompt_index': 0, 'content_filter_results': {'hate': {'filtered': False, 'severity': 'safe'}, 'jailbreak': {'filtered': False, 'detected': False}, 'self_harm': {'filtered': False, 'severity': 'safe'}, 'sexual': {'filtered': False, 'severity': 'safe'}, 'violence': {'filtered': False, 'severity': 'safe'}}}], 'finish_reason': 'stop', 'logprobs': None, 'content_filter_results': {'hate': {'filtered': False, 'severity': 'safe'}, 'self_harm': {'filtered': False, 'severity': 'safe'}, 'sexual': {'filtered': False, 'severity': 'safe'}, 'violence': {'filtered': False, 'severity': 'safe'}}}, id='run--9dbc62bb-6699-4e50-b6a7-701128de8155-0', usage_metadata={'input_tokens': 19, 'output_tokens': 61, 'total_tokens': 80, 'input_token_details': {'audio': 0, 'cache_read': 0}, 'output_token_details': {'audio': 0, 'reasoning': 0}})]}}\n"
     ]
    }
   ],
   "source": [
    "# only thr last messages \n",
    "config={'configurable':{'thread_id':'3'}}\n",
    "for chunk in graph_builder.stream({'messages':'Hi, My name is Amruth and i like swimming'},config,stream_mode='updates'):\n",
    "    print(chunk)"
   ]
  },
  {
   "cell_type": "code",
   "execution_count": 42,
   "id": "64cc5ffb",
   "metadata": {},
   "outputs": [
    {
     "name": "stdout",
     "output_type": "stream",
     "text": [
      "{'messages': [HumanMessage(content='Hi, My name is Amruth and i like swimming', additional_kwargs={}, response_metadata={}, id='c511cc89-30e5-4312-a4c6-37be066ac97a'), AIMessage(content=\"Hi Amruth! It's great to meet you. That's awesome that you enjoy swimming! It's such a fantastic way to stay active, relax, and have fun. Do you like swimming for fitness, as a sport, or just for fun? What's your favorite stroke? 🏊\\u200d♂️\", additional_kwargs={'refusal': None}, response_metadata={'token_usage': {'completion_tokens': 61, 'prompt_tokens': 19, 'total_tokens': 80, 'completion_tokens_details': {'accepted_prediction_tokens': 0, 'audio_tokens': 0, 'reasoning_tokens': 0, 'rejected_prediction_tokens': 0}, 'prompt_tokens_details': {'audio_tokens': 0, 'cached_tokens': 0}}, 'model_name': 'gpt-4o-2024-11-20', 'system_fingerprint': 'fp_ee1d74bde0', 'id': 'chatcmpl-BnwHrgHE8wG7wGfwuPVrJ9z5J06QS', 'service_tier': None, 'prompt_filter_results': [{'prompt_index': 0, 'content_filter_results': {'hate': {'filtered': False, 'severity': 'safe'}, 'jailbreak': {'filtered': False, 'detected': False}, 'self_harm': {'filtered': False, 'severity': 'safe'}, 'sexual': {'filtered': False, 'severity': 'safe'}, 'violence': {'filtered': False, 'severity': 'safe'}}}], 'finish_reason': 'stop', 'logprobs': None, 'content_filter_results': {'hate': {'filtered': False, 'severity': 'safe'}, 'self_harm': {'filtered': False, 'severity': 'safe'}, 'sexual': {'filtered': False, 'severity': 'safe'}, 'violence': {'filtered': False, 'severity': 'safe'}}}, id='run--9dbc62bb-6699-4e50-b6a7-701128de8155-0', usage_metadata={'input_tokens': 19, 'output_tokens': 61, 'total_tokens': 80, 'input_token_details': {'audio': 0, 'cache_read': 0}, 'output_token_details': {'audio': 0, 'reasoning': 0}}), HumanMessage(content='Hi, My name is Amruth and i like swimming', additional_kwargs={}, response_metadata={}, id='ec4df5b6-283a-47c4-9ea4-f932a8efbec4')]}\n",
      "{'messages': [HumanMessage(content='Hi, My name is Amruth and i like swimming', additional_kwargs={}, response_metadata={}, id='c511cc89-30e5-4312-a4c6-37be066ac97a'), AIMessage(content=\"Hi Amruth! It's great to meet you. That's awesome that you enjoy swimming! It's such a fantastic way to stay active, relax, and have fun. Do you like swimming for fitness, as a sport, or just for fun? What's your favorite stroke? 🏊\\u200d♂️\", additional_kwargs={'refusal': None}, response_metadata={'token_usage': {'completion_tokens': 61, 'prompt_tokens': 19, 'total_tokens': 80, 'completion_tokens_details': {'accepted_prediction_tokens': 0, 'audio_tokens': 0, 'reasoning_tokens': 0, 'rejected_prediction_tokens': 0}, 'prompt_tokens_details': {'audio_tokens': 0, 'cached_tokens': 0}}, 'model_name': 'gpt-4o-2024-11-20', 'system_fingerprint': 'fp_ee1d74bde0', 'id': 'chatcmpl-BnwHrgHE8wG7wGfwuPVrJ9z5J06QS', 'service_tier': None, 'prompt_filter_results': [{'prompt_index': 0, 'content_filter_results': {'hate': {'filtered': False, 'severity': 'safe'}, 'jailbreak': {'filtered': False, 'detected': False}, 'self_harm': {'filtered': False, 'severity': 'safe'}, 'sexual': {'filtered': False, 'severity': 'safe'}, 'violence': {'filtered': False, 'severity': 'safe'}}}], 'finish_reason': 'stop', 'logprobs': None, 'content_filter_results': {'hate': {'filtered': False, 'severity': 'safe'}, 'self_harm': {'filtered': False, 'severity': 'safe'}, 'sexual': {'filtered': False, 'severity': 'safe'}, 'violence': {'filtered': False, 'severity': 'safe'}}}, id='run--9dbc62bb-6699-4e50-b6a7-701128de8155-0', usage_metadata={'input_tokens': 19, 'output_tokens': 61, 'total_tokens': 80, 'input_token_details': {'audio': 0, 'cache_read': 0}, 'output_token_details': {'audio': 0, 'reasoning': 0}}), HumanMessage(content='Hi, My name is Amruth and i like swimming', additional_kwargs={}, response_metadata={}, id='ec4df5b6-283a-47c4-9ea4-f932a8efbec4'), AIMessage(content=\"Hi Amruth! It's wonderful to meet you. Swimming is such a fantastic activity—it keeps you fit, builds endurance, and feels so refreshing! Do you swim often or have a favorite swimming spot? 😊🏊\\u200d♂️\", additional_kwargs={'refusal': None}, response_metadata={'token_usage': {'completion_tokens': 48, 'prompt_tokens': 99, 'total_tokens': 147, 'completion_tokens_details': {'accepted_prediction_tokens': 0, 'audio_tokens': 0, 'reasoning_tokens': 0, 'rejected_prediction_tokens': 0}, 'prompt_tokens_details': {'audio_tokens': 0, 'cached_tokens': 0}}, 'model_name': 'gpt-4o-2024-11-20', 'system_fingerprint': 'fp_ee1d74bde0', 'id': 'chatcmpl-BnwHsYB1Agc99LuAkdWLekVSqja0i', 'service_tier': None, 'prompt_filter_results': [{'prompt_index': 0, 'content_filter_results': {'hate': {'filtered': False, 'severity': 'safe'}, 'jailbreak': {'filtered': False, 'detected': False}, 'self_harm': {'filtered': False, 'severity': 'safe'}, 'sexual': {'filtered': False, 'severity': 'safe'}, 'violence': {'filtered': False, 'severity': 'safe'}}}], 'finish_reason': 'stop', 'logprobs': None, 'content_filter_results': {'hate': {'filtered': False, 'severity': 'safe'}, 'self_harm': {'filtered': False, 'severity': 'safe'}, 'sexual': {'filtered': False, 'severity': 'safe'}, 'violence': {'filtered': False, 'severity': 'safe'}}}, id='run--d372f567-4eff-4828-91ba-309abd64dca3-0', usage_metadata={'input_tokens': 99, 'output_tokens': 48, 'total_tokens': 147, 'input_token_details': {'audio': 0, 'cache_read': 0}, 'output_token_details': {'audio': 0, 'reasoning': 0}})]}\n"
     ]
    }
   ],
   "source": [
    "# the messages are appended to the thead\n",
    "config={'configurable':{'thread_id':'3'}}\n",
    "for chunk in graph_builder.stream({'messages':'Hi, My name is Amruth and i like swimming'},config,stream_mode='values'):\n",
    "    print(chunk)"
   ]
  },
  {
   "cell_type": "code",
   "execution_count": 43,
   "id": "738a0328",
   "metadata": {},
   "outputs": [
    {
     "name": "stdout",
     "output_type": "stream",
     "text": [
      "{'superbot': {'messages': [AIMessage(content=\"Hi Amruth! It's great to meet you! Swimming is such an awesome activity—so refreshing and a fantastic way to stay fit. Do you swim for fun, or are you into competitive swimming as well? What's your favorite stroke? 🏊\\u200d♂️\", additional_kwargs={'refusal': None}, response_metadata={'token_usage': {'completion_tokens': 55, 'prompt_tokens': 19, 'total_tokens': 74, 'completion_tokens_details': {'accepted_prediction_tokens': 0, 'audio_tokens': 0, 'reasoning_tokens': 0, 'rejected_prediction_tokens': 0}, 'prompt_tokens_details': {'audio_tokens': 0, 'cached_tokens': 0}}, 'model_name': 'gpt-4o-2024-11-20', 'system_fingerprint': 'fp_ee1d74bde0', 'id': 'chatcmpl-BnwHuOXqrX9E1zkjjGKpZjgPp1gOI', 'service_tier': None, 'prompt_filter_results': [{'prompt_index': 0, 'content_filter_results': {'hate': {'filtered': False, 'severity': 'safe'}, 'jailbreak': {'filtered': False, 'detected': False}, 'self_harm': {'filtered': False, 'severity': 'safe'}, 'sexual': {'filtered': False, 'severity': 'safe'}, 'violence': {'filtered': False, 'severity': 'safe'}}}], 'finish_reason': 'stop', 'logprobs': None, 'content_filter_results': {'hate': {'filtered': False, 'severity': 'safe'}, 'self_harm': {'filtered': False, 'severity': 'safe'}, 'sexual': {'filtered': False, 'severity': 'safe'}, 'violence': {'filtered': False, 'severity': 'safe'}}}, id='run--7dd861e7-d442-4e46-b827-ce138b92e27c-0', usage_metadata={'input_tokens': 19, 'output_tokens': 55, 'total_tokens': 74, 'input_token_details': {'audio': 0, 'cache_read': 0}, 'output_token_details': {'audio': 0, 'reasoning': 0}})]}}\n"
     ]
    }
   ],
   "source": [
    "config={'configurable':{'thread_id':'4'}}\n",
    "for chunk in graph_builder.stream({'messages':'Hi, My name is Amruth and i like swimming'},config,stream_mode='updates'):\n",
    "    print(chunk)"
   ]
  },
  {
   "cell_type": "code",
   "execution_count": 44,
   "id": "6988cd28",
   "metadata": {},
   "outputs": [
    {
     "name": "stdout",
     "output_type": "stream",
     "text": [
      "{'superbot': {'messages': [AIMessage(content=\"Well, since you mentioned you like swimming, I think it might be your favorite sport! 🏊\\u200d♂️ But if there's another sport you love just as much (or even more), feel free to share—I’d love to hear about it! 😊\", additional_kwargs={'refusal': None}, response_metadata={'token_usage': {'completion_tokens': 53, 'prompt_tokens': 87, 'total_tokens': 140, 'completion_tokens_details': {'accepted_prediction_tokens': 0, 'audio_tokens': 0, 'reasoning_tokens': 0, 'rejected_prediction_tokens': 0}, 'prompt_tokens_details': {'audio_tokens': 0, 'cached_tokens': 0}}, 'model_name': 'gpt-4o-2024-11-20', 'system_fingerprint': 'fp_ee1d74bde0', 'id': 'chatcmpl-BnwHvVeFVty69ADryO8LHlhWp3y6S', 'service_tier': None, 'prompt_filter_results': [{'prompt_index': 0, 'content_filter_results': {'hate': {'filtered': False, 'severity': 'safe'}, 'jailbreak': {'filtered': False, 'detected': False}, 'self_harm': {'filtered': False, 'severity': 'safe'}, 'sexual': {'filtered': False, 'severity': 'safe'}, 'violence': {'filtered': False, 'severity': 'safe'}}}], 'finish_reason': 'stop', 'logprobs': None, 'content_filter_results': {'hate': {'filtered': False, 'severity': 'safe'}, 'self_harm': {'filtered': False, 'severity': 'safe'}, 'sexual': {'filtered': False, 'severity': 'safe'}, 'violence': {'filtered': False, 'severity': 'safe'}}}, id='run--17280e55-d239-445d-9c90-d5ba997a0f51-0', usage_metadata={'input_tokens': 87, 'output_tokens': 53, 'total_tokens': 140, 'input_token_details': {'audio': 0, 'cache_read': 0}, 'output_token_details': {'audio': 0, 'reasoning': 0}})]}}\n"
     ]
    }
   ],
   "source": [
    "config={'configurable':{'thread_id':'4'}}\n",
    "for chunk in graph_builder.stream({'messages':'what is my favourite sport?'},config,stream_mode='updates'):\n",
    "    print(chunk)"
   ]
  },
  {
   "cell_type": "code",
   "execution_count": 45,
   "id": "00e2b6cc",
   "metadata": {},
   "outputs": [
    {
     "name": "stdout",
     "output_type": "stream",
     "text": [
      "{'messages': [HumanMessage(content='Hi, My name is Amruth and i like swimming and football', additional_kwargs={}, response_metadata={}, id='65ab4ce9-0416-4d59-a28a-bbaa788d0408')]}\n",
      "{'messages': [HumanMessage(content='Hi, My name is Amruth and i like swimming and football', additional_kwargs={}, response_metadata={}, id='65ab4ce9-0416-4d59-a28a-bbaa788d0408'), AIMessage(content=\"Hi Amruth! It's nice to meet you. Swimming and football are both fantastic activities. They keep you fit and are a lot of fun too! Do you have a favorite swimming stroke or football team you support? 😊\", additional_kwargs={'refusal': None}, response_metadata={'token_usage': {'completion_tokens': 46, 'prompt_tokens': 21, 'total_tokens': 67, 'completion_tokens_details': {'accepted_prediction_tokens': 0, 'audio_tokens': 0, 'reasoning_tokens': 0, 'rejected_prediction_tokens': 0}, 'prompt_tokens_details': {'audio_tokens': 0, 'cached_tokens': 0}}, 'model_name': 'gpt-4o-2024-11-20', 'system_fingerprint': 'fp_ee1d74bde0', 'id': 'chatcmpl-BnwHwPFkVnGjtHdiXwDr1ncMMNVou', 'service_tier': None, 'prompt_filter_results': [{'prompt_index': 0, 'content_filter_results': {'hate': {'filtered': False, 'severity': 'safe'}, 'jailbreak': {'filtered': False, 'detected': False}, 'self_harm': {'filtered': False, 'severity': 'safe'}, 'sexual': {'filtered': False, 'severity': 'safe'}, 'violence': {'filtered': False, 'severity': 'safe'}}}], 'finish_reason': 'stop', 'logprobs': None, 'content_filter_results': {'hate': {'filtered': False, 'severity': 'safe'}, 'self_harm': {'filtered': False, 'severity': 'safe'}, 'sexual': {'filtered': False, 'severity': 'safe'}, 'violence': {'filtered': False, 'severity': 'safe'}}}, id='run--f7b867fb-1c71-45e4-8520-c4bd286988e2-0', usage_metadata={'input_tokens': 21, 'output_tokens': 46, 'total_tokens': 67, 'input_token_details': {'audio': 0, 'cache_read': 0}, 'output_token_details': {'audio': 0, 'reasoning': 0}})]}\n"
     ]
    }
   ],
   "source": [
    "config={'configurable':{'thread_id':'5'}}\n",
    "for chunk in graph_builder.stream({'messages':'Hi, My name is Amruth and i like swimming and football'},config,stream_mode='values'):\n",
    "    print(chunk)"
   ]
  },
  {
   "cell_type": "code",
   "execution_count": 46,
   "id": "d2f0a9b9",
   "metadata": {},
   "outputs": [
    {
     "name": "stdout",
     "output_type": "stream",
     "text": [
      "{'messages': [HumanMessage(content='Hi, My name is Amruth and i like swimming and football', additional_kwargs={}, response_metadata={}, id='65ab4ce9-0416-4d59-a28a-bbaa788d0408'), AIMessage(content=\"Hi Amruth! It's nice to meet you. Swimming and football are both fantastic activities. They keep you fit and are a lot of fun too! Do you have a favorite swimming stroke or football team you support? 😊\", additional_kwargs={'refusal': None}, response_metadata={'token_usage': {'completion_tokens': 46, 'prompt_tokens': 21, 'total_tokens': 67, 'completion_tokens_details': {'accepted_prediction_tokens': 0, 'audio_tokens': 0, 'reasoning_tokens': 0, 'rejected_prediction_tokens': 0}, 'prompt_tokens_details': {'audio_tokens': 0, 'cached_tokens': 0}}, 'model_name': 'gpt-4o-2024-11-20', 'system_fingerprint': 'fp_ee1d74bde0', 'id': 'chatcmpl-BnwHwPFkVnGjtHdiXwDr1ncMMNVou', 'service_tier': None, 'prompt_filter_results': [{'prompt_index': 0, 'content_filter_results': {'hate': {'filtered': False, 'severity': 'safe'}, 'jailbreak': {'filtered': False, 'detected': False}, 'self_harm': {'filtered': False, 'severity': 'safe'}, 'sexual': {'filtered': False, 'severity': 'safe'}, 'violence': {'filtered': False, 'severity': 'safe'}}}], 'finish_reason': 'stop', 'logprobs': None, 'content_filter_results': {'hate': {'filtered': False, 'severity': 'safe'}, 'self_harm': {'filtered': False, 'severity': 'safe'}, 'sexual': {'filtered': False, 'severity': 'safe'}, 'violence': {'filtered': False, 'severity': 'safe'}}}, id='run--f7b867fb-1c71-45e4-8520-c4bd286988e2-0', usage_metadata={'input_tokens': 21, 'output_tokens': 46, 'total_tokens': 67, 'input_token_details': {'audio': 0, 'cache_read': 0}, 'output_token_details': {'audio': 0, 'reasoning': 0}}), HumanMessage(content='which sport is better for cardio?', additional_kwargs={}, response_metadata={}, id='71132685-4101-49d9-a02c-24ad9a74cc6e')]}\n",
      "{'messages': [HumanMessage(content='Hi, My name is Amruth and i like swimming and football', additional_kwargs={}, response_metadata={}, id='65ab4ce9-0416-4d59-a28a-bbaa788d0408'), AIMessage(content=\"Hi Amruth! It's nice to meet you. Swimming and football are both fantastic activities. They keep you fit and are a lot of fun too! Do you have a favorite swimming stroke or football team you support? 😊\", additional_kwargs={'refusal': None}, response_metadata={'token_usage': {'completion_tokens': 46, 'prompt_tokens': 21, 'total_tokens': 67, 'completion_tokens_details': {'accepted_prediction_tokens': 0, 'audio_tokens': 0, 'reasoning_tokens': 0, 'rejected_prediction_tokens': 0}, 'prompt_tokens_details': {'audio_tokens': 0, 'cached_tokens': 0}}, 'model_name': 'gpt-4o-2024-11-20', 'system_fingerprint': 'fp_ee1d74bde0', 'id': 'chatcmpl-BnwHwPFkVnGjtHdiXwDr1ncMMNVou', 'service_tier': None, 'prompt_filter_results': [{'prompt_index': 0, 'content_filter_results': {'hate': {'filtered': False, 'severity': 'safe'}, 'jailbreak': {'filtered': False, 'detected': False}, 'self_harm': {'filtered': False, 'severity': 'safe'}, 'sexual': {'filtered': False, 'severity': 'safe'}, 'violence': {'filtered': False, 'severity': 'safe'}}}], 'finish_reason': 'stop', 'logprobs': None, 'content_filter_results': {'hate': {'filtered': False, 'severity': 'safe'}, 'self_harm': {'filtered': False, 'severity': 'safe'}, 'sexual': {'filtered': False, 'severity': 'safe'}, 'violence': {'filtered': False, 'severity': 'safe'}}}, id='run--f7b867fb-1c71-45e4-8520-c4bd286988e2-0', usage_metadata={'input_tokens': 21, 'output_tokens': 46, 'total_tokens': 67, 'input_token_details': {'audio': 0, 'cache_read': 0}, 'output_token_details': {'audio': 0, 'reasoning': 0}}), HumanMessage(content='which sport is better for cardio?', additional_kwargs={}, response_metadata={}, id='71132685-4101-49d9-a02c-24ad9a74cc6e'), AIMessage(content=\"Great question, Amruth! Both swimming and football are amazing for cardio, but they offer different kinds of benefits depending on how you approach them.\\n\\n### **Swimming**\\n- **Cardio Benefits:** Swimming is a full-body workout that boosts your cardiovascular endurance while being low-impact on your joints. Because water provides resistance, you're engaging multiple muscle groups and improving your heart and lung capacity. \\n- **Duration Matters:** If you swim continuously (like laps), it’s an excellent cardio workout.  \\n- **Other Perks:** It's a great option if you're prone to injuries or need a recovery workout.\\n\\n### **Football (Soccer)**\\n- **Cardio Benefits:** Football is more high-intensity with bursts of sprinting, jogging, and running. This interval training nature (sprints followed by rest or slower activity) is fantastic for improving both cardiovascular fitness and overall stamina.  \\n- **Other Perks:** Football improves coordination, agility, and teamwork along with cardio. Plus, it's highly social and competitive, which can be really motivating.\\n\\n### **Which is Better?**\\nIt depends on your goals and body:\\n- **For consistent, low-impact cardio:** Swimming wins.\\n- **For high-intensity, explosive cardio:** Football takes the edge.\\n\\nIf you love both sports, why not alternate or combine them for variety? That way, you'll get the best of both worlds! 😊\", additional_kwargs={'refusal': None}, response_metadata={'token_usage': {'completion_tokens': 279, 'prompt_tokens': 81, 'total_tokens': 360, 'completion_tokens_details': {'accepted_prediction_tokens': 0, 'audio_tokens': 0, 'reasoning_tokens': 0, 'rejected_prediction_tokens': 0}, 'prompt_tokens_details': {'audio_tokens': 0, 'cached_tokens': 0}}, 'model_name': 'gpt-4o-2024-11-20', 'system_fingerprint': 'fp_ee1d74bde0', 'id': 'chatcmpl-BnwHxyDowdJAI7MEu1PnITbf4TTas', 'service_tier': None, 'prompt_filter_results': [{'prompt_index': 0, 'content_filter_results': {'hate': {'filtered': False, 'severity': 'safe'}, 'jailbreak': {'filtered': False, 'detected': False}, 'self_harm': {'filtered': False, 'severity': 'safe'}, 'sexual': {'filtered': False, 'severity': 'safe'}, 'violence': {'filtered': False, 'severity': 'safe'}}}], 'finish_reason': 'stop', 'logprobs': None, 'content_filter_results': {'hate': {'filtered': False, 'severity': 'safe'}, 'protected_material_code': {'filtered': False, 'detected': False}, 'protected_material_text': {'filtered': False, 'detected': False}, 'self_harm': {'filtered': False, 'severity': 'safe'}, 'sexual': {'filtered': False, 'severity': 'safe'}, 'violence': {'filtered': False, 'severity': 'safe'}}}, id='run--c80943b3-cbaa-4e6f-a96c-9513c3906f17-0', usage_metadata={'input_tokens': 81, 'output_tokens': 279, 'total_tokens': 360, 'input_token_details': {'audio': 0, 'cache_read': 0}, 'output_token_details': {'audio': 0, 'reasoning': 0}})]}\n"
     ]
    }
   ],
   "source": [
    "for chunk in graph_builder.stream({'messages':'which sport is better for cardio?'},config,stream_mode='values'):\n",
    "    print(chunk)"
   ]
  },
  {
   "cell_type": "code",
   "execution_count": 47,
   "id": "e4097c21",
   "metadata": {},
   "outputs": [
    {
     "name": "stdout",
     "output_type": "stream",
     "text": [
      "{'messages': [HumanMessage(content='Hi, My name is Amruth and i like swimming and football', additional_kwargs={}, response_metadata={}, id='65ab4ce9-0416-4d59-a28a-bbaa788d0408'), AIMessage(content=\"Hi Amruth! It's nice to meet you. Swimming and football are both fantastic activities. They keep you fit and are a lot of fun too! Do you have a favorite swimming stroke or football team you support? 😊\", additional_kwargs={'refusal': None}, response_metadata={'token_usage': {'completion_tokens': 46, 'prompt_tokens': 21, 'total_tokens': 67, 'completion_tokens_details': {'accepted_prediction_tokens': 0, 'audio_tokens': 0, 'reasoning_tokens': 0, 'rejected_prediction_tokens': 0}, 'prompt_tokens_details': {'audio_tokens': 0, 'cached_tokens': 0}}, 'model_name': 'gpt-4o-2024-11-20', 'system_fingerprint': 'fp_ee1d74bde0', 'id': 'chatcmpl-BnwHwPFkVnGjtHdiXwDr1ncMMNVou', 'service_tier': None, 'prompt_filter_results': [{'prompt_index': 0, 'content_filter_results': {'hate': {'filtered': False, 'severity': 'safe'}, 'jailbreak': {'filtered': False, 'detected': False}, 'self_harm': {'filtered': False, 'severity': 'safe'}, 'sexual': {'filtered': False, 'severity': 'safe'}, 'violence': {'filtered': False, 'severity': 'safe'}}}], 'finish_reason': 'stop', 'logprobs': None, 'content_filter_results': {'hate': {'filtered': False, 'severity': 'safe'}, 'self_harm': {'filtered': False, 'severity': 'safe'}, 'sexual': {'filtered': False, 'severity': 'safe'}, 'violence': {'filtered': False, 'severity': 'safe'}}}, id='run--f7b867fb-1c71-45e4-8520-c4bd286988e2-0', usage_metadata={'input_tokens': 21, 'output_tokens': 46, 'total_tokens': 67, 'input_token_details': {'audio': 0, 'cache_read': 0}, 'output_token_details': {'audio': 0, 'reasoning': 0}}), HumanMessage(content='which sport is better for cardio?', additional_kwargs={}, response_metadata={}, id='71132685-4101-49d9-a02c-24ad9a74cc6e'), AIMessage(content=\"Great question, Amruth! Both swimming and football are amazing for cardio, but they offer different kinds of benefits depending on how you approach them.\\n\\n### **Swimming**\\n- **Cardio Benefits:** Swimming is a full-body workout that boosts your cardiovascular endurance while being low-impact on your joints. Because water provides resistance, you're engaging multiple muscle groups and improving your heart and lung capacity. \\n- **Duration Matters:** If you swim continuously (like laps), it’s an excellent cardio workout.  \\n- **Other Perks:** It's a great option if you're prone to injuries or need a recovery workout.\\n\\n### **Football (Soccer)**\\n- **Cardio Benefits:** Football is more high-intensity with bursts of sprinting, jogging, and running. This interval training nature (sprints followed by rest or slower activity) is fantastic for improving both cardiovascular fitness and overall stamina.  \\n- **Other Perks:** Football improves coordination, agility, and teamwork along with cardio. Plus, it's highly social and competitive, which can be really motivating.\\n\\n### **Which is Better?**\\nIt depends on your goals and body:\\n- **For consistent, low-impact cardio:** Swimming wins.\\n- **For high-intensity, explosive cardio:** Football takes the edge.\\n\\nIf you love both sports, why not alternate or combine them for variety? That way, you'll get the best of both worlds! 😊\", additional_kwargs={'refusal': None}, response_metadata={'token_usage': {'completion_tokens': 279, 'prompt_tokens': 81, 'total_tokens': 360, 'completion_tokens_details': {'accepted_prediction_tokens': 0, 'audio_tokens': 0, 'reasoning_tokens': 0, 'rejected_prediction_tokens': 0}, 'prompt_tokens_details': {'audio_tokens': 0, 'cached_tokens': 0}}, 'model_name': 'gpt-4o-2024-11-20', 'system_fingerprint': 'fp_ee1d74bde0', 'id': 'chatcmpl-BnwHxyDowdJAI7MEu1PnITbf4TTas', 'service_tier': None, 'prompt_filter_results': [{'prompt_index': 0, 'content_filter_results': {'hate': {'filtered': False, 'severity': 'safe'}, 'jailbreak': {'filtered': False, 'detected': False}, 'self_harm': {'filtered': False, 'severity': 'safe'}, 'sexual': {'filtered': False, 'severity': 'safe'}, 'violence': {'filtered': False, 'severity': 'safe'}}}], 'finish_reason': 'stop', 'logprobs': None, 'content_filter_results': {'hate': {'filtered': False, 'severity': 'safe'}, 'protected_material_code': {'filtered': False, 'detected': False}, 'protected_material_text': {'filtered': False, 'detected': False}, 'self_harm': {'filtered': False, 'severity': 'safe'}, 'sexual': {'filtered': False, 'severity': 'safe'}, 'violence': {'filtered': False, 'severity': 'safe'}}}, id='run--c80943b3-cbaa-4e6f-a96c-9513c3906f17-0', usage_metadata={'input_tokens': 81, 'output_tokens': 279, 'total_tokens': 360, 'input_token_details': {'audio': 0, 'cache_read': 0}, 'output_token_details': {'audio': 0, 'reasoning': 0}}), HumanMessage(content='when is the best time to swim?', additional_kwargs={}, response_metadata={}, id='7ff82809-02a6-452f-b52d-86d9f2626d39')]}\n",
      "{'messages': [HumanMessage(content='Hi, My name is Amruth and i like swimming and football', additional_kwargs={}, response_metadata={}, id='65ab4ce9-0416-4d59-a28a-bbaa788d0408'), AIMessage(content=\"Hi Amruth! It's nice to meet you. Swimming and football are both fantastic activities. They keep you fit and are a lot of fun too! Do you have a favorite swimming stroke or football team you support? 😊\", additional_kwargs={'refusal': None}, response_metadata={'token_usage': {'completion_tokens': 46, 'prompt_tokens': 21, 'total_tokens': 67, 'completion_tokens_details': {'accepted_prediction_tokens': 0, 'audio_tokens': 0, 'reasoning_tokens': 0, 'rejected_prediction_tokens': 0}, 'prompt_tokens_details': {'audio_tokens': 0, 'cached_tokens': 0}}, 'model_name': 'gpt-4o-2024-11-20', 'system_fingerprint': 'fp_ee1d74bde0', 'id': 'chatcmpl-BnwHwPFkVnGjtHdiXwDr1ncMMNVou', 'service_tier': None, 'prompt_filter_results': [{'prompt_index': 0, 'content_filter_results': {'hate': {'filtered': False, 'severity': 'safe'}, 'jailbreak': {'filtered': False, 'detected': False}, 'self_harm': {'filtered': False, 'severity': 'safe'}, 'sexual': {'filtered': False, 'severity': 'safe'}, 'violence': {'filtered': False, 'severity': 'safe'}}}], 'finish_reason': 'stop', 'logprobs': None, 'content_filter_results': {'hate': {'filtered': False, 'severity': 'safe'}, 'self_harm': {'filtered': False, 'severity': 'safe'}, 'sexual': {'filtered': False, 'severity': 'safe'}, 'violence': {'filtered': False, 'severity': 'safe'}}}, id='run--f7b867fb-1c71-45e4-8520-c4bd286988e2-0', usage_metadata={'input_tokens': 21, 'output_tokens': 46, 'total_tokens': 67, 'input_token_details': {'audio': 0, 'cache_read': 0}, 'output_token_details': {'audio': 0, 'reasoning': 0}}), HumanMessage(content='which sport is better for cardio?', additional_kwargs={}, response_metadata={}, id='71132685-4101-49d9-a02c-24ad9a74cc6e'), AIMessage(content=\"Great question, Amruth! Both swimming and football are amazing for cardio, but they offer different kinds of benefits depending on how you approach them.\\n\\n### **Swimming**\\n- **Cardio Benefits:** Swimming is a full-body workout that boosts your cardiovascular endurance while being low-impact on your joints. Because water provides resistance, you're engaging multiple muscle groups and improving your heart and lung capacity. \\n- **Duration Matters:** If you swim continuously (like laps), it’s an excellent cardio workout.  \\n- **Other Perks:** It's a great option if you're prone to injuries or need a recovery workout.\\n\\n### **Football (Soccer)**\\n- **Cardio Benefits:** Football is more high-intensity with bursts of sprinting, jogging, and running. This interval training nature (sprints followed by rest or slower activity) is fantastic for improving both cardiovascular fitness and overall stamina.  \\n- **Other Perks:** Football improves coordination, agility, and teamwork along with cardio. Plus, it's highly social and competitive, which can be really motivating.\\n\\n### **Which is Better?**\\nIt depends on your goals and body:\\n- **For consistent, low-impact cardio:** Swimming wins.\\n- **For high-intensity, explosive cardio:** Football takes the edge.\\n\\nIf you love both sports, why not alternate or combine them for variety? That way, you'll get the best of both worlds! 😊\", additional_kwargs={'refusal': None}, response_metadata={'token_usage': {'completion_tokens': 279, 'prompt_tokens': 81, 'total_tokens': 360, 'completion_tokens_details': {'accepted_prediction_tokens': 0, 'audio_tokens': 0, 'reasoning_tokens': 0, 'rejected_prediction_tokens': 0}, 'prompt_tokens_details': {'audio_tokens': 0, 'cached_tokens': 0}}, 'model_name': 'gpt-4o-2024-11-20', 'system_fingerprint': 'fp_ee1d74bde0', 'id': 'chatcmpl-BnwHxyDowdJAI7MEu1PnITbf4TTas', 'service_tier': None, 'prompt_filter_results': [{'prompt_index': 0, 'content_filter_results': {'hate': {'filtered': False, 'severity': 'safe'}, 'jailbreak': {'filtered': False, 'detected': False}, 'self_harm': {'filtered': False, 'severity': 'safe'}, 'sexual': {'filtered': False, 'severity': 'safe'}, 'violence': {'filtered': False, 'severity': 'safe'}}}], 'finish_reason': 'stop', 'logprobs': None, 'content_filter_results': {'hate': {'filtered': False, 'severity': 'safe'}, 'protected_material_code': {'filtered': False, 'detected': False}, 'protected_material_text': {'filtered': False, 'detected': False}, 'self_harm': {'filtered': False, 'severity': 'safe'}, 'sexual': {'filtered': False, 'severity': 'safe'}, 'violence': {'filtered': False, 'severity': 'safe'}}}, id='run--c80943b3-cbaa-4e6f-a96c-9513c3906f17-0', usage_metadata={'input_tokens': 81, 'output_tokens': 279, 'total_tokens': 360, 'input_token_details': {'audio': 0, 'cache_read': 0}, 'output_token_details': {'audio': 0, 'reasoning': 0}}), HumanMessage(content='when is the best time to swim?', additional_kwargs={}, response_metadata={}, id='7ff82809-02a6-452f-b52d-86d9f2626d39'), AIMessage(content=\"The best time to swim largely depends on your personal preferences, schedule, and goals! Different times of the day have unique benefits. Here's a breakdown that can help you decide:\\n\\n---\\n\\n### **1. Morning Swim:**\\n**Pros:**\\n- **Boosts energy and mood:** Swimming in the morning kicks off your day with exercise, releasing endorphins to leave you feeling fresh and focused.\\n- **Less crowded pools:** Early mornings are quieter in most public pools, allowing you to practice without distractions.\\n- **Burns more calories:** Exercising on an empty (or light) stomach can encourage your body to burn fat stores for energy.\\n  \\n**Considerations:**  \\n- You’ll need to warm up well since your body and muscles are cooler in the morning.\\n- Getting up early consistently might require an adjustment in your sleep schedule.\\n\\n---\\n\\n### **2. Midday Swim:**\\n**Pros:**\\n- **Max energy:** Your body temperature and energy levels are naturally higher midday, which helps improve your performance.\\n- **Great for breaking up the day:** If you have a busy or stressful schedule, a lunch-hour swim can clear your mind and recharge you.\\n  \\n**Considerations:**  \\n- Pools may be busier during this time, depending on the location.\\n- You’ll need time to shower, change, and eat before returning to your activities!\\n\\n---\\n\\n### **3. Evening Swim:**\\n**Pros:**\\n- **Relieves stress:** Swimming in the evening can help you unwind after a long day.\\n- **Improves sleep:** Moderate exercise in the evening promotes relaxation and better sleep.\\n- **Good for focusing on technique:** If you’re not in a rush, evening swims can be an ideal time to refine your skills.\\n  \\n**Considerations:**  \\n- Avoid intensely vigorous swimming too late in the evening—it can leave you feeling too energized to sleep!\\n\\n---\\n\\n### Final Thoughts:\\nThe **best time to swim** is whatever fits your routine and makes you feel your best! The key is consistency. Whether you’re an early bird, a midday warrior, or a night owl, swimming regularly will deliver all the amazing benefits. 🏊\\u200d♂️\\n\\nWhen do *you* usually like to swim, Amruth? 😊\", additional_kwargs={'refusal': None}, response_metadata={'token_usage': {'completion_tokens': 453, 'prompt_tokens': 375, 'total_tokens': 828, 'completion_tokens_details': {'accepted_prediction_tokens': 0, 'audio_tokens': 0, 'reasoning_tokens': 0, 'rejected_prediction_tokens': 0}, 'prompt_tokens_details': {'audio_tokens': 0, 'cached_tokens': 0}}, 'model_name': 'gpt-4o-2024-11-20', 'system_fingerprint': 'fp_ee1d74bde0', 'id': 'chatcmpl-BnwI1YU0woDzKRx7uTxgrMJxyeWfy', 'service_tier': None, 'prompt_filter_results': [{'prompt_index': 0, 'content_filter_results': {'hate': {'filtered': False, 'severity': 'safe'}, 'jailbreak': {'filtered': False, 'detected': False}, 'self_harm': {'filtered': False, 'severity': 'safe'}, 'sexual': {'filtered': False, 'severity': 'safe'}, 'violence': {'filtered': False, 'severity': 'safe'}}}], 'finish_reason': 'stop', 'logprobs': None, 'content_filter_results': {'hate': {'filtered': False, 'severity': 'safe'}, 'protected_material_code': {'filtered': False, 'detected': False}, 'protected_material_text': {'filtered': False, 'detected': False}, 'self_harm': {'filtered': False, 'severity': 'safe'}, 'sexual': {'filtered': False, 'severity': 'safe'}, 'violence': {'filtered': False, 'severity': 'safe'}}}, id='run--884c3c84-dea1-482f-a35e-1ab89794e676-0', usage_metadata={'input_tokens': 375, 'output_tokens': 453, 'total_tokens': 828, 'input_token_details': {'audio': 0, 'cache_read': 0}, 'output_token_details': {'audio': 0, 'reasoning': 0}})]}\n"
     ]
    }
   ],
   "source": [
    "for chunk in graph_builder.stream({'messages':'when is the best time to swim?'},config,stream_mode='values'):\n",
    "    print(chunk)"
   ]
  },
  {
   "cell_type": "code",
   "execution_count": 48,
   "id": "6297cc4a",
   "metadata": {},
   "outputs": [],
   "source": [
    "# A stream"
   ]
  },
  {
   "cell_type": "markdown",
   "id": "2f5deb6f",
   "metadata": {},
   "source": [
    "# Human in the loop"
   ]
  },
  {
   "cell_type": "code",
   "execution_count": 49,
   "id": "2e8aa3c4",
   "metadata": {},
   "outputs": [
    {
     "data": {
      "text/plain": [
       "<langgraph.graph.state.StateGraph at 0x2c4c399e4b0>"
      ]
     },
     "execution_count": 49,
     "metadata": {},
     "output_type": "execute_result"
    }
   ],
   "source": [
    "from typing import Annotated\n",
    "from langchain_tavily import TavilySearch\n",
    "from langchain_core.tools import tool\n",
    "from typing_extensions import TypedDict\n",
    "\n",
    "from langgraph.checkpoint.memory import MemorySaver\n",
    "from langgraph.graph import StateGraph, START, END\n",
    "from langgraph.graph.message import add_messages\n",
    "from langgraph.prebuilt import ToolNode, tools_condition\n",
    "\n",
    "from langgraph.types import Command, interrupt\n",
    "\n",
    "class State(TypedDict):\n",
    "    messages:Annotated[list,add_messages]\n",
    "\n",
    "graph_builder=StateGraph(State)\n",
    "\n",
    "@tool\n",
    "def human_assistance(query:str)->str:\n",
    "    \"\"\" \n",
    "    Request assistance from a human\n",
    "    \"\"\"\n",
    "    human_response=interrupt({'query':query})\n",
    "    return human_response['data']\n",
    "\n",
    "tool=TavilySearch(max_results=2)\n",
    "tools=[tool,human_assistance]\n",
    "llm_with_tools=llm_open_ai.bind_tools(tools)\n",
    "\n",
    "def chatbot(state:State):\n",
    "    message=llm_with_tools.invoke(state['messages'])\n",
    "    # Because wwe will be interrupting during tool execution,\n",
    "    # we disable parallel tool calling to avoid repeating any \n",
    "    # tool invocations when we resume \n",
    "    return {'messages':[message]}\n",
    "\n",
    "graph_builder.add_node('chatbot',chatbot)\n",
    "tool_node=ToolNode(tools=tools)\n",
    "graph_builder.add_node('tools',tool_node)\n",
    "graph_builder.add_conditional_edges(\n",
    "    'chatbot',\n",
    "    tools_condition\n",
    ")\n",
    "\n",
    "graph_builder.add_edge('tools','chatbot')\n",
    "graph_builder.add_edge(START,'chatbot')"
   ]
  },
  {
   "cell_type": "code",
   "execution_count": 50,
   "id": "4be45da5",
   "metadata": {},
   "outputs": [],
   "source": [
    "memory=MemorySaver()\n",
    "graph=graph_builder.compile(checkpointer=memory)\n"
   ]
  },
  {
   "cell_type": "code",
   "execution_count": 51,
   "id": "4b17509a",
   "metadata": {},
   "outputs": [
    {
     "data": {
      "image/png": "[encoded data removed]",
      "text/plain": [
       "<IPython.core.display.Image object>"
      ]
     },
     "metadata": {},
     "output_type": "display_data"
    }
   ],
   "source": [
    "from IPython.display import Image, display\n",
    "\n",
    "try:\n",
    "    display(Image(graph.get_graph().draw_mermaid_png()))\n",
    "except Exception:\n",
    "    pass "
   ]
  },
  {
   "cell_type": "code",
   "execution_count": 56,
   "id": "35264ef1",
   "metadata": {},
   "outputs": [
    {
     "name": "stdout",
     "output_type": "stream",
     "text": [
      "================================\u001b[1m Human Message \u001b[0m=================================\n",
      "\n",
      "I need some expert guidance and assisstance for building an AI agent. Could you request assisstance for me?\n",
      "==================================\u001b[1m Ai Message \u001b[0m==================================\n",
      "Tool Calls:\n",
      "  human_assistance (call_9x0QUuWOXyExLNwT293GVA7n)\n",
      " Call ID: call_9x0QUuWOXyExLNwT293GVA7n\n",
      "  Args:\n",
      "    query: User requires expert guidance for building an AI agent. Initiate assistance process and connect them with an expert.\n"
     ]
    }
   ],
   "source": [
    "user_input='I need some expert guidance and assisstance for building an AI agent. Could you request assisstance for me?'\n",
    "config={'configurable':{'thread_id':'2'}}\n",
    "\n",
    "events=graph.stream({'messages':user_input},config=config,stream_mode='values',)\n",
    "\n",
    "for event in events:\n",
    "    if \"messages\" in event:\n",
    "        event['messages'][-1].pretty_print()"
   ]
  },
  {
   "cell_type": "code",
   "execution_count": 57,
   "id": "4613409f",
   "metadata": {},
   "outputs": [
    {
     "name": "stdout",
     "output_type": "stream",
     "text": [
      "==================================\u001b[1m Ai Message \u001b[0m==================================\n",
      "Tool Calls:\n",
      "  human_assistance (call_9x0QUuWOXyExLNwT293GVA7n)\n",
      " Call ID: call_9x0QUuWOXyExLNwT293GVA7n\n",
      "  Args:\n",
      "    query: User requires expert guidance for building an AI agent. Initiate assistance process and connect them with an expert.\n",
      "=================================\u001b[1m Tool Message \u001b[0m=================================\n",
      "Name: human_assistance\n",
      "\n",
      "we, the expertes are here to help, we'd recommend you check out langgraph to build your agent.Its much more reliable and extensible than simple autonomous agents\n",
      "==================================\u001b[1m Ai Message \u001b[0m==================================\n",
      "\n",
      "The experts suggest using Langgraph for building your AI agent. It is considered to be very reliable and extensible compared to simple autonomous agents. Would you like further help in setting this up or exploring Langgraph's capabilities?\n"
     ]
    }
   ],
   "source": [
    "human_response=(\"we, the expertes are here to help, we'd recommend you check out langgraph to build your agent.\"\n",
    "        \"Its much more reliable and extensible than simple autonomous agents\")\n",
    "\n",
    "human_command=Command(resume={'data':human_response})\n",
    "\n",
    "events=graph.stream(human_command,config=config,stream_mode='values',)\n",
    "\n",
    "for event in events:\n",
    "    if \"messages\" in event:\n",
    "        event['messages'][-1].pretty_print()"
   ]
  },
  {
   "cell_type": "code",
   "execution_count": 58,
   "id": "9c3fd7e0",
   "metadata": {},
   "outputs": [
    {
     "name": "stdout",
     "output_type": "stream",
     "text": [
      "================================\u001b[1m Human Message \u001b[0m=================================\n",
      "\n",
      "yes proceed\n",
      "==================================\u001b[1m Ai Message \u001b[0m==================================\n",
      "Tool Calls:\n",
      "  human_assistance (call_XUu3f3puOREFD3oKqFThksVb)\n",
      " Call ID: call_XUu3f3puOREFD3oKqFThksVb\n",
      "  Args:\n",
      "    query: User wants to proceed with exploring and setting up Langgraph for building their AI agent. Could you provide more guidance or next steps for them?\n"
     ]
    }
   ],
   "source": [
    "user_input='yes proceed'\n",
    "config={'configurable':{'thread_id':'2'}}\n",
    "\n",
    "events=graph.stream({'messages':user_input},config=config,stream_mode='values',)\n",
    "\n",
    "for event in events:\n",
    "    if \"messages\" in event:\n",
    "        event['messages'][-1].pretty_print()"
   ]
  },
  {
   "cell_type": "code",
   "execution_count": 59,
   "id": "f7ae2861",
   "metadata": {},
   "outputs": [
    {
     "name": "stdout",
     "output_type": "stream",
     "text": [
      "==================================\u001b[1m Ai Message \u001b[0m==================================\n",
      "Tool Calls:\n",
      "  human_assistance (call_XUu3f3puOREFD3oKqFThksVb)\n",
      " Call ID: call_XUu3f3puOREFD3oKqFThksVb\n",
      "  Args:\n",
      "    query: User wants to proceed with exploring and setting up Langgraph for building their AI agent. Could you provide more guidance or next steps for them?\n",
      "=================================\u001b[1m Tool Message \u001b[0m=================================\n",
      "Name: human_assistance\n",
      "\n",
      "search for langgraphs for building agents\n",
      "==================================\u001b[1m Ai Message \u001b[0m==================================\n",
      "Tool Calls:\n",
      "  tavily_search (call_Y9WlgMdf6eBenltGS7uHKOnx)\n",
      " Call ID: call_Y9WlgMdf6eBenltGS7uHKOnx\n",
      "  Args:\n",
      "    query: Langgraph for building AI agents\n",
      "    search_depth: advanced\n",
      "=================================\u001b[1m Tool Message \u001b[0m=================================\n",
      "Name: tavily_search\n",
      "\n",
      "{\"query\": \"Langgraph for building AI agents\", \"follow_up_questions\": null, \"answer\": null, \"images\": [], \"results\": [{\"url\": \"https://medium.com/pythoneers/building-ai-agent-systems-with-langgraph-9d85537a6326\", \"title\": \"Building AI agent systems with LangGraph | by Vishnu Sivan - Medium\", \"content\": \"The diagram illustrates how LangGraph facilitates a dynamic, cyclic workflow for AI agents. The process begins with an initial state, which contains input data or context (in this case, a message from the customer asking about the advantages of solar panels). This state is passed to an agent node, which interacts with the customer to gather information, such as obtaining their electricity bill. After this interaction, the state is updated with the gathered information and passed to an edge, [...] LangGraph is a game-changing library within the LangChain ecosystem designed to streamline the creation of sophisticated AI applications. LangGraph provides a framework for efficiently defining, coordinating, and executing multiple LLM agents (or chains) in a structured, cyclical manner.\\n\\nIn this article, we will explore how LangGraph helps to build robust, scalable and flexible multi-agent systems, making the development of intelligent AI workflows smoother and more efficient. [...] # Getting Started\\n\\n## Table of contents\\n\\n# What is LangGraph\\n\\nBefore LangGraph, the agent executor class in LangChain was the primary tool for building AI agents. It operated by using an agent in a loop to make decisions, execute actions, and log observations. However, this class had limited flexibility, constraining developers to a fixed pattern of tool calling and error handling, making it difficult to build dynamic and adaptable agent runtimes.\", \"score\": 0.910998, \"raw_content\": null}, {\"title\": \"LangGraph Tutorial: A Comprehensive Guide to Building Advanced AI Agents\", \"url\": \"https://dev.to/aragorn_talks/langgraph-tutorial-a-comprehensive-guide-to-building-advanced-ai-agents-l31\", \"content\": \"LangGraph represents a significant advancement in AI agent development, offering more sophisticated capabilities compared to its predecessor LangChain. While LangChain provided basic functionality for creating simple agents with linear workflows, it struggled with complex implementations requiring manual setup of memory, persistence, and human oversight. This LangGraph tutorial explores how LangGraph overcomes these limitations by introducing a graph-based framework that enables developers to [...] create more versatile and powerful AI agents. With built-in support for state management, cyclic workflows, and seamless integration of human input, LangGraph provides the tools necessary for building production-ready AI applications that can handle complex, multi-step processes.\", \"score\": 0.90907925, \"raw_content\": null}], \"response_time\": 2.44}\n",
      "==================================\u001b[1m Ai Message \u001b[0m==================================\n",
      "\n",
      "Here are resources to help you explore and set up Langgraph for building your AI agent:\n",
      "\n",
      "1. **[Building AI agent systems with LangGraph on Medium](https://medium.com/pythoneers/building-ai-agent-systems-with-langgraph-9d85537a6326)**:\n",
      "   - Learn how LangGraph streamlines the creation of robust, scalable, and flexible multi-agent AI systems.\n",
      "   - Explains features like state management, structured workflows, and efficient coordination of multiple agents.\n",
      "\n",
      "2. **[LangGraph Tutorial on Dev.to](https://dev.to/aragorn_talks/langgraph-tutorial-a-comprehensive-guide-to-building-advanced-ai-agents-l31)**:\n",
      "   - Comprehensive guide to LangGraph’s graph-based framework for building advanced AI applications.\n",
      "   - Covers topics like cyclic workflows, memory integration, and production-ready AI agent capabilities.\n",
      "\n",
      "Both resources provide valuable insights into using Langgraph effectively. Let me know if you need further assistance or specific details!\n"
     ]
    }
   ],
   "source": [
    "human_response=(\"search for langgraphs for building agents\")\n",
    "\n",
    "human_command=Command(resume={'data':human_response})\n",
    "\n",
    "events=graph.stream(human_command,config=config,stream_mode='values',)\n",
    "\n",
    "for event in events:\n",
    "    if \"messages\" in event:\n",
    "        event['messages'][-1].pretty_print()"
   ]
  },
  {
   "cell_type": "code",
   "execution_count": null,
   "id": "d1bc2014",
   "metadata": {},
   "outputs": [],
   "source": []
  }
 ],
 "metadata": {
  "kernelspec": {
   "display_name": "Langgraph-Agent-course",
   "language": "python",
   "name": "python3"
  },
  "language_info": {
   "codemirror_mode": {
    "name": "ipython",
    "version": 3
   },
   "file_extension": ".py",
   "mimetype": "text/x-python",
   "name": "python",
   "nbconvert_exporter": "python",
   "pygments_lexer": "ipython3",
   "version": "3.12.5"
  }
 },
 "nbformat": 4,
 "nbformat_minor": 5
}
