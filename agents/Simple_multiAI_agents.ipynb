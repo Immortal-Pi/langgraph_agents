{
 "cells": [
  {
   "cell_type": "markdown",
   "id": "96832d19",
   "metadata": {},
   "source": [
    "# Simple Multi AI Agent"
   ]
  },
  {
   "cell_type": "code",
   "execution_count": 1,
   "id": "8e6a9c16",
   "metadata": {},
   "outputs": [
    {
     "data": {
      "text/plain": [
       "True"
      ]
     },
     "execution_count": 1,
     "metadata": {},
     "output_type": "execute_result"
    }
   ],
   "source": [
    "import os \n",
    "from typing import TypedDict, Annotated, List, Literal\n",
    "from langchain_core.messages import BaseMessage, HumanMessage, AIMessage, SystemMessage\n",
    "from langchain_openai import AzureChatOpenAI\n",
    "from langchain_core.tools import tool \n",
    "from langchain_community.tools.tavily_search import TavilySearchResults\n",
    "from langgraph.graph import StateGraph,END \n",
    "from langgraph.prebuilt import create_react_agent\n",
    "from langgraph.checkpoint.memory import MemorySaver\n",
    "from langchain_groq import ChatGroq\n",
    "from dotenv import load_dotenv\n",
    "load_dotenv()"
   ]
  },
  {
   "cell_type": "code",
   "execution_count": 2,
   "id": "ced64bd1",
   "metadata": {},
   "outputs": [],
   "source": [
    "llm_open_ai=AzureChatOpenAI(\n",
    "    azure_deployment='gpt-4o',\n",
    "    api_key=os.getenv('AZURE_OPENAI_GPT_4O_API_KEY'),\n",
    "    azure_endpoint=os.getenv('AZURE_OPENAI_GPT_4O_API_ENDPOINT'),\n",
    "    api_version=os.getenv('AZURE_OPENAI_GPT_4O_API_VERSION')\n",
    ")\n",
    "\n",
    "llm_groq=ChatGroq(model='deepseek-r1-distill-llama-70b',api_key=os.getenv('GROQ_API_KEY'))\n"
   ]
  },
  {
   "cell_type": "code",
   "execution_count": 3,
   "id": "1d7046a8",
   "metadata": {},
   "outputs": [],
   "source": [
    "from langgraph.graph import StateGraph, END, MessagesState\n",
    "from langgraph.prebuilt import ToolNode\n",
    "from langgraph.checkpoint.memory import MemorySaver "
   ]
  },
  {
   "cell_type": "code",
   "execution_count": 4,
   "id": "cd6e2301",
   "metadata": {},
   "outputs": [],
   "source": [
    "## Define the state \n",
    "class AgentState(MessagesState):\n",
    "    next_agent:str # which agent should go next "
   ]
  },
  {
   "cell_type": "code",
   "execution_count": 5,
   "id": "511b766d",
   "metadata": {},
   "outputs": [],
   "source": [
    "# create simple tools \n",
    "@tool \n",
    "def search_web(query:str)->str:\n",
    "    \"\"\" \n",
    "    Search the web for information\n",
    "    \"\"\"\n",
    "    search=TavilySearchResults(max_results=3)\n",
    "    results=search.invoke(query)\n",
    "    return results\n",
    "\n",
    "@tool\n",
    "def write_summary(content:str)-> str:\n",
    "    \"\"\" \n",
    "    write a summary of the provided context.\n",
    "    \"\"\"\n",
    "    # simple summary generation \n",
    "    summary=f'Summary of findings:\\n\\n{content[:500]}...'\n",
    "    return summary\n"
   ]
  },
  {
   "cell_type": "code",
   "execution_count": 6,
   "id": "c3aa13bd",
   "metadata": {},
   "outputs": [],
   "source": [
    " # define agent functions (simple approach)\n",
    "def researcher_agent(state:AgentState):\n",
    "    \"\"\" \n",
    "    Researcher agent that searches for information \n",
    "    \"\"\"\n",
    "    messages =state['messages']\n",
    "\n",
    "    # Add system message for contexxt \n",
    "    system_msg=SystemMessage(content=\"You are a research assistant. Use the serach_web tool to find information about the user's request\")\n",
    "\n",
    "    # call LLM with tools \n",
    "    researcher_llm=llm_open_ai.bind_tools([search_web])\n",
    "    response=researcher_llm.invoke([system_msg]+messages)\n",
    "    print(response)\n",
    "    # return the response and route to writer \n",
    "    return {\n",
    "        \"messages\":[response],\n",
    "        \"next_agent\":\"writer\"\n",
    "    }"
   ]
  },
  {
   "cell_type": "code",
   "execution_count": 7,
   "id": "bd6b9e3a",
   "metadata": {},
   "outputs": [],
   "source": [
    "# define write agent \n",
    "def writer_agent(state:AgentState):\n",
    "    \"\"\" \n",
    "    writer agent that creates summaries\n",
    "    \"\"\"\n",
    "    messages=state['messages']\n",
    "\n",
    "    # Add system message \n",
    "    system_msg=SystemMessage(content='you are a technical writer. Review the conversation and create a clear, concise summary of the findings')\n",
    "\n",
    "    # Simple completion without tools \n",
    "    response=llm_open_ai.invoke([system_msg]+messages)\n",
    "    # print(messages)\n",
    "    return {\n",
    "        \"messages\":[response],\n",
    "        \"next_agent\":\"end\"\n",
    "    }\n",
    "\n"
   ]
  },
  {
   "cell_type": "code",
   "execution_count": 8,
   "id": "70e65327",
   "metadata": {},
   "outputs": [],
   "source": [
    "def execute_tools(state: AgentState):\n",
    "    \"\"\" \n",
    "    Execute any pending tool calls \n",
    "    \"\"\"\n",
    "    messages=state['messages']\n",
    "    last_messages=messages[-1]\n",
    "\n",
    "    # Check if there are tool calls to execute \n",
    "    if hasattr(last_messages, \"tool_calls\") and last_messages.tool_calls:\n",
    "        # create tool node and execute \n",
    "        tool_node=ToolNode([search_web, write_summary])\n",
    "        response=tool_node.invoke(state)\n",
    "        return response\n",
    "    \n",
    "    # No tools to execute \n",
    "    return state"
   ]
  },
  {
   "cell_type": "code",
   "execution_count": 9,
   "id": "30b7fff3",
   "metadata": {},
   "outputs": [
    {
     "data": {
      "image/png": "[encoded data removed]",
      "text/plain": [
       "<langgraph.graph.state.CompiledStateGraph object at 0x00000202A7922300>"
      ]
     },
     "execution_count": 9,
     "metadata": {},
     "output_type": "execute_result"
    }
   ],
   "source": [
    "# build graph\n",
    "workflow=StateGraph(AgentState)\n",
    "\n",
    "# Add nodes \n",
    "workflow.add_node('researcher',researcher_agent)\n",
    "workflow.add_node('writer',writer_agent)\n",
    "workflow.add_node('tool_executor',ToolNode([search_web,write_summary]))\n",
    "\n",
    "# Define flow \n",
    "workflow.set_entry_point('researcher')\n",
    "workflow.add_edge('researcher','tool_executor')\n",
    "workflow.add_edge('tool_executor','writer')\n",
    "workflow.add_edge('writer',END)\n",
    "final_workflow=workflow.compile()\n",
    "final_workflow"
   ]
  },
  {
   "cell_type": "code",
   "execution_count": 10,
   "id": "8cb40420",
   "metadata": {},
   "outputs": [
    {
     "name": "stdout",
     "output_type": "stream",
     "text": [
      "content='' additional_kwargs={'tool_calls': [{'id': 'call_Kx0TgF8Vt6kE6rAAAvZaor0T', 'function': {'arguments': '{\"query\":\"agentic AI use cases in business\"}', 'name': 'search_web'}, 'type': 'function'}], 'refusal': None} response_metadata={'token_usage': {'completion_tokens': 21, 'prompt_tokens': 74, 'total_tokens': 95, 'completion_tokens_details': {'accepted_prediction_tokens': 0, 'audio_tokens': 0, 'reasoning_tokens': 0, 'rejected_prediction_tokens': 0}, 'prompt_tokens_details': {'audio_tokens': 0, 'cached_tokens': 0}}, 'model_name': 'gpt-4o-2024-11-20', 'system_fingerprint': 'fp_e6529acef4', 'id': 'chatcmpl-BvStPGI1ZuKSJebuR48rUd5t0gjNz', 'service_tier': None, 'prompt_filter_results': [{'prompt_index': 0, 'content_filter_results': {'hate': {'filtered': False, 'severity': 'safe'}, 'jailbreak': {'filtered': False, 'detected': False}, 'self_harm': {'filtered': False, 'severity': 'safe'}, 'sexual': {'filtered': False, 'severity': 'safe'}, 'violence': {'filtered': False, 'severity': 'safe'}}}], 'finish_reason': 'tool_calls', 'logprobs': None, 'content_filter_results': {}} id='run--1ba0a9dc-82d7-4e72-bde2-3eba5c2738ad-0' tool_calls=[{'name': 'search_web', 'args': {'query': 'agentic AI use cases in business'}, 'id': 'call_Kx0TgF8Vt6kE6rAAAvZaor0T', 'type': 'tool_call'}] usage_metadata={'input_tokens': 74, 'output_tokens': 21, 'total_tokens': 95, 'input_token_details': {'audio': 0, 'cache_read': 0}, 'output_token_details': {'audio': 0, 'reasoning': 0}}\n"
     ]
    },
    {
     "name": "stderr",
     "output_type": "stream",
     "text": [
      "C:\\Users\\26amr\\AppData\\Local\\Temp\\ipykernel_2732\\957222989.py:7: LangChainDeprecationWarning: The class `TavilySearchResults` was deprecated in LangChain 0.3.25 and will be removed in 1.0. An updated version of the class exists in the :class:`~langchain-tavily package and should be used instead. To use it run `pip install -U :class:`~langchain-tavily` and import as `from :class:`~langchain_tavily import TavilySearch``.\n",
      "  search=TavilySearchResults(max_results=3)\n"
     ]
    },
    {
     "name": "stdout",
     "output_type": "stream",
     "text": [
      "Agentic AI is transforming business operations by autonomously analyzing environments, making decisions, and executing actions to meet specific objectives. Key use cases include:\n",
      "\n",
      "1. **Customer Service Automation**:\n",
      "   - Instant chatbot responses to inquiries.\n",
      "   - Efficient ticket routing and multi-language support.\n",
      "   - Enhancing knowledge base management and identifying upselling opportunities.\n",
      "\n",
      "2. **Streamlining Enterprise Operations**:\n",
      "   - Automating routine workflows, such as converting meeting notes into actionable tasks or triggering supply chain actions.\n",
      "   - Driving efficiency in detail-oriented tasks, such as coding.\n",
      "\n",
      "3. **Cybersecurity Enhancements**:\n",
      "   - Real-time detection and mitigation of security and fraud threats.\n",
      "   - Helping security teams predict and address evolving threats proactively.\n",
      "\n",
      "4. **Industry-Specific Benefits**:\n",
      "   - Optimizing processes in healthcare, financial services, and retail/e-commerce.\n",
      "\n",
      "Adoption of agentic AI often leads to cost savings, efficiency improvements, revenue growth, competitive advantages, and better risk management. Businesses at the forefront leverage agentic AI to reduce friction, accelerate decision-making, and achieve operational excellence.\n"
     ]
    }
   ],
   "source": [
    "response=final_workflow.invoke({'messages':\"Research about the use case of agentic AI in business\"})\n",
    "print(response['messages'][-1].content)"
   ]
  },
  {
   "cell_type": "markdown",
   "id": "3092fd70",
   "metadata": {},
   "source": [
    "# Simple multi AI agent"
   ]
  },
  {
   "cell_type": "code",
   "execution_count": 11,
   "id": "366e6bd7",
   "metadata": {},
   "outputs": [
    {
     "data": {
      "text/plain": [
       "True"
      ]
     },
     "execution_count": 11,
     "metadata": {},
     "output_type": "execute_result"
    }
   ],
   "source": [
    "import os \n",
    "from typing import TypedDict, Annotated, List, Literal \n",
    "from langchain_core.messages import BaseMessage, HumanMessage, AIMessage, SystemMessage\n",
    "from langchain_openai import AzureChatOpenAI \n",
    "from langchain_core.tools import tool \n",
    "from langchain_community.tools.tavily_search import TavilySearchResults \n",
    "from langgraph.graph import StateGraph, END, MessagesState\n",
    "from langgraph.prebuilt import create_react_agent \n",
    "from langgraph.checkpoint.memory import MemorySaver \n",
    "from langchain_groq import ChatGroq \n",
    "from dotenv import load_dotenv\n",
    "load_dotenv()"
   ]
  },
  {
   "cell_type": "code",
   "execution_count": 12,
   "id": "8103b368",
   "metadata": {},
   "outputs": [],
   "source": [
    "llm_open_ai=AzureChatOpenAI(\n",
    "    azure_deployment='gpt-4o',\n",
    "    api_key=os.getenv('AZURE_OPENAI_GPT_4O_API_KEY'),\n",
    "    azure_endpoint=os.getenv('AZURE_OPENAI_GPT_4O_API_ENDPOINT'),\n",
    "    api_version=os.getenv('AZURE_OPENAI_GPT_4O_API_VERSION')\n",
    ")\n",
    "\n",
    "llm_groq=ChatGroq(model='deepseek-r1-distill-llama-70b',api_key=os.getenv('GROQ_API'))"
   ]
  },
  {
   "cell_type": "code",
   "execution_count": 13,
   "id": "b87f4819",
   "metadata": {},
   "outputs": [],
   "source": [
    "# define state\n",
    "class AgentState(MessagesState):\n",
    "    next_agent:str # which agent should go next"
   ]
  },
  {
   "cell_type": "code",
   "execution_count": 14,
   "id": "672e8a7f",
   "metadata": {},
   "outputs": [],
   "source": [
    "# create tool\n",
    "@tool \n",
    "def search_web(query:str)-> str:\n",
    "    \"\"\" \n",
    "    search the web for information \n",
    "    \"\"\"\n",
    "    search=TavilySearchResults(max_results=3)\n",
    "    results=search.invoke(query)\n",
    "    return results \n",
    "\n",
    "@tool\n",
    "def write_summary(text:str)-> str:\n",
    "    \"\"\" \n",
    "    write a summary of the provided context \n",
    "    \"\"\"\n",
    "    prompt=[\n",
    "        SystemMessage(content='you are helpful summarization assistant'),\n",
    "        {'role':'user','content':f'Summaraize the folloing content:\\n\\n{text}'}\n",
    "    ]\n",
    "    response=llm_open_ai.invoke(prompt)\n",
    "    return response.content"
   ]
  },
  {
   "cell_type": "code",
   "execution_count": 15,
   "id": "370811af",
   "metadata": {},
   "outputs": [],
   "source": [
    "# reearch agent \n",
    "def researcher_agent(state:AgentState):\n",
    "    \"\"\"\n",
    "    Research agent that searches for information \n",
    "    \"\"\"\n",
    "    messages=state['messages']\n",
    "    system_msg=SystemMessage(content='you are a research assistant. Use the search_web tool to find information ')\n",
    "\n",
    "    researcher_llm=llm_open_ai.bind_tools([search_web])\n",
    "    response=researcher_llm.invoke([system_msg]+messages)\n",
    "    print(response)\n",
    "    return {\n",
    "        \"messages\":[response],\n",
    "        \"next_agent\":\"writer\"\n",
    "    }"
   ]
  },
  {
   "cell_type": "code",
   "execution_count": 16,
   "id": "cae92086",
   "metadata": {},
   "outputs": [],
   "source": [
    "# writer agent \n",
    "def writer_agent(state:AgentState):\n",
    "    \"\"\" \n",
    "    writer agent that creats summary\n",
    "    \"\"\"\n",
    "    messages=state['messages']\n",
    "    system_msg=SystemMessage(content='you are a technical weiter, Review the summary and write a clear summary of the content')\n",
    "    filtered_messages = []\n",
    "    for msg in messages:\n",
    "        # Keep all non-AI messages (e.g., System, Human)\n",
    "        if not isinstance(msg, AIMessage):\n",
    "            filtered_messages.append(msg)\n",
    "        # Keep only AI messages that do not include tool_calls\n",
    "        elif not getattr(msg, \"tool_calls\", None):\n",
    "            filtered_messages.append(msg)\n",
    "    print(f'message:',messages)\n",
    "    print(f'filtered_messages:',filtered_messages)\n",
    "    # simple completion without tools \n",
    "    response=llm_open_ai.invoke([system_msg]+filtered_messages)\n",
    "    return {\n",
    "        'messages':[response],\n",
    "        'next_agent':'end'\n",
    "    }"
   ]
  },
  {
   "cell_type": "code",
   "execution_count": 17,
   "id": "6bba840d",
   "metadata": {},
   "outputs": [],
   "source": [
    "# def execute_tools(state:AgentState)"
   ]
  },
  {
   "cell_type": "code",
   "execution_count": 18,
   "id": "e1ca2d41",
   "metadata": {},
   "outputs": [
    {
     "data": {
      "image/png": "[encoded data removed]",
      "text/plain": [
       "<langgraph.graph.state.CompiledStateGraph object at 0x00000202A7CB9010>"
      ]
     },
     "execution_count": 18,
     "metadata": {},
     "output_type": "execute_result"
    }
   ],
   "source": [
    "# build graph\n",
    "workflow=StateGraph(AgentState)\n",
    "\n",
    "# Add nodes \n",
    "workflow.add_node('researcher',researcher_agent)\n",
    "workflow.add_node('writer',writer_agent)\n",
    "# workflow.add_node('tool_executor',ToolNode([search_web,write_summary]))\n",
    "\n",
    "# Define flow \n",
    "workflow.set_entry_point('researcher')\n",
    "workflow.add_edge('researcher','writer')\n",
    "# workflow.add_edge('tool_executor','writer')\n",
    "workflow.add_edge('writer',END)\n",
    "final_workflow=workflow.compile()\n",
    "final_workflow"
   ]
  },
  {
   "cell_type": "code",
   "execution_count": 19,
   "id": "927496b3",
   "metadata": {},
   "outputs": [
    {
     "name": "stdout",
     "output_type": "stream",
     "text": [
      "content='' additional_kwargs={'tool_calls': [{'id': 'call_CCXA3qbNwsf5lDQP0hVB20b4', 'function': {'arguments': '{\"query\":\"use cases of agentic AI in business\"}', 'name': 'search_web'}, 'type': 'function'}], 'refusal': None} response_metadata={'token_usage': {'completion_tokens': 22, 'prompt_tokens': 69, 'total_tokens': 91, 'completion_tokens_details': {'accepted_prediction_tokens': 0, 'audio_tokens': 0, 'reasoning_tokens': 0, 'rejected_prediction_tokens': 0}, 'prompt_tokens_details': {'audio_tokens': 0, 'cached_tokens': 0}}, 'model_name': 'gpt-4o-2024-11-20', 'system_fingerprint': 'fp_e6529acef4', 'id': 'chatcmpl-BvStVzSjzX4WF0DGYTN5JrAcdJJig', 'service_tier': None, 'prompt_filter_results': [{'prompt_index': 0, 'content_filter_results': {'hate': {'filtered': False, 'severity': 'safe'}, 'jailbreak': {'detected': False, 'filtered': False}, 'self_harm': {'filtered': False, 'severity': 'safe'}, 'sexual': {'filtered': False, 'severity': 'safe'}, 'violence': {'filtered': False, 'severity': 'safe'}}}], 'finish_reason': 'tool_calls', 'logprobs': None, 'content_filter_results': {}} id='run--92494c8e-c181-4982-be02-09388bd75c5d-0' tool_calls=[{'name': 'search_web', 'args': {'query': 'use cases of agentic AI in business'}, 'id': 'call_CCXA3qbNwsf5lDQP0hVB20b4', 'type': 'tool_call'}] usage_metadata={'input_tokens': 69, 'output_tokens': 22, 'total_tokens': 91, 'input_token_details': {'audio': 0, 'cache_read': 0}, 'output_token_details': {'audio': 0, 'reasoning': 0}}\n",
      "message: [HumanMessage(content='Research about the use case of agentic AI in business', additional_kwargs={}, response_metadata={}, id='aba1ff9c-79d1-40b7-819b-59672eca8e4c'), AIMessage(content='', additional_kwargs={'tool_calls': [{'id': 'call_CCXA3qbNwsf5lDQP0hVB20b4', 'function': {'arguments': '{\"query\":\"use cases of agentic AI in business\"}', 'name': 'search_web'}, 'type': 'function'}], 'refusal': None}, response_metadata={'token_usage': {'completion_tokens': 22, 'prompt_tokens': 69, 'total_tokens': 91, 'completion_tokens_details': {'accepted_prediction_tokens': 0, 'audio_tokens': 0, 'reasoning_tokens': 0, 'rejected_prediction_tokens': 0}, 'prompt_tokens_details': {'audio_tokens': 0, 'cached_tokens': 0}}, 'model_name': 'gpt-4o-2024-11-20', 'system_fingerprint': 'fp_e6529acef4', 'id': 'chatcmpl-BvStVzSjzX4WF0DGYTN5JrAcdJJig', 'service_tier': None, 'prompt_filter_results': [{'prompt_index': 0, 'content_filter_results': {'hate': {'filtered': False, 'severity': 'safe'}, 'jailbreak': {'detected': False, 'filtered': False}, 'self_harm': {'filtered': False, 'severity': 'safe'}, 'sexual': {'filtered': False, 'severity': 'safe'}, 'violence': {'filtered': False, 'severity': 'safe'}}}], 'finish_reason': 'tool_calls', 'logprobs': None, 'content_filter_results': {}}, id='run--92494c8e-c181-4982-be02-09388bd75c5d-0', tool_calls=[{'name': 'search_web', 'args': {'query': 'use cases of agentic AI in business'}, 'id': 'call_CCXA3qbNwsf5lDQP0hVB20b4', 'type': 'tool_call'}], usage_metadata={'input_tokens': 69, 'output_tokens': 22, 'total_tokens': 91, 'input_token_details': {'audio': 0, 'cache_read': 0}, 'output_token_details': {'audio': 0, 'reasoning': 0}})]\n",
      "filtered_messages: [HumanMessage(content='Research about the use case of agentic AI in business', additional_kwargs={}, response_metadata={}, id='aba1ff9c-79d1-40b7-819b-59672eca8e4c')]\n",
      "**Summary: Use Cases of Agentic AI in Business**\n",
      "\n",
      "Agentic Artificial Intelligence (AI), characterized by its autonomy in decision-making and execution, is transforming the business landscape by enabling systems to act independently based on predetermined objectives and contextual information. Its applications span across diverse sectors, enhancing efficiency, accuracy, and innovation.\n",
      "\n",
      "1. **Customer Service Automation**: Agentic AI is revolutionizing customer interactions by employing advanced chatbots and virtual assistants that can autonomously resolve customer inquiries, predict concerns, and provide tailored recommendations, enhancing customer satisfaction.\n",
      "\n",
      "2. **Supply Chain Optimization**: In logistics, agentic AI systems autonomously monitor and adapt to changes in inventory, delivery schedules, and supplier constraints, ensuring operational agility and reliability.\n",
      "\n",
      "3. **Sales and Marketing Personalization**: Agentic AI analyzes consumer preferences and purchasing behaviors to independently design and execute personalized marketing campaigns, boosting conversion rates and customer retention.\n",
      "\n",
      "4. **Risk Management and Fraud Detection**: Financial institutions use agentic AI to continuously monitor transactions and notify stakeholders of potential risks or suspicious activities in real time, reducing response time and minimizing losses.\n",
      "\n",
      "5. **Healthcare Decision-Making**: In the healthcare sector, agentic AI analyzes patient data, autonomously recommending treatment plans or adjusting schedules for optimized patient outcomes.\n",
      "\n",
      "6. **Innovation in Product Development**: R&D teams leverage agentic AI systems to generate new ideas, simulate product designs, and automate testing processes to accelerate the development cycle.\n",
      "\n",
      "7. **Human Resources Processes**: Agentic AI automates tasks such as candidate sourcing, employee performance evaluations, and personalized training plans, allowing HR teams to focus on strategic initiatives.\n",
      "\n",
      "8. **Financial Management**: Businesses use agentic AI to autonomously track budgets, forecast financial trends, and optimize investments to drive profitability.\n",
      "\n",
      "9. **Cybersecurity**: Agentic AI systems continuously monitor IT infrastructure, detect vulnerabilities, and independently respond to cyber threats, providing proactive protection.\n",
      "\n",
      "By enabling autonomous decision-making, agentic AI reduces the reliance on human intervention, streamlines processes, lowers costs, and enhances decision accuracy. Businesses adopting agentic AI gain a significant competitive advantage, becoming more agile and responsive to changing market demands while focusing on strategic innovation and growth.\n"
     ]
    }
   ],
   "source": [
    "response=final_workflow.invoke({'messages':\"Research about the use case of agentic AI in business\"})\n",
    "print(response['messages'][-1].content)"
   ]
  },
  {
   "cell_type": "code",
   "execution_count": 20,
   "id": "6feb8be9",
   "metadata": {},
   "outputs": [
    {
     "data": {
      "text/plain": [
       "{'messages': [HumanMessage(content='Research about the use case of agentic AI in business', additional_kwargs={}, response_metadata={}, id='aba1ff9c-79d1-40b7-819b-59672eca8e4c'),\n",
       "  AIMessage(content='', additional_kwargs={'tool_calls': [{'id': 'call_CCXA3qbNwsf5lDQP0hVB20b4', 'function': {'arguments': '{\"query\":\"use cases of agentic AI in business\"}', 'name': 'search_web'}, 'type': 'function'}], 'refusal': None}, response_metadata={'token_usage': {'completion_tokens': 22, 'prompt_tokens': 69, 'total_tokens': 91, 'completion_tokens_details': {'accepted_prediction_tokens': 0, 'audio_tokens': 0, 'reasoning_tokens': 0, 'rejected_prediction_tokens': 0}, 'prompt_tokens_details': {'audio_tokens': 0, 'cached_tokens': 0}}, 'model_name': 'gpt-4o-2024-11-20', 'system_fingerprint': 'fp_e6529acef4', 'id': 'chatcmpl-BvStVzSjzX4WF0DGYTN5JrAcdJJig', 'service_tier': None, 'prompt_filter_results': [{'prompt_index': 0, 'content_filter_results': {'hate': {'filtered': False, 'severity': 'safe'}, 'jailbreak': {'detected': False, 'filtered': False}, 'self_harm': {'filtered': False, 'severity': 'safe'}, 'sexual': {'filtered': False, 'severity': 'safe'}, 'violence': {'filtered': False, 'severity': 'safe'}}}], 'finish_reason': 'tool_calls', 'logprobs': None, 'content_filter_results': {}}, id='run--92494c8e-c181-4982-be02-09388bd75c5d-0', tool_calls=[{'name': 'search_web', 'args': {'query': 'use cases of agentic AI in business'}, 'id': 'call_CCXA3qbNwsf5lDQP0hVB20b4', 'type': 'tool_call'}], usage_metadata={'input_tokens': 69, 'output_tokens': 22, 'total_tokens': 91, 'input_token_details': {'audio': 0, 'cache_read': 0}, 'output_token_details': {'audio': 0, 'reasoning': 0}}),\n",
       "  AIMessage(content='**Summary: Use Cases of Agentic AI in Business**\\n\\nAgentic Artificial Intelligence (AI), characterized by its autonomy in decision-making and execution, is transforming the business landscape by enabling systems to act independently based on predetermined objectives and contextual information. Its applications span across diverse sectors, enhancing efficiency, accuracy, and innovation.\\n\\n1. **Customer Service Automation**: Agentic AI is revolutionizing customer interactions by employing advanced chatbots and virtual assistants that can autonomously resolve customer inquiries, predict concerns, and provide tailored recommendations, enhancing customer satisfaction.\\n\\n2. **Supply Chain Optimization**: In logistics, agentic AI systems autonomously monitor and adapt to changes in inventory, delivery schedules, and supplier constraints, ensuring operational agility and reliability.\\n\\n3. **Sales and Marketing Personalization**: Agentic AI analyzes consumer preferences and purchasing behaviors to independently design and execute personalized marketing campaigns, boosting conversion rates and customer retention.\\n\\n4. **Risk Management and Fraud Detection**: Financial institutions use agentic AI to continuously monitor transactions and notify stakeholders of potential risks or suspicious activities in real time, reducing response time and minimizing losses.\\n\\n5. **Healthcare Decision-Making**: In the healthcare sector, agentic AI analyzes patient data, autonomously recommending treatment plans or adjusting schedules for optimized patient outcomes.\\n\\n6. **Innovation in Product Development**: R&D teams leverage agentic AI systems to generate new ideas, simulate product designs, and automate testing processes to accelerate the development cycle.\\n\\n7. **Human Resources Processes**: Agentic AI automates tasks such as candidate sourcing, employee performance evaluations, and personalized training plans, allowing HR teams to focus on strategic initiatives.\\n\\n8. **Financial Management**: Businesses use agentic AI to autonomously track budgets, forecast financial trends, and optimize investments to drive profitability.\\n\\n9. **Cybersecurity**: Agentic AI systems continuously monitor IT infrastructure, detect vulnerabilities, and independently respond to cyber threats, providing proactive protection.\\n\\nBy enabling autonomous decision-making, agentic AI reduces the reliance on human intervention, streamlines processes, lowers costs, and enhances decision accuracy. Businesses adopting agentic AI gain a significant competitive advantage, becoming more agile and responsive to changing market demands while focusing on strategic innovation and growth.', additional_kwargs={'refusal': None}, response_metadata={'token_usage': {'completion_tokens': 443, 'prompt_tokens': 39, 'total_tokens': 482, 'completion_tokens_details': {'accepted_prediction_tokens': 0, 'audio_tokens': 0, 'reasoning_tokens': 0, 'rejected_prediction_tokens': 0}, 'prompt_tokens_details': {'audio_tokens': 0, 'cached_tokens': 0}}, 'model_name': 'gpt-4o-2024-11-20', 'system_fingerprint': 'fp_e6529acef4', 'id': 'chatcmpl-BvStWIHolJB5eSv0vlwgUApnsgc4T', 'service_tier': None, 'prompt_filter_results': [{'prompt_index': 0, 'content_filter_results': {'hate': {'filtered': False, 'severity': 'safe'}, 'jailbreak': {'filtered': False, 'detected': False}, 'self_harm': {'filtered': False, 'severity': 'safe'}, 'sexual': {'filtered': False, 'severity': 'safe'}, 'violence': {'filtered': False, 'severity': 'safe'}}}], 'finish_reason': 'stop', 'logprobs': None, 'content_filter_results': {'hate': {'filtered': False, 'severity': 'safe'}, 'protected_material_code': {'filtered': False, 'detected': False}, 'protected_material_text': {'filtered': False, 'detected': False}, 'self_harm': {'filtered': False, 'severity': 'safe'}, 'sexual': {'filtered': False, 'severity': 'safe'}, 'violence': {'filtered': False, 'severity': 'safe'}}}, id='run--c201e36c-31d7-4b95-8cec-ec7299a375b1-0', usage_metadata={'input_tokens': 39, 'output_tokens': 443, 'total_tokens': 482, 'input_token_details': {'audio': 0, 'cache_read': 0}, 'output_token_details': {'audio': 0, 'reasoning': 0}})],\n",
       " 'next_agent': 'end'}"
      ]
     },
     "execution_count": 20,
     "metadata": {},
     "output_type": "execute_result"
    }
   ],
   "source": [
    "response"
   ]
  },
  {
   "cell_type": "code",
   "execution_count": null,
   "id": "ac6af6de",
   "metadata": {},
   "outputs": [],
   "source": []
  }
 ],
 "metadata": {
  "kernelspec": {
   "display_name": "Langgraph-Agent-course",
   "language": "python",
   "name": "python3"
  },
  "language_info": {
   "codemirror_mode": {
    "name": "ipython",
    "version": 3
   },
   "file_extension": ".py",
   "mimetype": "text/x-python",
   "name": "python",
   "nbconvert_exporter": "python",
   "pygments_lexer": "ipython3",
   "version": "3.12.5"
  }
 },
 "nbformat": 4,
 "nbformat_minor": 5
}
