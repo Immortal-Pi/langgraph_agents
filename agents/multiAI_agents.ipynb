{
 "cells": [
  {
   "cell_type": "markdown",
   "id": "96832d19",
   "metadata": {},
   "source": [
    "# Simple Multi AI Agent"
   ]
  },
  {
   "cell_type": "code",
   "execution_count": 6,
   "id": "8e6a9c16",
   "metadata": {},
   "outputs": [
    {
     "data": {
      "text/plain": [
       "True"
      ]
     },
     "execution_count": 6,
     "metadata": {},
     "output_type": "execute_result"
    }
   ],
   "source": [
    "import os \n",
    "from typing import TypedDict, Annotated, List, Literal\n",
    "from langchain_core.messages import BaseMessage, HumanMessage, AIMessage, SystemMessage\n",
    "from langchain_openai import AzureChatOpenAI\n",
    "from langchain_core.tools import tool \n",
    "from langchain_community.tools.tavily_search import TavilySearchResults\n",
    "from langgraph.graph import StateGraph,END \n",
    "from langgraph.prebuilt import create_react_agent\n",
    "from langgraph.checkpoint.memory import MemorySaver\n",
    "from langchain_groq import ChatGroq\n",
    "from dotenv import load_dotenv\n",
    "load_dotenv()"
   ]
  },
  {
   "cell_type": "code",
   "execution_count": 7,
   "id": "ced64bd1",
   "metadata": {},
   "outputs": [],
   "source": [
    "llm_open_ai=AzureChatOpenAI(\n",
    "    azure_deployment='gpt-4o',\n",
    "    api_key=os.getenv('AZURE_OPENAI_GPT_4O_API_KEY'),\n",
    "    azure_endpoint=os.getenv('AZURE_OPENAI_GPT_4O_API_ENDPOINT'),\n",
    "    api_version=os.getenv('AZURE_OPENAI_GPT_4O_API_VERSION')\n",
    ")\n",
    "\n",
    "llm_groq=ChatGroq(model='deepseek-r1-distill-llama-70b',api_key=os.getenv('GROQ_API'))\n"
   ]
  },
  {
   "cell_type": "code",
   "execution_count": 8,
   "id": "1d7046a8",
   "metadata": {},
   "outputs": [],
   "source": [
    "from langgraph.graph import StateGraph, END, MessagesState\n",
    "from langgraph.prebuilt import ToolNode\n",
    "from langgraph.checkpoint.memory import MemorySaver "
   ]
  },
  {
   "cell_type": "code",
   "execution_count": 9,
   "id": "cd6e2301",
   "metadata": {},
   "outputs": [],
   "source": [
    "## Define the state \n",
    "class AgentState(MessagesState):\n",
    "    next_agent:str # which agent should go next "
   ]
  },
  {
   "cell_type": "code",
   "execution_count": 11,
   "id": "511b766d",
   "metadata": {},
   "outputs": [],
   "source": [
    "# create simple tools \n",
    "@tool \n",
    "def search_web(query:str)->str:\n",
    "    \"\"\" \n",
    "    Search the web for information\n",
    "    \"\"\"\n",
    "    search=TavilySearchResults(max_results=3)\n",
    "    results=search.invoke(query)\n",
    "    return results\n",
    "\n",
    "@tool\n",
    "def write_summary(content:str)-> str:\n",
    "    \"\"\" \n",
    "    write a summary of the provided context.\n",
    "    \"\"\"\n",
    "    # simple summary generation \n",
    "    summary=f'Summary of findings:\\n\\n{content[:500]}...'\n",
    "    return summary\n"
   ]
  },
  {
   "cell_type": "code",
   "execution_count": 12,
   "id": "c3aa13bd",
   "metadata": {},
   "outputs": [],
   "source": [
    " # define agent functions (simple approach)\n",
    "def researcher_agent(state:AgentState):\n",
    "    \"\"\" \n",
    "    Researcher agent that searhes for information \n",
    "    \"\"\"\n",
    "    messages =state['messages']\n",
    "\n",
    "    # Add system message for contexxt \n",
    "    system_msg=SystemMessage(content=\"You are a research assistant. Use the serach_web tool to find infromation about the user's request\")\n",
    "\n",
    "    # call LLM with tools \n",
    "    researcher_llm=llm_open_ai.bind_tools([search_web])\n",
    "    response=researcher_llm.invoke([system_msg]+messages)\n",
    "\n",
    "    # return the response and route to writer \n",
    "    return {\n",
    "        \"messages\":[response],\n",
    "        \"next_agent\":\"writer\"\n",
    "    }"
   ]
  },
  {
   "cell_type": "code",
   "execution_count": 13,
   "id": "bd6b9e3a",
   "metadata": {},
   "outputs": [],
   "source": [
    "# define write agent \n",
    "def writer_agent(state:AgentState):\n",
    "    \"\"\" \n",
    "    writer agent that creates summaries\n",
    "    \"\"\"\n",
    "    messages=state['messages']\n",
    "\n",
    "    # Add system message \n",
    "    system_msg=SystemMessage(content='you are a technical writer. Review the conversation and create a clear, concise summary of the findings')\n",
    "\n",
    "    # Simple completion without tools \n",
    "    response=llm_open_ai.invoke([system_msg]+messages)\n",
    "\n",
    "    return {\n",
    "        \"messages\":[response],\n",
    "        \"next_agent\":\"end\"\n",
    "    }\n",
    "\n",
    "\n",
    "\n"
   ]
  },
  {
   "cell_type": "code",
   "execution_count": 14,
   "id": "70e65327",
   "metadata": {},
   "outputs": [],
   "source": [
    "def execute_tools(state: AgentState):\n",
    "    \"\"\" \n",
    "    Execute any pending tool calls \n",
    "    \"\"\"\n",
    "    messages=state['messages']\n",
    "    last_messages=messages[-1]\n",
    "\n",
    "    # Check if there are tool calls to execute \n",
    "    if hasattr(last_messages, \"tool_calls\") and last_messages.tool_calls:\n",
    "        # create tool node and execute \n",
    "        tool_node=ToolNode([search_web, write_summary])\n",
    "        response=tool_node.invoke(state)\n",
    "        return response\n",
    "    \n",
    "    # No tools to execute \n",
    "    return state"
   ]
  },
  {
   "cell_type": "code",
   "execution_count": null,
   "id": "30b7fff3",
   "metadata": {},
   "outputs": [],
   "source": []
  }
 ],
 "metadata": {
  "kernelspec": {
   "display_name": "Langgraph-Agent-course",
   "language": "python",
   "name": "python3"
  },
  "language_info": {
   "codemirror_mode": {
    "name": "ipython",
    "version": 3
   },
   "file_extension": ".py",
   "mimetype": "text/x-python",
   "name": "python",
   "nbconvert_exporter": "python",
   "pygments_lexer": "ipython3",
   "version": "3.12.5"
  }
 },
 "nbformat": 4,
 "nbformat_minor": 5
}
