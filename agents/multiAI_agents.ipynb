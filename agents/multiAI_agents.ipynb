{
 "cells": [
  {
   "cell_type": "markdown",
   "id": "96832d19",
   "metadata": {},
   "source": [
    "# Simple Multi AI Agent"
   ]
  },
  {
   "cell_type": "code",
   "execution_count": 49,
   "id": "8e6a9c16",
   "metadata": {},
   "outputs": [
    {
     "data": {
      "text/plain": [
       "True"
      ]
     },
     "execution_count": 49,
     "metadata": {},
     "output_type": "execute_result"
    }
   ],
   "source": [
    "import os \n",
    "from typing import TypedDict, Annotated, List, Literal\n",
    "from langchain_core.messages import BaseMessage, HumanMessage, AIMessage, SystemMessage\n",
    "from langchain_openai import AzureChatOpenAI\n",
    "from langchain_core.tools import tool \n",
    "from langchain_community.tools.tavily_search import TavilySearchResults\n",
    "from langgraph.graph import StateGraph,END \n",
    "from langgraph.prebuilt import create_react_agent\n",
    "from langgraph.checkpoint.memory import MemorySaver\n",
    "from langchain_groq import ChatGroq\n",
    "from dotenv import load_dotenv\n",
    "load_dotenv()"
   ]
  },
  {
   "cell_type": "code",
   "execution_count": 50,
   "id": "ced64bd1",
   "metadata": {},
   "outputs": [],
   "source": [
    "llm_open_ai=AzureChatOpenAI(\n",
    "    azure_deployment='gpt-4o',\n",
    "    api_key=os.getenv('AZURE_OPENAI_GPT_4O_API_KEY'),\n",
    "    azure_endpoint=os.getenv('AZURE_OPENAI_GPT_4O_API_ENDPOINT'),\n",
    "    api_version=os.getenv('AZURE_OPENAI_GPT_4O_API_VERSION')\n",
    ")\n",
    "\n",
    "llm_groq=ChatGroq(model='deepseek-r1-distill-llama-70b',api_key=os.getenv('GROQ_API'))\n"
   ]
  },
  {
   "cell_type": "code",
   "execution_count": 51,
   "id": "1d7046a8",
   "metadata": {},
   "outputs": [],
   "source": [
    "from langgraph.graph import StateGraph, END, MessagesState\n",
    "from langgraph.prebuilt import ToolNode\n",
    "from langgraph.checkpoint.memory import MemorySaver "
   ]
  },
  {
   "cell_type": "code",
   "execution_count": 52,
   "id": "cd6e2301",
   "metadata": {},
   "outputs": [],
   "source": [
    "## Define the state \n",
    "class AgentState(MessagesState):\n",
    "    next_agent:str # which agent should go next "
   ]
  },
  {
   "cell_type": "code",
   "execution_count": 53,
   "id": "511b766d",
   "metadata": {},
   "outputs": [],
   "source": [
    "# create simple tools \n",
    "@tool \n",
    "def search_web(query:str)->str:\n",
    "    \"\"\" \n",
    "    Search the web for information\n",
    "    \"\"\"\n",
    "    search=TavilySearchResults(max_results=3)\n",
    "    results=search.invoke(query)\n",
    "    return results\n",
    "\n",
    "@tool\n",
    "def write_summary(content:str)-> str:\n",
    "    \"\"\" \n",
    "    write a summary of the provided context.\n",
    "    \"\"\"\n",
    "    # simple summary generation \n",
    "    summary=f'Summary of findings:\\n\\n{content[:500]}...'\n",
    "    return summary\n"
   ]
  },
  {
   "cell_type": "code",
   "execution_count": 54,
   "id": "c3aa13bd",
   "metadata": {},
   "outputs": [],
   "source": [
    " # define agent functions (simple approach)\n",
    "def researcher_agent(state:AgentState):\n",
    "    \"\"\" \n",
    "    Researcher agent that searches for information \n",
    "    \"\"\"\n",
    "    messages =state['messages']\n",
    "\n",
    "    # Add system message for contexxt \n",
    "    system_msg=SystemMessage(content=\"You are a research assistant. Use the serach_web tool to find information about the user's request\")\n",
    "\n",
    "    # call LLM with tools \n",
    "    researcher_llm=llm_open_ai.bind_tools([search_web])\n",
    "    response=researcher_llm.invoke([system_msg]+messages)\n",
    "    print(response)\n",
    "    # return the response and route to writer \n",
    "    return {\n",
    "        \"messages\":[response],\n",
    "        \"next_agent\":\"writer\"\n",
    "    }"
   ]
  },
  {
   "cell_type": "code",
   "execution_count": 55,
   "id": "bd6b9e3a",
   "metadata": {},
   "outputs": [],
   "source": [
    "# define write agent \n",
    "def writer_agent(state:AgentState):\n",
    "    \"\"\" \n",
    "    writer agent that creates summaries\n",
    "    \"\"\"\n",
    "    messages=state['messages']\n",
    "\n",
    "    # Add system message \n",
    "    system_msg=SystemMessage(content='you are a technical writer. Review the conversation and create a clear, concise summary of the findings')\n",
    "\n",
    "    # Simple completion without tools \n",
    "    response=llm_open_ai.invoke([system_msg]+messages)\n",
    "    # print(messages)\n",
    "    return {\n",
    "        \"messages\":[response],\n",
    "        \"next_agent\":\"end\"\n",
    "    }\n",
    "\n"
   ]
  },
  {
   "cell_type": "code",
   "execution_count": 56,
   "id": "70e65327",
   "metadata": {},
   "outputs": [],
   "source": [
    "def execute_tools(state: AgentState):\n",
    "    \"\"\" \n",
    "    Execute any pending tool calls \n",
    "    \"\"\"\n",
    "    messages=state['messages']\n",
    "    last_messages=messages[-1]\n",
    "\n",
    "    # Check if there are tool calls to execute \n",
    "    if hasattr(last_messages, \"tool_calls\") and last_messages.tool_calls:\n",
    "        # create tool node and execute \n",
    "        tool_node=ToolNode([search_web, write_summary])\n",
    "        response=tool_node.invoke(state)\n",
    "        return response\n",
    "    \n",
    "    # No tools to execute \n",
    "    return state"
   ]
  },
  {
   "cell_type": "code",
   "execution_count": 58,
   "id": "30b7fff3",
   "metadata": {},
   "outputs": [
    {
     "data": {
      "image/png": "[encoded data removed]",
      "text/plain": [
       "<langgraph.graph.state.CompiledStateGraph object at 0x000001F2F34A7E60>"
      ]
     },
     "execution_count": 58,
     "metadata": {},
     "output_type": "execute_result"
    }
   ],
   "source": [
    "# build graph\n",
    "workflow=StateGraph(AgentState)\n",
    "\n",
    "# Add nodes \n",
    "workflow.add_node('researcher',researcher_agent)\n",
    "workflow.add_node('writer',writer_agent)\n",
    "workflow.add_node('tool_executor',ToolNode([search_web,write_summary]))\n",
    "\n",
    "# Define flow \n",
    "workflow.set_entry_point('researcher')\n",
    "workflow.add_edge('researcher','tool_executor')\n",
    "workflow.add_edge('tool_executor','writer')\n",
    "workflow.add_edge('writer',END)\n",
    "final_workflow=workflow.compile()\n",
    "final_workflow"
   ]
  },
  {
   "cell_type": "code",
   "execution_count": 60,
   "id": "8cb40420",
   "metadata": {},
   "outputs": [
    {
     "name": "stdout",
     "output_type": "stream",
     "text": [
      "content='' additional_kwargs={'tool_calls': [{'id': 'call_XdIYWdzXJqBdl6xbpNPFiO42', 'function': {'arguments': '{\"query\":\"use cases of agentic AI in business\"}', 'name': 'search_web'}, 'type': 'function'}], 'refusal': None} response_metadata={'token_usage': {'completion_tokens': 22, 'prompt_tokens': 74, 'total_tokens': 96, 'completion_tokens_details': {'accepted_prediction_tokens': 0, 'audio_tokens': 0, 'reasoning_tokens': 0, 'rejected_prediction_tokens': 0}, 'prompt_tokens_details': {'audio_tokens': 0, 'cached_tokens': 0}}, 'model_name': 'gpt-4o-2024-11-20', 'system_fingerprint': 'fp_ee1d74bde0', 'id': 'chatcmpl-BtEXfoM5YGbgsnaeMjXQVSEV28PAf', 'service_tier': None, 'prompt_filter_results': [{'prompt_index': 0, 'content_filter_results': {'hate': {'filtered': False, 'severity': 'safe'}, 'jailbreak': {'filtered': False, 'detected': False}, 'self_harm': {'filtered': False, 'severity': 'safe'}, 'sexual': {'filtered': False, 'severity': 'safe'}, 'violence': {'filtered': False, 'severity': 'safe'}}}], 'finish_reason': 'tool_calls', 'logprobs': None, 'content_filter_results': {}} id='run--8f7528ce-88a8-4e2e-9e88-241dfebdea79-0' tool_calls=[{'name': 'search_web', 'args': {'query': 'use cases of agentic AI in business'}, 'id': 'call_XdIYWdzXJqBdl6xbpNPFiO42', 'type': 'tool_call'}] usage_metadata={'input_tokens': 74, 'output_tokens': 22, 'total_tokens': 96, 'input_token_details': {'audio': 0, 'cache_read': 0}, 'output_token_details': {'audio': 0, 'reasoning': 0}}\n",
      "Agentic AI, which autonomously evaluates environments, makes decisions, and takes actions to achieve goals, is transforming business across multiple sectors. Its use cases include:\n",
      "\n",
      "1. **Customer Service**: Supporting clients through automated chatbots, efficient ticket routing, multi-language assistance, and identifying upselling opportunities.\n",
      "2. **Operations Optimization**: Streamlining workflows in IT, human resources, and finance to boost efficiency.\n",
      "3. **Sales and Marketing**: Personalizing customer interactions and automating CRM applications.\n",
      "4. **Research and Development**: Accelerating scientific discoveries and innovation processes.\n",
      "5. **Supply Chain and Logistics**: Enhancing the precision of operations, from inventory management to scheduling.\n",
      "6. **Decision Support**: Analyzing complex data to aid strategic decisions.\n",
      "7. **Sector-Specific Applications**: Customized tasks in healthcare, manufacturing, security, and finance.\n",
      "\n",
      "Ultimately, agentic AI automates repetitive tasks, enables workforce focus on creative endeavors, and provides unprecedented scalability across industries. However, its deployment must consider challenges such as regulatory compliance, security, and workforce adaptation.\n"
     ]
    }
   ],
   "source": [
    "response=final_workflow.invoke({'messages':\"Research about the use case of agentic AI in business\"})\n",
    "print(response['messages'][-1].content)"
   ]
  },
  {
   "cell_type": "code",
   "execution_count": null,
   "id": "3092fd70",
   "metadata": {},
   "outputs": [],
   "source": []
  }
 ],
 "metadata": {
  "kernelspec": {
   "display_name": "Langgraph-Agent-course",
   "language": "python",
   "name": "python3"
  },
  "language_info": {
   "codemirror_mode": {
    "name": "ipython",
    "version": 3
   },
   "file_extension": ".py",
   "mimetype": "text/x-python",
   "name": "python",
   "nbconvert_exporter": "python",
   "pygments_lexer": "ipython3",
   "version": "3.12.5"
  }
 },
 "nbformat": 4,
 "nbformat_minor": 5
}
